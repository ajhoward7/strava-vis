{
 "cells": [
  {
   "cell_type": "markdown",
   "metadata": {},
   "source": [
    "# Activities Processing"
   ]
  },
  {
   "cell_type": "code",
   "execution_count": 108,
   "metadata": {},
   "outputs": [],
   "source": [
    "import pandas as pd\n",
    "from datetime import *\n",
    "import numpy as np\n",
    "import math"
   ]
  },
  {
   "cell_type": "code",
   "execution_count": 109,
   "metadata": {},
   "outputs": [],
   "source": [
    "import  plotly.plotly  as py\n",
    "import plotly.graph_objs as go"
   ]
  },
  {
   "cell_type": "code",
   "execution_count": 110,
   "metadata": {},
   "outputs": [],
   "source": [
    "metres_mile = 1609.34"
   ]
  },
  {
   "cell_type": "code",
   "execution_count": 111,
   "metadata": {},
   "outputs": [],
   "source": [
    "activities_df = pd.read_json('alex_all_acts.json')"
   ]
  },
  {
   "cell_type": "code",
   "execution_count": 112,
   "metadata": {},
   "outputs": [
    {
     "data": {
      "text/plain": [
       "Index(['achievement_count', 'athlete', 'athlete_count', 'average_cadence',\n",
       "       'average_heartrate', 'average_speed', 'average_watts', 'comment_count',\n",
       "       'commute', 'device_watts', 'distance', 'elapsed_time', 'elev_high',\n",
       "       'elev_low', 'end_latlng', 'external_id', 'flagged', 'from_accepted_tag',\n",
       "       'gear_id', 'has_heartrate', 'has_kudoed', 'id', 'kilojoules',\n",
       "       'kudos_count', 'location_city', 'location_country', 'location_state',\n",
       "       'manual', 'map', 'max_heartrate', 'max_speed', 'max_watts',\n",
       "       'moving_time', 'name', 'photo_count', 'pr_count', 'private',\n",
       "       'resource_state', 'start_date', 'start_date_local', 'start_latitude',\n",
       "       'start_latlng', 'start_longitude', 'timezone', 'total_elevation_gain',\n",
       "       'total_photo_count', 'trainer', 'type', 'upload_id', 'utc_offset',\n",
       "       'weighted_average_watts', 'workout_type'],\n",
       "      dtype='object')"
      ]
     },
     "execution_count": 112,
     "metadata": {},
     "output_type": "execute_result"
    }
   ],
   "source": [
    "activities_df.columns"
   ]
  },
  {
   "cell_type": "code",
   "execution_count": 113,
   "metadata": {},
   "outputs": [],
   "source": [
    "activities_df = activities_df[['average_speed','distance','moving_time','name','start_date_local','id','workout_type','type']]\n",
    "activities_df = activities_df[activities_df.type == 'Run']"
   ]
  },
  {
   "cell_type": "code",
   "execution_count": 114,
   "metadata": {},
   "outputs": [],
   "source": [
    "activities_df['url'] = activities_df['id'].apply(lambda x : 'https://www.strava.com/activities/1513967998' + str(x))"
   ]
  },
  {
   "cell_type": "code",
   "execution_count": 115,
   "metadata": {},
   "outputs": [],
   "source": [
    "activities_df.drop('id', axis = 1, inplace = True)"
   ]
  },
  {
   "cell_type": "code",
   "execution_count": 116,
   "metadata": {},
   "outputs": [],
   "source": [
    "activities_df['pace_mile'] = metres_mile / activities_df.average_speed\n",
    "activities_df['pace_km'] = 1000 / activities_df.average_speed"
   ]
  },
  {
   "cell_type": "code",
   "execution_count": 117,
   "metadata": {},
   "outputs": [],
   "source": [
    "activities_df['date'] = pd.to_datetime(activities_df.start_date_local.apply(lambda x : x.split('T')[0]))"
   ]
  },
  {
   "cell_type": "code",
   "execution_count": 118,
   "metadata": {},
   "outputs": [],
   "source": [
    "activities_df.drop(['average_speed','start_date_local', 'type'], axis = 1, inplace = True)"
   ]
  },
  {
   "cell_type": "code",
   "execution_count": 119,
   "metadata": {},
   "outputs": [],
   "source": [
    "activities_df.workout_type = activities_df.workout_type.fillna(0)"
   ]
  },
  {
   "cell_type": "code",
   "execution_count": 120,
   "metadata": {},
   "outputs": [],
   "source": [
    "workout_type_dict = {0:'Run',1:'Race',2:'Long Run',3:'Workout'}"
   ]
  },
  {
   "cell_type": "code",
   "execution_count": 121,
   "metadata": {},
   "outputs": [],
   "source": [
    "activities_df.workout_type = activities_df.workout_type.apply(lambda x : workout_type_dict[x])"
   ]
  },
  {
   "cell_type": "code",
   "execution_count": 122,
   "metadata": {},
   "outputs": [],
   "source": [
    "activities_df['miles'] = activities_df.distance / metres_mile\n",
    "activities_df['Distance (Kilometres)'] = activities_df.distance / 1000"
   ]
  },
  {
   "cell_type": "code",
   "execution_count": 123,
   "metadata": {},
   "outputs": [],
   "source": [
    "activities_df['size'] = activities_df.moving_time.astype('float').apply(lambda x : math.sqrt(x))"
   ]
  },
  {
   "cell_type": "code",
   "execution_count": 124,
   "metadata": {},
   "outputs": [],
   "source": [
    "sizeref = 20*max(activities_df['size'])/(100**2)"
   ]
  },
  {
   "cell_type": "code",
   "execution_count": 291,
   "metadata": {},
   "outputs": [],
   "source": [
    "activities_df['year'] = activities_df.date.apply(lambda x: x.year)"
   ]
  },
  {
   "cell_type": "code",
   "execution_count": 292,
   "metadata": {},
   "outputs": [
    {
     "data": {
      "text/html": [
       "<div>\n",
       "<style scoped>\n",
       "    .dataframe tbody tr th:only-of-type {\n",
       "        vertical-align: middle;\n",
       "    }\n",
       "\n",
       "    .dataframe tbody tr th {\n",
       "        vertical-align: top;\n",
       "    }\n",
       "\n",
       "    .dataframe thead th {\n",
       "        text-align: right;\n",
       "    }\n",
       "</style>\n",
       "<table border=\"1\" class=\"dataframe\">\n",
       "  <thead>\n",
       "    <tr style=\"text-align: right;\">\n",
       "      <th></th>\n",
       "      <th>distance</th>\n",
       "      <th>moving_time</th>\n",
       "      <th>name</th>\n",
       "      <th>workout_type</th>\n",
       "      <th>url</th>\n",
       "      <th>pace_mile</th>\n",
       "      <th>pace_km</th>\n",
       "      <th>date</th>\n",
       "      <th>miles</th>\n",
       "      <th>Distance (Kilometres)</th>\n",
       "      <th>size</th>\n",
       "      <th>text</th>\n",
       "      <th>year</th>\n",
       "    </tr>\n",
       "  </thead>\n",
       "  <tbody>\n",
       "    <tr>\n",
       "      <th>0</th>\n",
       "      <td>10324.0</td>\n",
       "      <td>2649</td>\n",
       "      <td>Morning Run</td>\n",
       "      <td>Run</td>\n",
       "      <td>https://www.strava.com/activities/151396799815...</td>\n",
       "      <td>412.968950</td>\n",
       "      <td>256.607647</td>\n",
       "      <td>2018-04-18</td>\n",
       "      <td>6.415052</td>\n",
       "      <td>10.3240</td>\n",
       "      <td>51.468437</td>\n",
       "      <td>&lt;a href=https://www.strava.com/activities/1513...</td>\n",
       "      <td>2018</td>\n",
       "    </tr>\n",
       "    <tr>\n",
       "      <th>1</th>\n",
       "      <td>4347.8</td>\n",
       "      <td>1156</td>\n",
       "      <td>WD</td>\n",
       "      <td>Run</td>\n",
       "      <td>https://www.strava.com/activities/151396799815...</td>\n",
       "      <td>427.902154</td>\n",
       "      <td>265.886732</td>\n",
       "      <td>2018-04-17</td>\n",
       "      <td>2.701604</td>\n",
       "      <td>4.3478</td>\n",
       "      <td>34.000000</td>\n",
       "      <td>&lt;a href=https://www.strava.com/activities/1513...</td>\n",
       "      <td>2018</td>\n",
       "    </tr>\n",
       "    <tr>\n",
       "      <th>2</th>\n",
       "      <td>4063.7</td>\n",
       "      <td>977</td>\n",
       "      <td>Tune-up before Stanford v2</td>\n",
       "      <td>Workout</td>\n",
       "      <td>https://www.strava.com/activities/151396799815...</td>\n",
       "      <td>386.953595</td>\n",
       "      <td>240.442414</td>\n",
       "      <td>2018-04-17</td>\n",
       "      <td>2.525072</td>\n",
       "      <td>4.0637</td>\n",
       "      <td>31.256999</td>\n",
       "      <td>&lt;a href=https://www.strava.com/activities/1513...</td>\n",
       "      <td>2018</td>\n",
       "    </tr>\n",
       "    <tr>\n",
       "      <th>3</th>\n",
       "      <td>4142.2</td>\n",
       "      <td>1134</td>\n",
       "      <td>WU</td>\n",
       "      <td>Run</td>\n",
       "      <td>https://www.strava.com/activities/151396799815...</td>\n",
       "      <td>440.552970</td>\n",
       "      <td>273.747605</td>\n",
       "      <td>2018-04-17</td>\n",
       "      <td>2.573850</td>\n",
       "      <td>4.1422</td>\n",
       "      <td>33.674916</td>\n",
       "      <td>&lt;a href=https://www.strava.com/activities/1513...</td>\n",
       "      <td>2018</td>\n",
       "    </tr>\n",
       "    <tr>\n",
       "      <th>4</th>\n",
       "      <td>8285.8</td>\n",
       "      <td>2101</td>\n",
       "      <td>Double</td>\n",
       "      <td>Run</td>\n",
       "      <td>https://www.strava.com/activities/151396799815...</td>\n",
       "      <td>408.047667</td>\n",
       "      <td>253.549696</td>\n",
       "      <td>2018-04-16</td>\n",
       "      <td>5.148570</td>\n",
       "      <td>8.2858</td>\n",
       "      <td>45.836667</td>\n",
       "      <td>&lt;a href=https://www.strava.com/activities/1513...</td>\n",
       "      <td>2018</td>\n",
       "    </tr>\n",
       "    <tr>\n",
       "      <th>5</th>\n",
       "      <td>10754.4</td>\n",
       "      <td>2657</td>\n",
       "      <td>Gonna be huge with all this extra protein past...</td>\n",
       "      <td>Run</td>\n",
       "      <td>https://www.strava.com/activities/151396799815...</td>\n",
       "      <td>397.564229</td>\n",
       "      <td>247.035573</td>\n",
       "      <td>2018-04-16</td>\n",
       "      <td>6.682491</td>\n",
       "      <td>10.7544</td>\n",
       "      <td>51.546096</td>\n",
       "      <td>&lt;a href=https://www.strava.com/activities/1513...</td>\n",
       "      <td>2018</td>\n",
       "    </tr>\n",
       "    <tr>\n",
       "      <th>6</th>\n",
       "      <td>21657.4</td>\n",
       "      <td>5271</td>\n",
       "      <td>Post-race LR</td>\n",
       "      <td>Long Run</td>\n",
       "      <td>https://www.strava.com/activities/151396799815...</td>\n",
       "      <td>391.662205</td>\n",
       "      <td>243.368216</td>\n",
       "      <td>2018-04-15</td>\n",
       "      <td>13.457318</td>\n",
       "      <td>21.6574</td>\n",
       "      <td>72.601653</td>\n",
       "      <td>&lt;a href=https://www.strava.com/activities/1513...</td>\n",
       "      <td>2018</td>\n",
       "    </tr>\n",
       "    <tr>\n",
       "      <th>7</th>\n",
       "      <td>1500.0</td>\n",
       "      <td>233</td>\n",
       "      <td>UCLA Invite 1500</td>\n",
       "      <td>Race</td>\n",
       "      <td>https://www.strava.com/activities/151396799815...</td>\n",
       "      <td>249.975148</td>\n",
       "      <td>155.327742</td>\n",
       "      <td>2018-04-14</td>\n",
       "      <td>0.932059</td>\n",
       "      <td>1.5000</td>\n",
       "      <td>15.264338</td>\n",
       "      <td>&lt;a href=https://www.strava.com/activities/1513...</td>\n",
       "      <td>2018</td>\n",
       "    </tr>\n",
       "    <tr>\n",
       "      <th>8</th>\n",
       "      <td>5576.1</td>\n",
       "      <td>1461</td>\n",
       "      <td>WD + “Threshold” + strides</td>\n",
       "      <td>Run</td>\n",
       "      <td>https://www.strava.com/activities/151396799815...</td>\n",
       "      <td>421.624312</td>\n",
       "      <td>261.985853</td>\n",
       "      <td>2018-04-14</td>\n",
       "      <td>3.464837</td>\n",
       "      <td>5.5761</td>\n",
       "      <td>38.223030</td>\n",
       "      <td>&lt;a href=https://www.strava.com/activities/1513...</td>\n",
       "      <td>2018</td>\n",
       "    </tr>\n",
       "    <tr>\n",
       "      <th>9</th>\n",
       "      <td>3914.8</td>\n",
       "      <td>993</td>\n",
       "      <td>WU</td>\n",
       "      <td>Run</td>\n",
       "      <td>https://www.strava.com/activities/151396799815...</td>\n",
       "      <td>408.254693</td>\n",
       "      <td>253.678336</td>\n",
       "      <td>2018-04-14</td>\n",
       "      <td>2.432550</td>\n",
       "      <td>3.9148</td>\n",
       "      <td>31.511903</td>\n",
       "      <td>&lt;a href=https://www.strava.com/activities/1513...</td>\n",
       "      <td>2018</td>\n",
       "    </tr>\n",
       "  </tbody>\n",
       "</table>\n",
       "</div>"
      ],
      "text/plain": [
       "   distance  moving_time                                               name  \\\n",
       "0   10324.0         2649                                        Morning Run   \n",
       "1    4347.8         1156                                                 WD   \n",
       "2    4063.7          977                         Tune-up before Stanford v2   \n",
       "3    4142.2         1134                                                 WU   \n",
       "4    8285.8         2101                                             Double   \n",
       "5   10754.4         2657  Gonna be huge with all this extra protein past...   \n",
       "6   21657.4         5271                                       Post-race LR   \n",
       "7    1500.0          233                                   UCLA Invite 1500   \n",
       "8    5576.1         1461                         WD + “Threshold” + strides   \n",
       "9    3914.8          993                                                 WU   \n",
       "\n",
       "  workout_type                                                url   pace_mile  \\\n",
       "0          Run  https://www.strava.com/activities/151396799815...  412.968950   \n",
       "1          Run  https://www.strava.com/activities/151396799815...  427.902154   \n",
       "2      Workout  https://www.strava.com/activities/151396799815...  386.953595   \n",
       "3          Run  https://www.strava.com/activities/151396799815...  440.552970   \n",
       "4          Run  https://www.strava.com/activities/151396799815...  408.047667   \n",
       "5          Run  https://www.strava.com/activities/151396799815...  397.564229   \n",
       "6     Long Run  https://www.strava.com/activities/151396799815...  391.662205   \n",
       "7         Race  https://www.strava.com/activities/151396799815...  249.975148   \n",
       "8          Run  https://www.strava.com/activities/151396799815...  421.624312   \n",
       "9          Run  https://www.strava.com/activities/151396799815...  408.254693   \n",
       "\n",
       "      pace_km       date      miles  Distance (Kilometres)       size  \\\n",
       "0  256.607647 2018-04-18   6.415052                10.3240  51.468437   \n",
       "1  265.886732 2018-04-17   2.701604                 4.3478  34.000000   \n",
       "2  240.442414 2018-04-17   2.525072                 4.0637  31.256999   \n",
       "3  273.747605 2018-04-17   2.573850                 4.1422  33.674916   \n",
       "4  253.549696 2018-04-16   5.148570                 8.2858  45.836667   \n",
       "5  247.035573 2018-04-16   6.682491                10.7544  51.546096   \n",
       "6  243.368216 2018-04-15  13.457318                21.6574  72.601653   \n",
       "7  155.327742 2018-04-14   0.932059                 1.5000  15.264338   \n",
       "8  261.985853 2018-04-14   3.464837                 5.5761  38.223030   \n",
       "9  253.678336 2018-04-14   2.432550                 3.9148  31.511903   \n",
       "\n",
       "                                                text  year  \n",
       "0  <a href=https://www.strava.com/activities/1513...  2018  \n",
       "1  <a href=https://www.strava.com/activities/1513...  2018  \n",
       "2  <a href=https://www.strava.com/activities/1513...  2018  \n",
       "3  <a href=https://www.strava.com/activities/1513...  2018  \n",
       "4  <a href=https://www.strava.com/activities/1513...  2018  \n",
       "5  <a href=https://www.strava.com/activities/1513...  2018  \n",
       "6  <a href=https://www.strava.com/activities/1513...  2018  \n",
       "7  <a href=https://www.strava.com/activities/1513...  2018  \n",
       "8  <a href=https://www.strava.com/activities/1513...  2018  \n",
       "9  <a href=https://www.strava.com/activities/1513...  2018  "
      ]
     },
     "execution_count": 292,
     "metadata": {},
     "output_type": "execute_result"
    }
   ],
   "source": [
    "activities_df.head(10)"
   ]
  },
  {
   "cell_type": "code",
   "execution_count": 254,
   "metadata": {},
   "outputs": [],
   "source": [
    "activities_text = []\n",
    "for i in range(len(activities_df)):\n",
    "    row = activities_df.iloc[i,]\n",
    "    activities_text.append('<a href={}>{}</a><br>{}<br>'.format(row['url'],row['name'],row['date'].date()) + '{:.1f} miles<br>{:.2f} seconds/mile'.format(row['miles'], row['pace_mile']))\n",
    "\n",
    "activities_df['text'] = activities_text"
   ]
  },
  {
   "cell_type": "code",
   "execution_count": 255,
   "metadata": {},
   "outputs": [
    {
     "data": {
      "text/plain": [
       "'<a href=https://www.strava.com/activities/15139679981516810737>Morning Run</a><br>2018-04-18<br>6.4 miles<br>412.97 seconds/mile'"
      ]
     },
     "execution_count": 255,
     "metadata": {},
     "output_type": "execute_result"
    }
   ],
   "source": [
    "activities_text[0]"
   ]
  },
  {
   "cell_type": "markdown",
   "metadata": {},
   "source": [
    "## Bubble Charts:"
   ]
  },
  {
   "cell_type": "code",
   "execution_count": 256,
   "metadata": {},
   "outputs": [],
   "source": [
    "data = []\n",
    "for run_type in ['Run','Workout','Long Run','Race']:\n",
    "    trace = go.Scatter(\n",
    "        x=activities_df['miles'][activities_df['workout_type'] == run_type],\n",
    "        y=activities_df['pace_mile'][activities_df['workout_type'] == run_type],\n",
    "        mode='markers',\n",
    "        hoverinfo='text',\n",
    "        opacity = 0.8,\n",
    "        name=run_type,\n",
    "        hovertext = activities_df['text'][activities_df['workout_type'] == run_type],\n",
    "        marker=dict(\n",
    "            symbol='circle',\n",
    "            sizemode='area',\n",
    "            sizeref=sizeref,\n",
    "            size=activities_df['size'][activities_df['workout_type'] == run_type],\n",
    "            line=dict(\n",
    "                width=2\n",
    "            ),\n",
    "        )\n",
    "    )\n",
    "    data.append(trace)"
   ]
  },
  {
   "cell_type": "code",
   "execution_count": 257,
   "metadata": {},
   "outputs": [],
   "source": [
    "layout = go.Layout(\n",
    "    title='Run Summary',\n",
    "    hovermode='closest',\n",
    "    xaxis=dict(\n",
    "        title='Distance (Miles)',\n",
    "        gridcolor='rgb(255, 255, 255)',\n",
    "        range=[0, 20],\n",
    "        zerolinewidth=1,\n",
    "        ticklen=5,\n",
    "        gridwidth=2,\n",
    "    ),\n",
    "    yaxis=dict(\n",
    "        title='Pace (Seconds per Mile)',\n",
    "        gridcolor='rgb(255, 255, 255)',\n",
    "        range=[0,600],\n",
    "        zerolinewidth=1,\n",
    "        ticklen=5,\n",
    "        gridwidth=2,\n",
    "    ),\n",
    "    paper_bgcolor='rgb(243, 243, 243)',\n",
    "    plot_bgcolor='rgb(243, 243, 243)',\n",
    ")"
   ]
  },
  {
   "cell_type": "code",
   "execution_count": 258,
   "metadata": {},
   "outputs": [],
   "source": [
    "fig = go.Figure(data=data, layout=layout)"
   ]
  },
  {
   "cell_type": "code",
   "execution_count": 259,
   "metadata": {},
   "outputs": [
    {
     "data": {
      "text/html": [
       "<iframe id=\"igraph\" scrolling=\"no\" style=\"border:none;\" seamless=\"seamless\" src=\"https://plot.ly/~ajhoward7/40.embed\" height=\"525px\" width=\"100%\"></iframe>"
      ],
      "text/plain": [
       "<plotly.tools.PlotlyDisplay object>"
      ]
     },
     "execution_count": 259,
     "metadata": {},
     "output_type": "execute_result"
    }
   ],
   "source": [
    "py.iplot(fig, filename='bubble_chart_test.fig')"
   ]
  },
  {
   "cell_type": "markdown",
   "metadata": {},
   "source": [
    "Bits to improve:\n",
    "- filter (w/ button)\n",
    "- hyperlinks\n",
    "- sort out pace in minutes and seconds?"
   ]
  },
  {
   "cell_type": "markdown",
   "metadata": {},
   "source": [
    "## Parallel Coordinates:"
   ]
  },
  {
   "cell_type": "code",
   "execution_count": 300,
   "metadata": {},
   "outputs": [],
   "source": [
    "activities_grouped_df = activities_df.groupby(['date'], as_index = False)['miles'].sum()"
   ]
  },
  {
   "cell_type": "code",
   "execution_count": 294,
   "metadata": {},
   "outputs": [],
   "source": [
    "activities_grouped_df['dow'] = activities_grouped_df.date.apply(lambda x : x.weekday())\n",
    "activities_grouped_df['week_start'] = activities_grouped_df.date.apply(lambda x : x - timedelta(days=x.weekday()))"
   ]
  },
  {
   "cell_type": "code",
   "execution_count": 295,
   "metadata": {},
   "outputs": [],
   "source": [
    "miles_per_week = activities_grouped_df.groupby(['week_start'], as_index = False).miles.sum()"
   ]
  },
  {
   "cell_type": "code",
   "execution_count": 296,
   "metadata": {},
   "outputs": [],
   "source": [
    "by_week_df = pd.DataFrame(activities_grouped_df.week_start.unique(), columns = ['week_start')"
   ]
  },
  {
   "cell_type": "code",
   "execution_count": 297,
   "metadata": {},
   "outputs": [],
   "source": [
    "for i in range(7):\n",
    "    by_week_df['{}'.format(i)] = i"
   ]
  },
  {
   "cell_type": "code",
   "execution_count": 298,
   "metadata": {},
   "outputs": [],
   "source": [
    "for i in range(7):\n",
    "    by_week_df = pd.merge(by_week_df, activities_grouped_df, left_on = ['week_start','{}'.format(i)], right_on = ['week_start','dow'], how='left',suffixes = ('','_{}'.format(i)))"
   ]
  },
  {
   "cell_type": "code",
   "execution_count": 302,
   "metadata": {},
   "outputs": [],
   "source": [
    "by_week_df = by_week_df[['week_start','miles','miles_1','miles_2','miles_3','miles_4','miles_5','miles_6']]\n",
    "by_week_df.columns = ['week_start','miles_0','miles_1','miles_2','miles_3','miles_4','miles_5','miles_6']"
   ]
  },
  {
   "cell_type": "code",
   "execution_count": 304,
   "metadata": {},
   "outputs": [],
   "source": [
    "by_week_df['year'] = by_week_df['week_start'].apply(lambda x : x.year)"
   ]
  },
  {
   "cell_type": "code",
   "execution_count": 305,
   "metadata": {},
   "outputs": [],
   "source": [
    "by_week_df.fillna(0, inplace = True)"
   ]
  },
  {
   "cell_type": "code",
   "execution_count": 306,
   "metadata": {},
   "outputs": [],
   "source": [
    "by_week_df = pd.merge(by_week_df, miles_per_week, how='left', on='week_start')"
   ]
  },
  {
   "cell_type": "code",
   "execution_count": 307,
   "metadata": {},
   "outputs": [],
   "source": [
    "days_dict = {0:'Monday',1:'Tuesday',2:'Wednesday',3:'Thursday',4:'Friday',5:'Saturday',6:'Sunday'}"
   ]
  },
  {
   "cell_type": "code",
   "execution_count": 308,
   "metadata": {},
   "outputs": [],
   "source": [
    "dimensions = list()\n",
    "\n",
    "for i in range(7):\n",
    "    dimensions.append(\n",
    "            dict(range = [0,20],\n",
    "                constraintrange = [0,20],\n",
    "                label = '{}'.format(days_dict[i]), values = by_week_df['miles_{}'.format(i)]))"
   ]
  },
  {
   "cell_type": "code",
   "execution_count": 309,
   "metadata": {},
   "outputs": [],
   "source": [
    "data = [\n",
    "    go.Parcoords(\n",
    "        line = dict(color = by_week_df['miles'],\n",
    "                   colorscale = 'Hot',\n",
    "                   showscale = True,\n",
    "                   reversescale=True),\n",
    "        opacity=0.5,\n",
    "        dimensions = dimensions,hoverinfo='text')\n",
    "        \n",
    "]"
   ]
  },
  {
   "cell_type": "code",
   "execution_count": 310,
   "metadata": {},
   "outputs": [],
   "source": [
    "layout = go.Layout(\n",
    "    plot_bgcolor = '#E5E5E5',\n",
    "    paper_bgcolor = '#E5E5E5',\n",
    "    title = 'Miles per week broken down by day'\n",
    ")"
   ]
  },
  {
   "cell_type": "code",
   "execution_count": 311,
   "metadata": {},
   "outputs": [
    {
     "data": {
      "text/html": [
       "<iframe id=\"igraph\" scrolling=\"no\" style=\"border:none;\" seamless=\"seamless\" src=\"https://plot.ly/~ajhoward7/45.embed\" height=\"525px\" width=\"100%\"></iframe>"
      ],
      "text/plain": [
       "<plotly.tools.PlotlyDisplay object>"
      ]
     },
     "execution_count": 311,
     "metadata": {},
     "output_type": "execute_result"
    }
   ],
   "source": [
    "fig = go.Figure(data = data, layout = layout)\n",
    "py.iplot(fig, filename = 'parcoords')"
   ]
  },
  {
   "cell_type": "markdown",
   "metadata": {},
   "source": [
    "# Stacked Bar Charts"
   ]
  },
  {
   "cell_type": "code",
   "execution_count": 352,
   "metadata": {},
   "outputs": [],
   "source": [
    "by_week_df['week_end'] = by_week_df['week_start'].apply(lambda x: (x + timedelta(days=6)).date())"
   ]
  },
  {
   "cell_type": "code",
   "execution_count": 347,
   "metadata": {},
   "outputs": [],
   "source": [
    "data = []\n",
    "for i in range(7):\n",
    "    data.append(go.Bar(\n",
    "        x=by_week_df['week_start'],\n",
    "        y=by_week_df['miles_{}'.format(i)],\n",
    "        name=days_dict[i]))"
   ]
  },
  {
   "cell_type": "code",
   "execution_count": 348,
   "metadata": {},
   "outputs": [],
   "source": [
    "layout = go.Layout(\n",
    "    barmode='stack'\n",
    ")"
   ]
  },
  {
   "cell_type": "code",
   "execution_count": 357,
   "metadata": {},
   "outputs": [],
   "source": [
    "layout = dict(\n",
    "    barmode='stack',\n",
    "    hovermode='closest',\n",
    "    title='Miles per week',\n",
    "    xaxis=dict(\n",
    "        rangeselector=dict(\n",
    "            buttons=list([\n",
    "                dict(count=1,\n",
    "                     label='1m',\n",
    "                     step='month',\n",
    "                     stepmode='backward'),\n",
    "                dict(count=6,\n",
    "                     label='6m',\n",
    "                     step='month',\n",
    "                     stepmode='backward'),\n",
    "                dict(count=1,\n",
    "                    label='YTD',\n",
    "                    step='year',\n",
    "                    stepmode='todate'),\n",
    "                dict(count=1,\n",
    "                    label='1y',\n",
    "                    step='year',\n",
    "                    stepmode='backward'),\n",
    "                dict(step='all')\n",
    "            ])\n",
    "        ),\n",
    "        rangeslider=dict(),\n",
    "        type='date'\n",
    "    )\n",
    ")\n"
   ]
  },
  {
   "cell_type": "code",
   "execution_count": 358,
   "metadata": {},
   "outputs": [
    {
     "data": {
      "text/html": [
       "<iframe id=\"igraph\" scrolling=\"no\" style=\"border:none;\" seamless=\"seamless\" src=\"https://plot.ly/~ajhoward7/47.embed\" height=\"525px\" width=\"100%\"></iframe>"
      ],
      "text/plain": [
       "<plotly.tools.PlotlyDisplay object>"
      ]
     },
     "execution_count": 358,
     "metadata": {},
     "output_type": "execute_result"
    }
   ],
   "source": [
    "fig = go.Figure(data=data, layout=layout)\n",
    "py.iplot(fig, filename='stacked-bar')\n",
    "\n",
    "# Seems to work better with smaller number of weeks - information sort of gets lost otherwise"
   ]
  },
  {
   "cell_type": "markdown",
   "metadata": {},
   "source": [
    "Maybe split this one up now by workout/long run/race"
   ]
  },
  {
   "cell_type": "markdown",
   "metadata": {},
   "source": [
    "## Adding Animation:"
   ]
  },
  {
   "cell_type": "code",
   "execution_count": 327,
   "metadata": {},
   "outputs": [],
   "source": [
    "figure = {\n",
    "    'data': [],\n",
    "    'layout': {},\n",
    "    'frames': []\n",
    "}"
   ]
  },
  {
   "cell_type": "code",
   "execution_count": 328,
   "metadata": {},
   "outputs": [],
   "source": [
    "figure['layout']['yaxis'] = {'title': 'Miles per week'}\n",
    "figure['layout']['hovermode'] = 'closest'\n",
    "figure['layout']['sliders'] = {\n",
    "    'args': [\n",
    "        'transition', {\n",
    "            'duration': 400,\n",
    "            'easing': 'cubic-in-out'\n",
    "        }\n",
    "    ],\n",
    "    'initialValue': min(by_week_df.year),\n",
    "    'plotlycommand': 'animate',\n",
    "    'values': years,\n",
    "    'visible': True\n",
    "}"
   ]
  },
  {
   "cell_type": "code",
   "execution_count": 329,
   "metadata": {},
   "outputs": [],
   "source": [
    "figure['layout']['updatemenus'] = [\n",
    "    {\n",
    "        'buttons': [\n",
    "            {\n",
    "                'args': [None, {'frame': {'duration': 500, 'redraw': False},\n",
    "                         'fromcurrent': True, 'transition': {'duration': 300, 'easing': 'quadratic-in-out'}}],\n",
    "                'label': 'Play',\n",
    "                'method': 'animate'\n",
    "            },\n",
    "            {\n",
    "                'args': [[None], {'frame': {'duration': 0, 'redraw': False}, 'mode': 'immediate',\n",
    "                'transition': {'duration': 0}}],\n",
    "                'label': 'Pause',\n",
    "                'method': 'animate'\n",
    "            }\n",
    "        ],\n",
    "        'direction': 'left',\n",
    "        'pad': {'r': 10, 't': 87},\n",
    "        'showactive': False,\n",
    "        'type': 'buttons',\n",
    "        'x': 0.1,\n",
    "        'xanchor': 'right',\n",
    "        'y': 0,\n",
    "        'yanchor': 'top'\n",
    "    }\n",
    "]"
   ]
  },
  {
   "cell_type": "code",
   "execution_count": 330,
   "metadata": {},
   "outputs": [],
   "source": [
    "sliders_dict = {\n",
    "    'active': 0,\n",
    "    'yanchor': 'top',\n",
    "    'xanchor': 'left',\n",
    "    'currentvalue': {\n",
    "        'font': {'size': 20},\n",
    "        'prefix': 'Year:',\n",
    "        'visible': True,\n",
    "        'xanchor': 'right'\n",
    "    },\n",
    "    'transition': {'duration': 300, 'easing': 'cubic-in-out'},\n",
    "    'pad': {'b': 10, 't': 50},\n",
    "    'len': 0.9,\n",
    "    'x': 0.1,\n",
    "    'y': 0,\n",
    "    'steps': []\n",
    "}"
   ]
  },
  {
   "cell_type": "code",
   "execution_count": 331,
   "metadata": {},
   "outputs": [],
   "source": [
    "years = by_week_df.year.unique()"
   ]
  },
  {
   "cell_type": "code",
   "execution_count": 341,
   "metadata": {},
   "outputs": [],
   "source": [
    "year = min(by_week_df.year)\n",
    "for i in range(7):\n",
    "    figure['data'].append(go.Bar(\n",
    "        x=by_week_df['week_start'][by_week_df.year==year],\n",
    "        y=by_week_df['miles_{}'.format(i)][by_week_df.year==year],\n",
    "        name=days_dict[i]))\n",
    "    figure['layout']['barmode']='stacked'"
   ]
  },
  {
   "cell_type": "code",
   "execution_count": 344,
   "metadata": {},
   "outputs": [],
   "source": [
    "for year in years:\n",
    "    frame = {'data': [], 'layout':{},'name': str(year)}\n",
    "    for i in range(7):\n",
    "        frame['data'].append(go.Bar(\n",
    "            x=by_week_df['week_start'][by_week_df.year==year],\n",
    "            y=by_week_df['miles_{}'.format(i)][by_week_df.year==year],\n",
    "            name=days_dict[i]))\n",
    "        frame['layout']['barmode']='stacked'\n",
    "\n",
    "    figure['frames'].append(frame)\n",
    "    slider_step = {'args': [\n",
    "        [year],\n",
    "        {'frame': {'duration': 300, 'redraw':True},\n",
    "         'mode': 'immediate',\n",
    "       'transition': {'duration': 300}}\n",
    "     ],\n",
    "     'label': year,\n",
    "     'method': 'animate'}\n",
    "    sliders_dict['steps'].append(slider_step)\n",
    "    "
   ]
  },
  {
   "cell_type": "code",
   "execution_count": 345,
   "metadata": {},
   "outputs": [],
   "source": [
    "figure['layout']['sliders'] = [sliders_dict]"
   ]
  },
  {
   "cell_type": "code",
   "execution_count": 346,
   "metadata": {},
   "outputs": [
    {
     "data": {
      "text/html": [
       "<iframe id=\"igraph\" scrolling=\"no\" style=\"border:none;\" seamless=\"seamless\" src=\"https://plot.ly/~ajhoward7/47.embed\" height=\"525px\" width=\"100%\"></iframe>"
      ],
      "text/plain": [
       "<plotly.tools.PlotlyDisplay object>"
      ]
     },
     "execution_count": 346,
     "metadata": {},
     "output_type": "execute_result"
    }
   ],
   "source": [
    "py.iplot(figure, filename='stacked-bar')"
   ]
  },
  {
   "cell_type": "code",
   "execution_count": null,
   "metadata": {},
   "outputs": [],
   "source": []
  }
 ],
 "metadata": {
  "kernelspec": {
   "display_name": "Python 3",
   "language": "python",
   "name": "python3"
  },
  "language_info": {
   "codemirror_mode": {
    "name": "ipython",
    "version": 3
   },
   "file_extension": ".py",
   "mimetype": "text/x-python",
   "name": "python",
   "nbconvert_exporter": "python",
   "pygments_lexer": "ipython3",
   "version": "3.6.3"
  }
 },
 "nbformat": 4,
 "nbformat_minor": 2
}

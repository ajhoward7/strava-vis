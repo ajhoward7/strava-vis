{
 "cells": [
  {
   "cell_type": "markdown",
   "metadata": {},
   "source": [
    "# Strava-Vis: Beta Release\n",
    "**Alex Howard & Taylor Pellerin**"
   ]
  },
  {
   "cell_type": "code",
   "execution_count": 1,
   "metadata": {
    "collapsed": true
   },
   "outputs": [],
   "source": [
    "import pandas as pd\n",
    "from datetime import *\n",
    "import numpy as np\n",
    "import math\n",
    "import  plotly.plotly  as py\n",
    "import plotly.graph_objs as go\n",
    "import json\n",
    "from geoplotlib.layers import BaseLayer\n",
    "from geoplotlib.core import BatchPainter\n",
    "import geoplotlib\n",
    "from geoplotlib.colors import colorbrewer\n",
    "from geoplotlib.utils import epoch_to_str, BoundingBox, read_csv"
   ]
  },
  {
   "cell_type": "code",
   "execution_count": 2,
   "metadata": {
    "collapsed": true
   },
   "outputs": [],
   "source": [
    "metres_mile = 1609.34\n",
    "workout_type_dict = {0:'Run',1:'Race',2:'Long Run',3:'Workout'}"
   ]
  },
  {
   "cell_type": "markdown",
   "metadata": {},
   "source": [
    "## Data Pre-Processing"
   ]
  },
  {
   "cell_type": "code",
   "execution_count": 3,
   "metadata": {
    "collapsed": true
   },
   "outputs": [],
   "source": [
    "data = json.load(open('alex_activities_latlng.json'))"
   ]
  },
  {
   "cell_type": "code",
   "execution_count": 11,
   "metadata": {},
   "outputs": [
    {
     "data": {
      "text/plain": [
       "200"
      ]
     },
     "execution_count": 11,
     "metadata": {},
     "output_type": "execute_result"
    }
   ],
   "source": [
    "len(data)"
   ]
  },
  {
   "cell_type": "code",
   "execution_count": 4,
   "metadata": {
    "collapsed": true
   },
   "outputs": [],
   "source": [
    "sample = data"
   ]
  },
  {
   "cell_type": "code",
   "execution_count": 5,
   "metadata": {
    "collapsed": true
   },
   "outputs": [],
   "source": [
    "alex_csv = \"runner_id,lat,lon,timestamp\\n\"\n",
    "\n",
    "for i in range(len(sample)):\n",
    "    time_stamp = 0\n",
    "    try:\n",
    "        lat_lng = sample[i][0][\"data\"]\n",
    "    except: continue\n",
    "    try:\n",
    "        for lat, lon in lat_lng:\n",
    "            time_stamp += 120\n",
    "            alex_csv += \",\".join([str(i),\n",
    "                                  str(lat),\n",
    "                                  str(lon),\n",
    "                                  str(time_stamp)\n",
    "                                 ]) + \"\\n\"\n",
    "    except: pass\n",
    "\n",
    "f = open(\"alex.csv\", \"w\") \n",
    "f.write(alex_csv) \n",
    "f.close()"
   ]
  },
  {
   "cell_type": "code",
   "execution_count": 6,
   "metadata": {
    "collapsed": true
   },
   "outputs": [],
   "source": [
    "activities_df = pd.read_json('alex_all_acts.json')\n",
    "data = json.load(open('alex_activities_latlng.json'))"
   ]
  },
  {
   "cell_type": "code",
   "execution_count": 7,
   "metadata": {},
   "outputs": [
    {
     "data": {
      "text/html": [
       "<div>\n",
       "<style>\n",
       "    .dataframe thead tr:only-child th {\n",
       "        text-align: right;\n",
       "    }\n",
       "\n",
       "    .dataframe thead th {\n",
       "        text-align: left;\n",
       "    }\n",
       "\n",
       "    .dataframe tbody tr th {\n",
       "        vertical-align: top;\n",
       "    }\n",
       "</style>\n",
       "<table border=\"1\" class=\"dataframe\">\n",
       "  <thead>\n",
       "    <tr style=\"text-align: right;\">\n",
       "      <th></th>\n",
       "      <th>achievement_count</th>\n",
       "      <th>athlete</th>\n",
       "      <th>athlete_count</th>\n",
       "      <th>average_cadence</th>\n",
       "      <th>average_heartrate</th>\n",
       "      <th>average_speed</th>\n",
       "      <th>average_watts</th>\n",
       "      <th>comment_count</th>\n",
       "      <th>commute</th>\n",
       "      <th>device_watts</th>\n",
       "      <th>...</th>\n",
       "      <th>start_longitude</th>\n",
       "      <th>timezone</th>\n",
       "      <th>total_elevation_gain</th>\n",
       "      <th>total_photo_count</th>\n",
       "      <th>trainer</th>\n",
       "      <th>type</th>\n",
       "      <th>upload_id</th>\n",
       "      <th>utc_offset</th>\n",
       "      <th>weighted_average_watts</th>\n",
       "      <th>workout_type</th>\n",
       "    </tr>\n",
       "  </thead>\n",
       "  <tbody>\n",
       "    <tr>\n",
       "      <th>0</th>\n",
       "      <td>0</td>\n",
       "      <td>{u'resource_state': 1, u'id': 6831078}</td>\n",
       "      <td>1</td>\n",
       "      <td>91.4</td>\n",
       "      <td>NaN</td>\n",
       "      <td>3.897</td>\n",
       "      <td>NaN</td>\n",
       "      <td>0</td>\n",
       "      <td>False</td>\n",
       "      <td>NaN</td>\n",
       "      <td>...</td>\n",
       "      <td>-122.45</td>\n",
       "      <td>(GMT-08:00) America/Los_Angeles</td>\n",
       "      <td>116.9</td>\n",
       "      <td>0</td>\n",
       "      <td>False</td>\n",
       "      <td>Run</td>\n",
       "      <td>1.632966e+09</td>\n",
       "      <td>-25200</td>\n",
       "      <td>NaN</td>\n",
       "      <td>NaN</td>\n",
       "    </tr>\n",
       "    <tr>\n",
       "      <th>1</th>\n",
       "      <td>0</td>\n",
       "      <td>{u'resource_state': 1, u'id': 6831078}</td>\n",
       "      <td>2</td>\n",
       "      <td>91.0</td>\n",
       "      <td>NaN</td>\n",
       "      <td>3.761</td>\n",
       "      <td>NaN</td>\n",
       "      <td>0</td>\n",
       "      <td>False</td>\n",
       "      <td>NaN</td>\n",
       "      <td>...</td>\n",
       "      <td>-122.46</td>\n",
       "      <td>(GMT-08:00) America/Los_Angeles</td>\n",
       "      <td>25.2</td>\n",
       "      <td>0</td>\n",
       "      <td>False</td>\n",
       "      <td>Run</td>\n",
       "      <td>1.630031e+09</td>\n",
       "      <td>-25200</td>\n",
       "      <td>NaN</td>\n",
       "      <td>0.0</td>\n",
       "    </tr>\n",
       "    <tr>\n",
       "      <th>2</th>\n",
       "      <td>3</td>\n",
       "      <td>{u'resource_state': 1, u'id': 6831078}</td>\n",
       "      <td>2</td>\n",
       "      <td>91.5</td>\n",
       "      <td>NaN</td>\n",
       "      <td>4.159</td>\n",
       "      <td>NaN</td>\n",
       "      <td>0</td>\n",
       "      <td>False</td>\n",
       "      <td>NaN</td>\n",
       "      <td>...</td>\n",
       "      <td>-122.46</td>\n",
       "      <td>(GMT-08:00) America/Los_Angeles</td>\n",
       "      <td>0.0</td>\n",
       "      <td>0</td>\n",
       "      <td>False</td>\n",
       "      <td>Run</td>\n",
       "      <td>1.630035e+09</td>\n",
       "      <td>-25200</td>\n",
       "      <td>NaN</td>\n",
       "      <td>3.0</td>\n",
       "    </tr>\n",
       "    <tr>\n",
       "      <th>3</th>\n",
       "      <td>0</td>\n",
       "      <td>{u'resource_state': 1, u'id': 6831078}</td>\n",
       "      <td>1</td>\n",
       "      <td>90.4</td>\n",
       "      <td>NaN</td>\n",
       "      <td>3.653</td>\n",
       "      <td>NaN</td>\n",
       "      <td>0</td>\n",
       "      <td>False</td>\n",
       "      <td>NaN</td>\n",
       "      <td>...</td>\n",
       "      <td>-122.45</td>\n",
       "      <td>(GMT-08:00) America/Los_Angeles</td>\n",
       "      <td>26.1</td>\n",
       "      <td>0</td>\n",
       "      <td>False</td>\n",
       "      <td>Run</td>\n",
       "      <td>1.629909e+09</td>\n",
       "      <td>-25200</td>\n",
       "      <td>NaN</td>\n",
       "      <td>0.0</td>\n",
       "    </tr>\n",
       "    <tr>\n",
       "      <th>4</th>\n",
       "      <td>0</td>\n",
       "      <td>{u'resource_state': 1, u'id': 6831078}</td>\n",
       "      <td>1</td>\n",
       "      <td>91.5</td>\n",
       "      <td>NaN</td>\n",
       "      <td>3.944</td>\n",
       "      <td>NaN</td>\n",
       "      <td>0</td>\n",
       "      <td>False</td>\n",
       "      <td>NaN</td>\n",
       "      <td>...</td>\n",
       "      <td>-122.45</td>\n",
       "      <td>(GMT-08:00) America/Los_Angeles</td>\n",
       "      <td>53.5</td>\n",
       "      <td>0</td>\n",
       "      <td>False</td>\n",
       "      <td>Run</td>\n",
       "      <td>1.628983e+09</td>\n",
       "      <td>-25200</td>\n",
       "      <td>NaN</td>\n",
       "      <td>0.0</td>\n",
       "    </tr>\n",
       "  </tbody>\n",
       "</table>\n",
       "<p>5 rows × 52 columns</p>\n",
       "</div>"
      ],
      "text/plain": [
       "   achievement_count                                 athlete  athlete_count  \\\n",
       "0                  0  {u'resource_state': 1, u'id': 6831078}              1   \n",
       "1                  0  {u'resource_state': 1, u'id': 6831078}              2   \n",
       "2                  3  {u'resource_state': 1, u'id': 6831078}              2   \n",
       "3                  0  {u'resource_state': 1, u'id': 6831078}              1   \n",
       "4                  0  {u'resource_state': 1, u'id': 6831078}              1   \n",
       "\n",
       "   average_cadence  average_heartrate  average_speed  average_watts  \\\n",
       "0             91.4                NaN          3.897            NaN   \n",
       "1             91.0                NaN          3.761            NaN   \n",
       "2             91.5                NaN          4.159            NaN   \n",
       "3             90.4                NaN          3.653            NaN   \n",
       "4             91.5                NaN          3.944            NaN   \n",
       "\n",
       "   comment_count  commute  device_watts      ...       start_longitude  \\\n",
       "0              0    False           NaN      ...               -122.45   \n",
       "1              0    False           NaN      ...               -122.46   \n",
       "2              0    False           NaN      ...               -122.46   \n",
       "3              0    False           NaN      ...               -122.45   \n",
       "4              0    False           NaN      ...               -122.45   \n",
       "\n",
       "                          timezone  total_elevation_gain  total_photo_count  \\\n",
       "0  (GMT-08:00) America/Los_Angeles                 116.9                  0   \n",
       "1  (GMT-08:00) America/Los_Angeles                  25.2                  0   \n",
       "2  (GMT-08:00) America/Los_Angeles                   0.0                  0   \n",
       "3  (GMT-08:00) America/Los_Angeles                  26.1                  0   \n",
       "4  (GMT-08:00) America/Los_Angeles                  53.5                  0   \n",
       "\n",
       "  trainer type     upload_id  utc_offset weighted_average_watts  workout_type  \n",
       "0   False  Run  1.632966e+09      -25200                    NaN           NaN  \n",
       "1   False  Run  1.630031e+09      -25200                    NaN           0.0  \n",
       "2   False  Run  1.630035e+09      -25200                    NaN           3.0  \n",
       "3   False  Run  1.629909e+09      -25200                    NaN           0.0  \n",
       "4   False  Run  1.628983e+09      -25200                    NaN           0.0  \n",
       "\n",
       "[5 rows x 52 columns]"
      ]
     },
     "execution_count": 7,
     "metadata": {},
     "output_type": "execute_result"
    }
   ],
   "source": [
    "activities_df.head()"
   ]
  },
  {
   "cell_type": "code",
   "execution_count": 8,
   "metadata": {
    "collapsed": true
   },
   "outputs": [],
   "source": [
    "activities_df = activities_df[['average_speed','distance','moving_time','name','start_date_local','id','workout_type','type']]\n",
    "activities_df = activities_df[activities_df.type == 'Run']"
   ]
  },
  {
   "cell_type": "code",
   "execution_count": 9,
   "metadata": {
    "collapsed": true
   },
   "outputs": [],
   "source": [
    "activities_df['pace_mile'] = metres_mile / activities_df.average_speed\n",
    "activities_df['pace_km'] = 1000 / activities_df.average_speed"
   ]
  },
  {
   "cell_type": "code",
   "execution_count": 10,
   "metadata": {
    "collapsed": true
   },
   "outputs": [],
   "source": [
    "activities_df['date'] = pd.to_datetime(activities_df.start_date_local.apply(lambda x : x.split('T')[0]))\n",
    "activities_df.drop(['average_speed','start_date_local', 'type', 'id'], axis = 1, inplace = True)"
   ]
  },
  {
   "cell_type": "code",
   "execution_count": 11,
   "metadata": {
    "collapsed": true
   },
   "outputs": [],
   "source": [
    "activities_df.workout_type = activities_df.workout_type.fillna(0)\n",
    "activities_df.workout_type = activities_df.workout_type.apply(lambda x : workout_type_dict[x])"
   ]
  },
  {
   "cell_type": "code",
   "execution_count": 12,
   "metadata": {
    "collapsed": true
   },
   "outputs": [],
   "source": [
    "activities_df['miles'] = activities_df.distance / metres_mile\n",
    "activities_df['Distance (Kilometres)'] = activities_df.distance / 1000"
   ]
  },
  {
   "cell_type": "code",
   "execution_count": 13,
   "metadata": {
    "collapsed": true
   },
   "outputs": [],
   "source": [
    "activities_df['size'] = activities_df.moving_time.astype('float').apply(lambda x : math.sqrt(x))\n",
    "sizeref = 20*max(activities_df['size'])/(100**2)\n",
    "activities_df['year'] = activities_df.date.apply(lambda x: x.year)"
   ]
  },
  {
   "cell_type": "code",
   "execution_count": 14,
   "metadata": {
    "collapsed": true
   },
   "outputs": [],
   "source": [
    "activities_text = []\n",
    "for i in range(len(activities_df)):\n",
    "    row = activities_df.iloc[i,]\n",
    "    activities_text.append('{}<br>{}<br>'.format(row['name'].encode('ascii','ignore'),row['date'])+ '{:.1f} miles<br>{:.2f} seconds/mile'.format(row['miles'], row['pace_mile']))\n",
    "\n",
    "activities_df['text'] = activities_text"
   ]
  },
  {
   "cell_type": "code",
   "execution_count": 15,
   "metadata": {},
   "outputs": [
    {
     "data": {
      "text/html": [
       "<div>\n",
       "<style>\n",
       "    .dataframe thead tr:only-child th {\n",
       "        text-align: right;\n",
       "    }\n",
       "\n",
       "    .dataframe thead th {\n",
       "        text-align: left;\n",
       "    }\n",
       "\n",
       "    .dataframe tbody tr th {\n",
       "        vertical-align: top;\n",
       "    }\n",
       "</style>\n",
       "<table border=\"1\" class=\"dataframe\">\n",
       "  <thead>\n",
       "    <tr style=\"text-align: right;\">\n",
       "      <th></th>\n",
       "      <th>distance</th>\n",
       "      <th>moving_time</th>\n",
       "      <th>name</th>\n",
       "      <th>workout_type</th>\n",
       "      <th>pace_mile</th>\n",
       "      <th>pace_km</th>\n",
       "      <th>date</th>\n",
       "      <th>miles</th>\n",
       "      <th>Distance (Kilometres)</th>\n",
       "      <th>size</th>\n",
       "      <th>year</th>\n",
       "      <th>text</th>\n",
       "    </tr>\n",
       "  </thead>\n",
       "  <tbody>\n",
       "    <tr>\n",
       "      <th>0</th>\n",
       "      <td>10324.0</td>\n",
       "      <td>2649</td>\n",
       "      <td>Morning Run</td>\n",
       "      <td>Run</td>\n",
       "      <td>412.968950</td>\n",
       "      <td>256.607647</td>\n",
       "      <td>2018-04-18</td>\n",
       "      <td>6.415052</td>\n",
       "      <td>10.3240</td>\n",
       "      <td>51.468437</td>\n",
       "      <td>2018</td>\n",
       "      <td>Morning Run&lt;br&gt;2018-04-18 00:00:00&lt;br&gt;6.4 mile...</td>\n",
       "    </tr>\n",
       "    <tr>\n",
       "      <th>1</th>\n",
       "      <td>4347.8</td>\n",
       "      <td>1156</td>\n",
       "      <td>WD</td>\n",
       "      <td>Run</td>\n",
       "      <td>427.902154</td>\n",
       "      <td>265.886732</td>\n",
       "      <td>2018-04-17</td>\n",
       "      <td>2.701604</td>\n",
       "      <td>4.3478</td>\n",
       "      <td>34.000000</td>\n",
       "      <td>2018</td>\n",
       "      <td>WD&lt;br&gt;2018-04-17 00:00:00&lt;br&gt;2.7 miles&lt;br&gt;427....</td>\n",
       "    </tr>\n",
       "  </tbody>\n",
       "</table>\n",
       "</div>"
      ],
      "text/plain": [
       "   distance  moving_time         name workout_type   pace_mile     pace_km  \\\n",
       "0   10324.0         2649  Morning Run          Run  412.968950  256.607647   \n",
       "1    4347.8         1156           WD          Run  427.902154  265.886732   \n",
       "\n",
       "        date     miles  Distance (Kilometres)       size  year  \\\n",
       "0 2018-04-18  6.415052                10.3240  51.468437  2018   \n",
       "1 2018-04-17  2.701604                 4.3478  34.000000  2018   \n",
       "\n",
       "                                                text  \n",
       "0  Morning Run<br>2018-04-18 00:00:00<br>6.4 mile...  \n",
       "1  WD<br>2018-04-17 00:00:00<br>2.7 miles<br>427....  "
      ]
     },
     "execution_count": 15,
     "metadata": {},
     "output_type": "execute_result"
    }
   ],
   "source": [
    "activities_df.head(2)"
   ]
  },
  {
   "cell_type": "markdown",
   "metadata": {},
   "source": [
    "## 1. Bubble Chart"
   ]
  },
  {
   "cell_type": "code",
   "execution_count": 34,
   "metadata": {},
   "outputs": [
    {
     "data": {
      "text/html": [
       "<iframe id=\"igraph\" scrolling=\"no\" style=\"border:none;\" seamless=\"seamless\" src=\"https://plot.ly/~ajhoward7/85.embed\" height=\"525px\" width=\"100%\"></iframe>"
      ],
      "text/plain": [
       "<plotly.tools.PlotlyDisplay object>"
      ]
     },
     "execution_count": 34,
     "metadata": {},
     "output_type": "execute_result"
    }
   ],
   "source": [
    "data = []\n",
    "for run_type in ['Run','Workout','Long Run','Race']:\n",
    "    trace = go.Scatter(\n",
    "        x=activities_df['miles'][activities_df['workout_type'] == run_type],\n",
    "        y=activities_df['pace_mile'][activities_df['workout_type'] == run_type],\n",
    "        mode='markers',\n",
    "        hoverinfo='text',\n",
    "        opacity = 0.8,\n",
    "        name=run_type,\n",
    "        hovertext = activities_df['text'][activities_df['workout_type'] == run_type],\n",
    "        marker=dict(\n",
    "            symbol='circle',\n",
    "            sizemode='area',\n",
    "            sizeref=sizeref,\n",
    "            size=activities_df['size'][activities_df['workout_type'] == run_type],\n",
    "            line=dict(\n",
    "                width=2\n",
    "            ),\n",
    "        )\n",
    "    )\n",
    "    data.append(trace)\n",
    "\n",
    "layout = go.Layout(\n",
    "    title='Run Summary',\n",
    "    hovermode='closest',\n",
    "    xaxis=dict(\n",
    "        title='Distance (Miles)',\n",
    "        gridcolor='rgb(255, 255, 255)',\n",
    "        range=[0, 20],\n",
    "        zerolinewidth=1,\n",
    "        ticklen=5,\n",
    "        gridwidth=2,\n",
    "    ),\n",
    "    yaxis=dict(\n",
    "        title='Pace (Seconds per Mile)',\n",
    "        gridcolor='rgb(255, 255, 255)',\n",
    "        range=[0,600],\n",
    "        zerolinewidth=1,\n",
    "        ticklen=5,\n",
    "        gridwidth=2,\n",
    "    ),\n",
    "    paper_bgcolor='rgb(243, 243, 243)',\n",
    "    plot_bgcolor='rgb(243, 243, 243)',\n",
    ")\n",
    "\n",
    "fig = go.Figure(data=data, layout=layout)\n",
    "\n",
    "py.iplot(fig, filename='bubble_chart_test.fig')"
   ]
  },
  {
   "cell_type": "markdown",
   "metadata": {},
   "source": [
    "Add button to filter by year (include an all)"
   ]
  },
  {
   "cell_type": "markdown",
   "metadata": {},
   "source": [
    "## 2. Parallel Coordinates"
   ]
  },
  {
   "cell_type": "code",
   "execution_count": 35,
   "metadata": {
    "collapsed": true
   },
   "outputs": [],
   "source": [
    "activities_grouped_df = activities_df.groupby(['date'], as_index = False)['miles'].sum()\n",
    "activities_grouped_df['dow'] = activities_grouped_df.date.apply(lambda x : x.weekday())\n",
    "activities_grouped_df['week_start'] = activities_grouped_df.date.apply(lambda x : x - timedelta(days=x.weekday()))\n",
    "\n",
    "miles_per_week = activities_grouped_df.groupby(['week_start'], as_index = False).miles.sum()\n",
    "by_week_df = pd.DataFrame(activities_grouped_df.week_start.unique(), columns = ['week_start'])"
   ]
  },
  {
   "cell_type": "code",
   "execution_count": 36,
   "metadata": {
    "collapsed": true
   },
   "outputs": [],
   "source": [
    "for i in range(7):\n",
    "    by_week_df['{}'.format(i)] = i\n",
    "\n",
    "for i in range(7):\n",
    "    by_week_df = pd.merge(by_week_df, activities_grouped_df, left_on = ['week_start','{}'.format(i)], right_on = ['week_start','dow'], how='left',suffixes = ('','_{}'.format(i)))"
   ]
  },
  {
   "cell_type": "code",
   "execution_count": 37,
   "metadata": {
    "collapsed": true
   },
   "outputs": [],
   "source": [
    "by_week_df = by_week_df[['week_start','miles','miles_1','miles_2','miles_3','miles_4','miles_5','miles_6']]\n",
    "by_week_df.columns = ['week_start','miles_0','miles_1','miles_2','miles_3','miles_4','miles_5','miles_6']\n",
    "by_week_df['year'] = by_week_df['week_start'].apply(lambda x : x.year)\n",
    "by_week_df.fillna(0, inplace = True)\n",
    "by_week_df = pd.merge(by_week_df, miles_per_week, how='left', on='week_start')"
   ]
  },
  {
   "cell_type": "code",
   "execution_count": 38,
   "metadata": {
    "collapsed": true
   },
   "outputs": [],
   "source": [
    "days_dict = {0:'Monday',1:'Tuesday',2:'Wednesday',3:'Thursday',4:'Friday',5:'Saturday',6:'Sunday'}"
   ]
  },
  {
   "cell_type": "code",
   "execution_count": 39,
   "metadata": {
    "collapsed": true
   },
   "outputs": [],
   "source": [
    "dimensions = list()\n",
    "\n",
    "for i in range(7):\n",
    "    dimensions.append(\n",
    "            dict(range = [0,20],\n",
    "                constraintrange = [0,20],\n",
    "                label = '{}'.format(days_dict[i]), values = by_week_df['miles_{}'.format(i)]))"
   ]
  },
  {
   "cell_type": "code",
   "execution_count": 40,
   "metadata": {},
   "outputs": [
    {
     "data": {
      "text/html": [
       "<iframe id=\"igraph\" scrolling=\"no\" style=\"border:none;\" seamless=\"seamless\" src=\"https://plot.ly/~ajhoward7/87.embed\" height=\"525px\" width=\"100%\"></iframe>"
      ],
      "text/plain": [
       "<plotly.tools.PlotlyDisplay object>"
      ]
     },
     "execution_count": 40,
     "metadata": {},
     "output_type": "execute_result"
    }
   ],
   "source": [
    "data = [\n",
    "    go.Parcoords(\n",
    "        line = dict(color = by_week_df['miles'],\n",
    "                   colorscale = 'Hot',\n",
    "                   showscale = True,\n",
    "                   reversescale=True),\n",
    "        opacity=0.5,\n",
    "        dimensions = dimensions,hoverinfo='text')\n",
    "        \n",
    "]\n",
    "\n",
    "layout = go.Layout(\n",
    "    plot_bgcolor = '#E5E5E5',\n",
    "    paper_bgcolor = '#E5E5E5',\n",
    "    title = 'Miles per week broken down by day'\n",
    ")\n",
    "\n",
    "fig = go.Figure(data = data, layout = layout)\n",
    "py.iplot(fig, filename = 'parcoords')"
   ]
  },
  {
   "cell_type": "markdown",
   "metadata": {},
   "source": [
    "Add label for week date"
   ]
  },
  {
   "cell_type": "markdown",
   "metadata": {},
   "source": [
    "## 3. Miles Per Week"
   ]
  },
  {
   "cell_type": "code",
   "execution_count": 41,
   "metadata": {
    "collapsed": true
   },
   "outputs": [],
   "source": [
    "by_week_df['week_end'] = by_week_df['week_start'].apply(lambda x: (x + timedelta(days=6)).date())"
   ]
  },
  {
   "cell_type": "code",
   "execution_count": 42,
   "metadata": {
    "collapsed": true
   },
   "outputs": [],
   "source": [
    "data = []\n",
    "for i in range(7):\n",
    "    data.append(go.Bar(\n",
    "        x=by_week_df['week_start'],\n",
    "        y=by_week_df['miles_{}'.format(i)],\n",
    "        name=days_dict[i]))"
   ]
  },
  {
   "cell_type": "code",
   "execution_count": 43,
   "metadata": {
    "collapsed": true
   },
   "outputs": [],
   "source": [
    "layout = go.Layout(\n",
    "    barmode='stack'\n",
    ")"
   ]
  },
  {
   "cell_type": "code",
   "execution_count": 44,
   "metadata": {
    "collapsed": true
   },
   "outputs": [],
   "source": [
    "layout = dict(\n",
    "    barmode='stack',\n",
    "    hovermode='closest',\n",
    "    title='Miles per week',\n",
    "    xaxis=dict(\n",
    "        rangeselector=dict(\n",
    "            buttons=list([\n",
    "                dict(count=1,\n",
    "                     label='1m',\n",
    "                     step='month',\n",
    "                     stepmode='backward'),\n",
    "                dict(count=6,\n",
    "                     label='6m',\n",
    "                     step='month',\n",
    "                     stepmode='backward'),\n",
    "                dict(count=1,\n",
    "                    label='YTD',\n",
    "                    step='year',\n",
    "                    stepmode='todate'),\n",
    "                dict(count=1,\n",
    "                    label='1y',\n",
    "                    step='year',\n",
    "                    stepmode='backward'),\n",
    "                dict(step='all')\n",
    "            ])\n",
    "        ),\n",
    "        rangeslider=dict(),\n",
    "        type='date'\n",
    "    )\n",
    ")\n"
   ]
  },
  {
   "cell_type": "code",
   "execution_count": 45,
   "metadata": {},
   "outputs": [
    {
     "data": {
      "text/html": [
       "<iframe id=\"igraph\" scrolling=\"no\" style=\"border:none;\" seamless=\"seamless\" src=\"https://plot.ly/~ajhoward7/83.embed\" height=\"525px\" width=\"100%\"></iframe>"
      ],
      "text/plain": [
       "<plotly.tools.PlotlyDisplay object>"
      ]
     },
     "execution_count": 45,
     "metadata": {},
     "output_type": "execute_result"
    }
   ],
   "source": [
    "fig = go.Figure(data=data, layout=layout)\n",
    "py.iplot(fig, filename='stacked-bar')"
   ]
  },
  {
   "cell_type": "markdown",
   "metadata": {},
   "source": [
    "## 4. Geographic Visualisation:"
   ]
  },
  {
   "cell_type": "code",
   "execution_count": null,
   "metadata": {
    "collapsed": true
   },
   "outputs": [],
   "source": []
  },
  {
   "cell_type": "code",
   "execution_count": 7,
   "metadata": {
    "collapsed": true
   },
   "outputs": [],
   "source": [
    "class AllTrailsLayer(BaseLayer):\n",
    "\n",
    "    def __init__(self):\n",
    "        self.data = read_csv('alex.csv')\n",
    "        self.cmap = colorbrewer(self.data['runner_id'], alpha=220)\n",
    "        self.t = self.data['timestamp'].min()\n",
    "        self.painter = BatchPainter()\n",
    "\n",
    "\n",
    "    def draw(self, proj, mouse_x, mouse_y, ui_manager):\n",
    "        self.painter = BatchPainter()\n",
    "        df = self.data.where((self.data['timestamp'] > self.t) & (self.data['timestamp'] <= self.t + 15*60))\n",
    "\n",
    "        for taxi_id in set(df['runner_id']):\n",
    "            grp = df.where(df['runner_id'] == taxi_id)\n",
    "            self.painter.set_color(self.cmap[taxi_id])\n",
    "            x, y = proj.lonlat_to_screen(grp['lon'], grp['lat'])\n",
    "            self.painter.points(x, y, 10)\n",
    "\n",
    "        self.t += 60\n",
    "\n",
    "        if self.t > self.data['timestamp'].max():\n",
    "            self.t = self.data['timestamp'].min()\n",
    "\n",
    "        self.painter.batch_draw()\n",
    "        ui_manager.info(epoch_to_str(self.t))\n",
    "\n",
    "        \n",
    "    # this should get modified as well moving forward. Might be too small\n",
    "    def bbox(self):\n",
    "        return BoundingBox(north=37.801421, west=-122.517339, south=37.730097, east=-122.424474)"
   ]
  },
  {
   "cell_type": "code",
   "execution_count": 8,
   "metadata": {
    "collapsed": true
   },
   "outputs": [],
   "source": [
    "geoplotlib.add_layer(AllTrailsLayer())\n",
    "geoplotlib.show()"
   ]
  },
  {
   "cell_type": "code",
   "execution_count": 48,
   "metadata": {
    "collapsed": true
   },
   "outputs": [],
   "source": [
    "class FollowTrailsLayer(BaseLayer):\n",
    "\n",
    "    def __init__(self):\n",
    "        self.data = read_csv('alex.csv')\n",
    "        self.data = self.data.where(self.data['runner_id'] == list(set(self.data['runner_id']))[6])\n",
    "        self.t = self.data['timestamp'].min()\n",
    "        self.painter = BatchPainter()\n",
    "\n",
    "\n",
    "    def draw(self, proj, mouse_x, mouse_y, ui_manager):\n",
    "        self.painter = BatchPainter()\n",
    "        self.painter.set_color([0,0,255])\n",
    "        df = self.data.where((self.data['timestamp'] > self.t) & (self.data['timestamp'] <= self.t + 30*60))\n",
    "        proj.fit(BoundingBox.from_points(lons=df['lon'], lats=df['lat']), max_zoom=14)\n",
    "        x, y = proj.lonlat_to_screen(df['lon'], df['lat'])\n",
    "        self.painter.linestrip(x, y, 10)\n",
    "        self.t += 250\n",
    "        if self.t > self.data['timestamp'].max():\n",
    "            self.t = self.data['timestamp'].min()\n",
    "\n",
    "        self.painter.batch_draw()\n",
    "        ui_manager.info(epoch_to_str(self.t))"
   ]
  },
  {
   "cell_type": "code",
   "execution_count": 49,
   "metadata": {
    "collapsed": true
   },
   "outputs": [],
   "source": [
    "geoplotlib.add_layer(FollowTrailsLayer())\n",
    "geoplotlib.show()"
   ]
  },
  {
   "cell_type": "markdown",
   "metadata": {
    "collapsed": true
   },
   "source": [
    "## Next Steps:\n",
    "\n",
    "**Alex:**\n",
    "- Keep working on smaller charts\n",
    "- Start to build basic functionality into website\n",
    "- Investigate using API to scrape other user's data\n",
    "\n",
    "**Taylor:**\n",
    "- re-build Python environment to run geoplotlib\n",
    "- Download full set of Alex activities w/ rate limiting\n",
    "- Fully integrate into geoplotlib plots"
   ]
  },
  {
   "cell_type": "markdown",
   "metadata": {},
   "source": [
    "Alex things to consider:\n",
    "- do miles per week broken down by run type\n",
    "- histogram of run distances\n",
    "- bubble chart of \"live\" activities"
   ]
  },
  {
   "cell_type": "code",
   "execution_count": null,
   "metadata": {
    "collapsed": true
   },
   "outputs": [],
   "source": []
  }
 ],
 "metadata": {
  "kernelspec": {
   "display_name": "Python 2",
   "language": "python",
   "name": "python2"
  },
  "language_info": {
   "codemirror_mode": {
    "name": "ipython",
    "version": 2
   },
   "file_extension": ".py",
   "mimetype": "text/x-python",
   "name": "python",
   "nbconvert_exporter": "python",
   "pygments_lexer": "ipython2",
   "version": "2.7.14"
  }
 },
 "nbformat": 4,
 "nbformat_minor": 2
}

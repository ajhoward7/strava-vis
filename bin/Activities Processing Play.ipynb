{
 "cells": [
  {
   "cell_type": "markdown",
   "metadata": {},
   "source": [
    "# Activities Processing"
   ]
  },
  {
   "cell_type": "code",
   "execution_count": 87,
   "metadata": {
    "collapsed": true
   },
   "outputs": [],
   "source": [
    "import pandas as pd\n",
    "from datetime import *\n",
    "import numpy as np\n",
    "import math"
   ]
  },
  {
   "cell_type": "code",
   "execution_count": 88,
   "metadata": {
    "collapsed": true
   },
   "outputs": [],
   "source": [
    "import  plotly.plotly  as py\n",
    "import plotly.graph_objs as go"
   ]
  },
  {
   "cell_type": "code",
   "execution_count": 89,
   "metadata": {
    "collapsed": true
   },
   "outputs": [],
   "source": [
    "metres_mile = 1609.34"
   ]
  },
  {
   "cell_type": "code",
   "execution_count": 90,
   "metadata": {
    "collapsed": true
   },
   "outputs": [],
   "source": [
    "activities_df = pd.read_json('alex_all_acts.json')"
   ]
  },
  {
   "cell_type": "code",
   "execution_count": 91,
   "metadata": {},
   "outputs": [
    {
     "data": {
      "text/plain": [
       "Index(['achievement_count', 'athlete', 'athlete_count', 'average_cadence',\n",
       "       'average_heartrate', 'average_speed', 'average_watts', 'comment_count',\n",
       "       'commute', 'device_watts', 'distance', 'elapsed_time', 'elev_high',\n",
       "       'elev_low', 'end_latlng', 'external_id', 'flagged', 'from_accepted_tag',\n",
       "       'gear_id', 'has_heartrate', 'has_kudoed', 'id', 'kilojoules',\n",
       "       'kudos_count', 'location_city', 'location_country', 'location_state',\n",
       "       'manual', 'map', 'max_heartrate', 'max_speed', 'max_watts',\n",
       "       'moving_time', 'name', 'photo_count', 'pr_count', 'private',\n",
       "       'resource_state', 'start_date', 'start_date_local', 'start_latitude',\n",
       "       'start_latlng', 'start_longitude', 'timezone', 'total_elevation_gain',\n",
       "       'total_photo_count', 'trainer', 'type', 'upload_id', 'utc_offset',\n",
       "       'weighted_average_watts', 'workout_type'],\n",
       "      dtype='object')"
      ]
     },
     "execution_count": 91,
     "metadata": {},
     "output_type": "execute_result"
    }
   ],
   "source": [
    "activities_df.columns"
   ]
  },
  {
   "cell_type": "code",
   "execution_count": 92,
   "metadata": {
    "collapsed": true
   },
   "outputs": [],
   "source": [
    "activities_df = activities_df[['average_speed','distance','moving_time','name','start_date_local','id','workout_type','type']]\n",
    "activities_df = activities_df[activities_df.type == 'Run']"
   ]
  },
  {
   "cell_type": "code",
   "execution_count": 93,
   "metadata": {
    "collapsed": true
   },
   "outputs": [],
   "source": [
    "activities_df['url'] = activities_df['id'].apply(lambda x : 'https://www.strava.com/activities/1513967998' + str(x))"
   ]
  },
  {
   "cell_type": "code",
   "execution_count": 94,
   "metadata": {
    "collapsed": true
   },
   "outputs": [],
   "source": [
    "activities_df.drop('id', axis = 1, inplace = True)"
   ]
  },
  {
   "cell_type": "code",
   "execution_count": 95,
   "metadata": {
    "collapsed": true
   },
   "outputs": [],
   "source": [
    "activities_df['pace_mile'] = metres_mile / activities_df.average_speed\n",
    "activities_df['pace_km'] = 1000 / activities_df.average_speed"
   ]
  },
  {
   "cell_type": "code",
   "execution_count": 96,
   "metadata": {
    "collapsed": true
   },
   "outputs": [],
   "source": [
    "activities_df['date'] = pd.to_datetime(activities_df.start_date_local.apply(lambda x : x.split('T')[0]))"
   ]
  },
  {
   "cell_type": "code",
   "execution_count": 97,
   "metadata": {
    "collapsed": true
   },
   "outputs": [],
   "source": [
    "activities_df.drop(['average_speed','start_date_local', 'type', 'id'], axis = 1, inplace = True)"
   ]
  },
  {
   "cell_type": "code",
   "execution_count": 98,
   "metadata": {
    "collapsed": true
   },
   "outputs": [],
   "source": [
    "activities_df.workout_type = activities_df.workout_type.fillna(0)"
   ]
  },
  {
   "cell_type": "code",
   "execution_count": 99,
   "metadata": {
    "collapsed": true
   },
   "outputs": [],
   "source": [
    "workout_type_dict = {0:'Run',1:'Race',2:'Long Run',3:'Workout'}"
   ]
  },
  {
   "cell_type": "code",
   "execution_count": 100,
   "metadata": {
    "collapsed": true
   },
   "outputs": [],
   "source": [
    "activities_df.workout_type = activities_df.workout_type.apply(lambda x : workout_type_dict[x])"
   ]
  },
  {
   "cell_type": "code",
   "execution_count": 101,
   "metadata": {
    "collapsed": true
   },
   "outputs": [],
   "source": [
    "activities_df['miles'] = activities_df.distance / metres_mile\n",
    "activities_df['Distance (Kilometres)'] = activities_df.distance / 1000"
   ]
  },
  {
   "cell_type": "code",
   "execution_count": 102,
   "metadata": {
    "collapsed": true
   },
   "outputs": [],
   "source": [
    "activities_df['size'] = activities_df.moving_time.astype('float').apply(lambda x : math.sqrt(x))"
   ]
  },
  {
   "cell_type": "code",
   "execution_count": 103,
   "metadata": {
    "collapsed": true
   },
   "outputs": [],
   "source": [
    "sizeref = 20*max(activities_df['size'])/(100**2)"
   ]
  },
  {
   "cell_type": "code",
   "execution_count": 104,
   "metadata": {
    "collapsed": true
   },
   "outputs": [],
   "source": [
    "activities_df['year'] = activities_df.date.apply(lambda x: x.year)"
   ]
  },
  {
   "cell_type": "code",
   "execution_count": 105,
   "metadata": {},
   "outputs": [
    {
     "data": {
      "text/html": [
       "<div>\n",
       "<style scoped>\n",
       "    .dataframe tbody tr th:only-of-type {\n",
       "        vertical-align: middle;\n",
       "    }\n",
       "\n",
       "    .dataframe tbody tr th {\n",
       "        vertical-align: top;\n",
       "    }\n",
       "\n",
       "    .dataframe thead th {\n",
       "        text-align: right;\n",
       "    }\n",
       "</style>\n",
       "<table border=\"1\" class=\"dataframe\">\n",
       "  <thead>\n",
       "    <tr style=\"text-align: right;\">\n",
       "      <th></th>\n",
       "      <th>distance</th>\n",
       "      <th>moving_time</th>\n",
       "      <th>name</th>\n",
       "      <th>workout_type</th>\n",
       "      <th>url</th>\n",
       "      <th>pace_mile</th>\n",
       "      <th>pace_km</th>\n",
       "      <th>date</th>\n",
       "      <th>miles</th>\n",
       "      <th>Distance (Kilometres)</th>\n",
       "      <th>size</th>\n",
       "      <th>year</th>\n",
       "    </tr>\n",
       "  </thead>\n",
       "  <tbody>\n",
       "    <tr>\n",
       "      <th>0</th>\n",
       "      <td>10324.0</td>\n",
       "      <td>2649</td>\n",
       "      <td>Morning Run</td>\n",
       "      <td>Run</td>\n",
       "      <td>https://www.strava.com/activities/151396799815...</td>\n",
       "      <td>412.968950</td>\n",
       "      <td>256.607647</td>\n",
       "      <td>2018-04-18</td>\n",
       "      <td>6.415052</td>\n",
       "      <td>10.3240</td>\n",
       "      <td>51.468437</td>\n",
       "      <td>2018</td>\n",
       "    </tr>\n",
       "    <tr>\n",
       "      <th>1</th>\n",
       "      <td>4347.8</td>\n",
       "      <td>1156</td>\n",
       "      <td>WD</td>\n",
       "      <td>Run</td>\n",
       "      <td>https://www.strava.com/activities/151396799815...</td>\n",
       "      <td>427.902154</td>\n",
       "      <td>265.886732</td>\n",
       "      <td>2018-04-17</td>\n",
       "      <td>2.701604</td>\n",
       "      <td>4.3478</td>\n",
       "      <td>34.000000</td>\n",
       "      <td>2018</td>\n",
       "    </tr>\n",
       "    <tr>\n",
       "      <th>2</th>\n",
       "      <td>4063.7</td>\n",
       "      <td>977</td>\n",
       "      <td>Tune-up before Stanford v2</td>\n",
       "      <td>Workout</td>\n",
       "      <td>https://www.strava.com/activities/151396799815...</td>\n",
       "      <td>386.953595</td>\n",
       "      <td>240.442414</td>\n",
       "      <td>2018-04-17</td>\n",
       "      <td>2.525072</td>\n",
       "      <td>4.0637</td>\n",
       "      <td>31.256999</td>\n",
       "      <td>2018</td>\n",
       "    </tr>\n",
       "    <tr>\n",
       "      <th>3</th>\n",
       "      <td>4142.2</td>\n",
       "      <td>1134</td>\n",
       "      <td>WU</td>\n",
       "      <td>Run</td>\n",
       "      <td>https://www.strava.com/activities/151396799815...</td>\n",
       "      <td>440.552970</td>\n",
       "      <td>273.747605</td>\n",
       "      <td>2018-04-17</td>\n",
       "      <td>2.573850</td>\n",
       "      <td>4.1422</td>\n",
       "      <td>33.674916</td>\n",
       "      <td>2018</td>\n",
       "    </tr>\n",
       "    <tr>\n",
       "      <th>4</th>\n",
       "      <td>8285.8</td>\n",
       "      <td>2101</td>\n",
       "      <td>Double</td>\n",
       "      <td>Run</td>\n",
       "      <td>https://www.strava.com/activities/151396799815...</td>\n",
       "      <td>408.047667</td>\n",
       "      <td>253.549696</td>\n",
       "      <td>2018-04-16</td>\n",
       "      <td>5.148570</td>\n",
       "      <td>8.2858</td>\n",
       "      <td>45.836667</td>\n",
       "      <td>2018</td>\n",
       "    </tr>\n",
       "    <tr>\n",
       "      <th>5</th>\n",
       "      <td>10754.4</td>\n",
       "      <td>2657</td>\n",
       "      <td>Gonna be huge with all this extra protein past...</td>\n",
       "      <td>Run</td>\n",
       "      <td>https://www.strava.com/activities/151396799815...</td>\n",
       "      <td>397.564229</td>\n",
       "      <td>247.035573</td>\n",
       "      <td>2018-04-16</td>\n",
       "      <td>6.682491</td>\n",
       "      <td>10.7544</td>\n",
       "      <td>51.546096</td>\n",
       "      <td>2018</td>\n",
       "    </tr>\n",
       "    <tr>\n",
       "      <th>6</th>\n",
       "      <td>21657.4</td>\n",
       "      <td>5271</td>\n",
       "      <td>Post-race LR</td>\n",
       "      <td>Long Run</td>\n",
       "      <td>https://www.strava.com/activities/151396799815...</td>\n",
       "      <td>391.662205</td>\n",
       "      <td>243.368216</td>\n",
       "      <td>2018-04-15</td>\n",
       "      <td>13.457318</td>\n",
       "      <td>21.6574</td>\n",
       "      <td>72.601653</td>\n",
       "      <td>2018</td>\n",
       "    </tr>\n",
       "    <tr>\n",
       "      <th>7</th>\n",
       "      <td>1500.0</td>\n",
       "      <td>233</td>\n",
       "      <td>UCLA Invite 1500</td>\n",
       "      <td>Race</td>\n",
       "      <td>https://www.strava.com/activities/151396799815...</td>\n",
       "      <td>249.975148</td>\n",
       "      <td>155.327742</td>\n",
       "      <td>2018-04-14</td>\n",
       "      <td>0.932059</td>\n",
       "      <td>1.5000</td>\n",
       "      <td>15.264338</td>\n",
       "      <td>2018</td>\n",
       "    </tr>\n",
       "    <tr>\n",
       "      <th>8</th>\n",
       "      <td>5576.1</td>\n",
       "      <td>1461</td>\n",
       "      <td>WD + “Threshold” + strides</td>\n",
       "      <td>Run</td>\n",
       "      <td>https://www.strava.com/activities/151396799815...</td>\n",
       "      <td>421.624312</td>\n",
       "      <td>261.985853</td>\n",
       "      <td>2018-04-14</td>\n",
       "      <td>3.464837</td>\n",
       "      <td>5.5761</td>\n",
       "      <td>38.223030</td>\n",
       "      <td>2018</td>\n",
       "    </tr>\n",
       "    <tr>\n",
       "      <th>9</th>\n",
       "      <td>3914.8</td>\n",
       "      <td>993</td>\n",
       "      <td>WU</td>\n",
       "      <td>Run</td>\n",
       "      <td>https://www.strava.com/activities/151396799815...</td>\n",
       "      <td>408.254693</td>\n",
       "      <td>253.678336</td>\n",
       "      <td>2018-04-14</td>\n",
       "      <td>2.432550</td>\n",
       "      <td>3.9148</td>\n",
       "      <td>31.511903</td>\n",
       "      <td>2018</td>\n",
       "    </tr>\n",
       "  </tbody>\n",
       "</table>\n",
       "</div>"
      ],
      "text/plain": [
       "   distance  moving_time                                               name  \\\n",
       "0   10324.0         2649                                        Morning Run   \n",
       "1    4347.8         1156                                                 WD   \n",
       "2    4063.7          977                         Tune-up before Stanford v2   \n",
       "3    4142.2         1134                                                 WU   \n",
       "4    8285.8         2101                                             Double   \n",
       "5   10754.4         2657  Gonna be huge with all this extra protein past...   \n",
       "6   21657.4         5271                                       Post-race LR   \n",
       "7    1500.0          233                                   UCLA Invite 1500   \n",
       "8    5576.1         1461                         WD + “Threshold” + strides   \n",
       "9    3914.8          993                                                 WU   \n",
       "\n",
       "  workout_type                                                url   pace_mile  \\\n",
       "0          Run  https://www.strava.com/activities/151396799815...  412.968950   \n",
       "1          Run  https://www.strava.com/activities/151396799815...  427.902154   \n",
       "2      Workout  https://www.strava.com/activities/151396799815...  386.953595   \n",
       "3          Run  https://www.strava.com/activities/151396799815...  440.552970   \n",
       "4          Run  https://www.strava.com/activities/151396799815...  408.047667   \n",
       "5          Run  https://www.strava.com/activities/151396799815...  397.564229   \n",
       "6     Long Run  https://www.strava.com/activities/151396799815...  391.662205   \n",
       "7         Race  https://www.strava.com/activities/151396799815...  249.975148   \n",
       "8          Run  https://www.strava.com/activities/151396799815...  421.624312   \n",
       "9          Run  https://www.strava.com/activities/151396799815...  408.254693   \n",
       "\n",
       "      pace_km       date      miles  Distance (Kilometres)       size  year  \n",
       "0  256.607647 2018-04-18   6.415052                10.3240  51.468437  2018  \n",
       "1  265.886732 2018-04-17   2.701604                 4.3478  34.000000  2018  \n",
       "2  240.442414 2018-04-17   2.525072                 4.0637  31.256999  2018  \n",
       "3  273.747605 2018-04-17   2.573850                 4.1422  33.674916  2018  \n",
       "4  253.549696 2018-04-16   5.148570                 8.2858  45.836667  2018  \n",
       "5  247.035573 2018-04-16   6.682491                10.7544  51.546096  2018  \n",
       "6  243.368216 2018-04-15  13.457318                21.6574  72.601653  2018  \n",
       "7  155.327742 2018-04-14   0.932059                 1.5000  15.264338  2018  \n",
       "8  261.985853 2018-04-14   3.464837                 5.5761  38.223030  2018  \n",
       "9  253.678336 2018-04-14   2.432550                 3.9148  31.511903  2018  "
      ]
     },
     "execution_count": 105,
     "metadata": {},
     "output_type": "execute_result"
    }
   ],
   "source": [
    "activities_df.head(10)"
   ]
  },
  {
   "cell_type": "code",
   "execution_count": 106,
   "metadata": {
    "collapsed": true
   },
   "outputs": [],
   "source": [
    "activities_text = []\n",
    "for i in range(len(activities_df)):\n",
    "    row = activities_df.iloc[i,]\n",
    "    activities_text.append('<a href={}>{}</a><br>{}<br>'.format(row['url'],row['name'],row['date'].date()) + '{:.1f} miles<br>{:.2f} seconds/mile'.format(row['miles'], row['pace_mile']))\n",
    "\n",
    "activities_df['text'] = activities_text"
   ]
  },
  {
   "cell_type": "code",
   "execution_count": 107,
   "metadata": {},
   "outputs": [
    {
     "data": {
      "text/plain": [
       "'<a href=https://www.strava.com/activities/15139679981516810737>Morning Run</a><br>2018-04-18<br>6.4 miles<br>412.97 seconds/mile'"
      ]
     },
     "execution_count": 107,
     "metadata": {},
     "output_type": "execute_result"
    }
   ],
   "source": [
    "activities_text[0]"
   ]
  },
  {
   "cell_type": "markdown",
   "metadata": {},
   "source": [
    "## Bubble Charts:"
   ]
  },
  {
   "cell_type": "code",
   "execution_count": 108,
   "metadata": {
    "collapsed": true
   },
   "outputs": [],
   "source": [
    "data = []\n",
    "for run_type in ['Run','Workout','Long Run','Race']:\n",
    "    trace = go.Scatter(\n",
    "        x=activities_df['miles'][activities_df['workout_type'] == run_type],\n",
    "        y=activities_df['pace_mile'][activities_df['workout_type'] == run_type],\n",
    "        mode='markers',\n",
    "        hoverinfo='text',\n",
    "        opacity = 0.8,\n",
    "        name=run_type,\n",
    "        hovertext = activities_df['text'][activities_df['workout_type'] == run_type],\n",
    "        marker=dict(\n",
    "            symbol='circle',\n",
    "            sizemode='area',\n",
    "            sizeref=sizeref,\n",
    "            size=activities_df['size'][activities_df['workout_type'] == run_type],\n",
    "            line=dict(\n",
    "                width=2\n",
    "            ),\n",
    "        )\n",
    "    )\n",
    "    data.append(trace)"
   ]
  },
  {
   "cell_type": "code",
   "execution_count": 109,
   "metadata": {
    "collapsed": true
   },
   "outputs": [],
   "source": [
    "layout = go.Layout(\n",
    "    title='Run Summary',\n",
    "    hovermode='closest',\n",
    "    xaxis=dict(\n",
    "        title='Distance (Miles)',\n",
    "        gridcolor='rgb(255, 255, 255)',\n",
    "        range=[0, 20],\n",
    "        zerolinewidth=1,\n",
    "        ticklen=5,\n",
    "        gridwidth=2,\n",
    "    ),\n",
    "    yaxis=dict(\n",
    "        title='Pace (Seconds per Mile)',\n",
    "        gridcolor='rgb(255, 255, 255)',\n",
    "        range=[0,600],\n",
    "        zerolinewidth=1,\n",
    "        ticklen=5,\n",
    "        gridwidth=2,\n",
    "    ),\n",
    "    paper_bgcolor='rgb(243, 243, 243)',\n",
    "    plot_bgcolor='rgb(243, 243, 243)',\n",
    ")"
   ]
  },
  {
   "cell_type": "code",
   "execution_count": 110,
   "metadata": {
    "collapsed": true
   },
   "outputs": [],
   "source": [
    "fig = go.Figure(data=data, layout=layout)"
   ]
  },
  {
   "cell_type": "code",
   "execution_count": 111,
   "metadata": {},
   "outputs": [
    {
     "data": {
      "text/html": [
       "<iframe id=\"igraph\" scrolling=\"no\" style=\"border:none;\" seamless=\"seamless\" src=\"https://plot.ly/~ajhoward7/40.embed\" height=\"525px\" width=\"100%\"></iframe>"
      ],
      "text/plain": [
       "<plotly.tools.PlotlyDisplay object>"
      ]
     },
     "execution_count": 111,
     "metadata": {},
     "output_type": "execute_result"
    }
   ],
   "source": [
    "py.iplot(fig, filename='bubble_chart_test.fig')"
   ]
  },
  {
   "cell_type": "markdown",
   "metadata": {},
   "source": [
    "Bits to improve:\n",
    "- filter (w/ button)\n",
    "- hyperlinks\n",
    "- sort out pace in minutes and seconds?"
   ]
  },
  {
   "cell_type": "markdown",
   "metadata": {},
   "source": [
    "## Parallel Coordinates:"
   ]
  },
  {
   "cell_type": "code",
   "execution_count": 26,
   "metadata": {
    "collapsed": true
   },
   "outputs": [],
   "source": [
    "activities_grouped_df = activities_df.groupby(['date'], as_index = False)['miles'].sum()"
   ]
  },
  {
   "cell_type": "code",
   "execution_count": 27,
   "metadata": {
    "collapsed": true
   },
   "outputs": [],
   "source": [
    "activities_grouped_df['dow'] = activities_grouped_df.date.apply(lambda x : x.weekday())\n",
    "activities_grouped_df['week_start'] = activities_grouped_df.date.apply(lambda x : x - timedelta(days=x.weekday()))"
   ]
  },
  {
   "cell_type": "code",
   "execution_count": 28,
   "metadata": {
    "collapsed": true
   },
   "outputs": [],
   "source": [
    "miles_per_week = activities_grouped_df.groupby(['week_start'], as_index = False).miles.sum()"
   ]
  },
  {
   "cell_type": "code",
   "execution_count": 29,
   "metadata": {
    "collapsed": true
   },
   "outputs": [],
   "source": [
    "by_week_df = pd.DataFrame(activities_grouped_df.week_start.unique(), columns = ['week_start'])"
   ]
  },
  {
   "cell_type": "code",
   "execution_count": 30,
   "metadata": {
    "collapsed": true
   },
   "outputs": [],
   "source": [
    "for i in range(7):\n",
    "    by_week_df['{}'.format(i)] = i"
   ]
  },
  {
   "cell_type": "code",
   "execution_count": 31,
   "metadata": {
    "collapsed": true
   },
   "outputs": [],
   "source": [
    "for i in range(7):\n",
    "    by_week_df = pd.merge(by_week_df, activities_grouped_df, left_on = ['week_start','{}'.format(i)], right_on = ['week_start','dow'], how='left',suffixes = ('','_{}'.format(i)))"
   ]
  },
  {
   "cell_type": "code",
   "execution_count": 32,
   "metadata": {
    "collapsed": true
   },
   "outputs": [],
   "source": [
    "by_week_df = by_week_df[['week_start','miles','miles_1','miles_2','miles_3','miles_4','miles_5','miles_6']]\n",
    "by_week_df.columns = ['week_start','miles_0','miles_1','miles_2','miles_3','miles_4','miles_5','miles_6']"
   ]
  },
  {
   "cell_type": "code",
   "execution_count": 33,
   "metadata": {
    "collapsed": true
   },
   "outputs": [],
   "source": [
    "by_week_df['year'] = by_week_df['week_start'].apply(lambda x : x.year)"
   ]
  },
  {
   "cell_type": "code",
   "execution_count": 34,
   "metadata": {
    "collapsed": true
   },
   "outputs": [],
   "source": [
    "by_week_df.fillna(0, inplace = True)"
   ]
  },
  {
   "cell_type": "code",
   "execution_count": 35,
   "metadata": {
    "collapsed": true
   },
   "outputs": [],
   "source": [
    "by_week_df = pd.merge(by_week_df, miles_per_week, how='left', on='week_start')"
   ]
  },
  {
   "cell_type": "code",
   "execution_count": 36,
   "metadata": {
    "collapsed": true
   },
   "outputs": [],
   "source": [
    "days_dict = {0:'Monday',1:'Tuesday',2:'Wednesday',3:'Thursday',4:'Friday',5:'Saturday',6:'Sunday'}"
   ]
  },
  {
   "cell_type": "code",
   "execution_count": 37,
   "metadata": {
    "collapsed": true
   },
   "outputs": [],
   "source": [
    "dimensions = list()\n",
    "\n",
    "for i in range(7):\n",
    "    dimensions.append(\n",
    "            dict(range = [0,20],\n",
    "                constraintrange = [0,20],\n",
    "                label = '{}'.format(days_dict[i]), values = by_week_df['miles_{}'.format(i)]))"
   ]
  },
  {
   "cell_type": "code",
   "execution_count": 38,
   "metadata": {
    "collapsed": true
   },
   "outputs": [],
   "source": [
    "data = [\n",
    "    go.Parcoords(\n",
    "        line = dict(color = by_week_df['miles'],\n",
    "                   colorscale = 'Hot',\n",
    "                   showscale = True,\n",
    "                   reversescale=True),\n",
    "        opacity=0.5,\n",
    "        dimensions = dimensions,hoverinfo='text')\n",
    "        \n",
    "]"
   ]
  },
  {
   "cell_type": "code",
   "execution_count": 39,
   "metadata": {
    "collapsed": true
   },
   "outputs": [],
   "source": [
    "layout = go.Layout(\n",
    "    plot_bgcolor = '#E5E5E5',\n",
    "    paper_bgcolor = '#E5E5E5',\n",
    "    title = 'Miles per week broken down by day'\n",
    ")"
   ]
  },
  {
   "cell_type": "code",
   "execution_count": 40,
   "metadata": {},
   "outputs": [
    {
     "data": {
      "text/html": [
       "<iframe id=\"igraph\" scrolling=\"no\" style=\"border:none;\" seamless=\"seamless\" src=\"https://plot.ly/~ajhoward7/45.embed\" height=\"525px\" width=\"100%\"></iframe>"
      ],
      "text/plain": [
       "<plotly.tools.PlotlyDisplay object>"
      ]
     },
     "execution_count": 40,
     "metadata": {},
     "output_type": "execute_result"
    }
   ],
   "source": [
    "fig = go.Figure(data = data, layout = layout)\n",
    "py.iplot(fig, filename = 'parcoords')"
   ]
  },
  {
   "cell_type": "markdown",
   "metadata": {},
   "source": [
    "# Stacked Bar Charts"
   ]
  },
  {
   "cell_type": "code",
   "execution_count": 41,
   "metadata": {
    "collapsed": true
   },
   "outputs": [],
   "source": [
    "by_week_df['week_end'] = by_week_df['week_start'].apply(lambda x: (x + timedelta(days=6)).date())"
   ]
  },
  {
   "cell_type": "code",
   "execution_count": 42,
   "metadata": {
    "collapsed": true
   },
   "outputs": [],
   "source": [
    "data = []\n",
    "for i in range(7):\n",
    "    data.append(go.Bar(\n",
    "        x=by_week_df['week_start'],\n",
    "        y=by_week_df['miles_{}'.format(i)],\n",
    "        name=days_dict[i]))"
   ]
  },
  {
   "cell_type": "code",
   "execution_count": 43,
   "metadata": {
    "collapsed": true
   },
   "outputs": [],
   "source": [
    "layout = go.Layout(\n",
    "    barmode='stack'\n",
    ")"
   ]
  },
  {
   "cell_type": "code",
   "execution_count": 44,
   "metadata": {
    "collapsed": true
   },
   "outputs": [],
   "source": [
    "layout = dict(\n",
    "    barmode='stack',\n",
    "    hovermode='closest',\n",
    "    title='Miles per week',\n",
    "    xaxis=dict(\n",
    "        rangeselector=dict(\n",
    "            buttons=list([\n",
    "                dict(count=1,\n",
    "                     label='1m',\n",
    "                     step='month',\n",
    "                     stepmode='backward'),\n",
    "                dict(count=6,\n",
    "                     label='6m',\n",
    "                     step='month',\n",
    "                     stepmode='backward'),\n",
    "                dict(count=1,\n",
    "                    label='YTD',\n",
    "                    step='year',\n",
    "                    stepmode='todate'),\n",
    "                dict(count=1,\n",
    "                    label='1y',\n",
    "                    step='year',\n",
    "                    stepmode='backward'),\n",
    "                dict(step='all')\n",
    "            ])\n",
    "        ),\n",
    "        rangeslider=dict(),\n",
    "        type='date'\n",
    "    )\n",
    ")\n"
   ]
  },
  {
   "cell_type": "code",
   "execution_count": 45,
   "metadata": {},
   "outputs": [
    {
     "data": {
      "text/html": [
       "<iframe id=\"igraph\" scrolling=\"no\" style=\"border:none;\" seamless=\"seamless\" src=\"https://plot.ly/~ajhoward7/47.embed\" height=\"525px\" width=\"100%\"></iframe>"
      ],
      "text/plain": [
       "<plotly.tools.PlotlyDisplay object>"
      ]
     },
     "execution_count": 45,
     "metadata": {},
     "output_type": "execute_result"
    }
   ],
   "source": [
    "fig = go.Figure(data=data, layout=layout)\n",
    "py.iplot(fig, filename='stacked-bar')\n",
    "\n",
    "# Seems to work better with smaller number of weeks - information sort of gets lost otherwise"
   ]
  },
  {
   "cell_type": "markdown",
   "metadata": {},
   "source": [
    "Maybe split this one up now by workout/long run/race"
   ]
  },
  {
   "cell_type": "markdown",
   "metadata": {},
   "source": [
    "## Animation Bubble Chart:"
   ]
  },
  {
   "cell_type": "code",
   "execution_count": 183,
   "metadata": {
    "collapsed": true
   },
   "outputs": [],
   "source": [
    "years = by_week_df.year.unique()"
   ]
  },
  {
   "cell_type": "code",
   "execution_count": 184,
   "metadata": {},
   "outputs": [
    {
     "data": {
      "text/plain": [
       "array([2009, 2014, 2015, 2016, 2017, 2018])"
      ]
     },
     "execution_count": 184,
     "metadata": {},
     "output_type": "execute_result"
    }
   ],
   "source": [
    "years"
   ]
  },
  {
   "cell_type": "code",
   "execution_count": 213,
   "metadata": {
    "collapsed": true
   },
   "outputs": [],
   "source": [
    "figure = {\n",
    "    'data': [],\n",
    "    'layout': {},\n",
    "    'frames': []\n",
    "}\n"
   ]
  },
  {
   "cell_type": "code",
   "execution_count": 214,
   "metadata": {
    "collapsed": true
   },
   "outputs": [],
   "source": [
    "figure['layout']['xaxis'] = {'range': [0, 20], 'title': 'Distance (Miles)'}\n",
    "figure['layout']['yaxis'] = {'title': 'Pace (seconds per mile)', 'range':[0,600]}\n",
    "figure['layout']['hovermode'] = 'closest'\n",
    "figure['layout']['sliders'] = {\n",
    "    'args': [\n",
    "        'transition', {\n",
    "            'duration': 400,\n",
    "            'easing': 'cubic-in-out'\n",
    "        }\n",
    "    ],\n",
    "    'initialValue': str(years[1]),\n",
    "    'plotlycommand': 'animate',\n",
    "    'values': years[1:],\n",
    "    'visible': True\n",
    "}"
   ]
  },
  {
   "cell_type": "code",
   "execution_count": 215,
   "metadata": {
    "collapsed": true
   },
   "outputs": [],
   "source": [
    "figure['layout']['updatemenus'] = [\n",
    "    {\n",
    "        'buttons': [\n",
    "            {\n",
    "                'args': [None, {'frame': {'duration': 500, 'redraw': True},\n",
    "                         'fromcurrent': True, 'transition': {'duration': 300, 'easing': 'quadratic-in-out'}}],\n",
    "                'label': 'Play',\n",
    "                'method': 'animate'\n",
    "            },\n",
    "            {\n",
    "                'args': [[None], {'frame': {'duration': 0, 'redraw': True}, 'mode': 'immediate',\n",
    "                'transition': {'duration': 0}}],\n",
    "                'label': 'Pause',\n",
    "                'method': 'animate'\n",
    "            }\n",
    "        ],\n",
    "        'direction': 'left',\n",
    "        'pad': {'r': 10, 't': 87},\n",
    "        'showactive': False,\n",
    "        'type': 'buttons',\n",
    "        'x': 0.1,\n",
    "        'xanchor': 'right',\n",
    "        'y': 0,\n",
    "        'yanchor': 'top'\n",
    "    }\n",
    "]"
   ]
  },
  {
   "cell_type": "code",
   "execution_count": 216,
   "metadata": {
    "collapsed": true
   },
   "outputs": [],
   "source": [
    "sliders_dict = {\n",
    "    'active': 0,\n",
    "    'yanchor': 'top',\n",
    "    'xanchor': 'left',\n",
    "    'currentvalue': {\n",
    "        'font': {'size': 20},\n",
    "        'prefix': 'Year:',\n",
    "        'visible': True,\n",
    "        'xanchor': 'right'\n",
    "    },\n",
    "    'transition': {'duration': 300, 'easing': 'cubic-in-out'},\n",
    "    'pad': {'b': 10, 't': 50},\n",
    "    'len': 0.9,\n",
    "    'x': 0.1,\n",
    "    'y': 0,\n",
    "    'steps': []\n",
    "}"
   ]
  },
  {
   "cell_type": "code",
   "execution_count": 217,
   "metadata": {
    "collapsed": true
   },
   "outputs": [],
   "source": [
    "year = years[1]"
   ]
  },
  {
   "cell_type": "code",
   "execution_count": 218,
   "metadata": {},
   "outputs": [
    {
     "data": {
      "text/plain": [
       "2014"
      ]
     },
     "execution_count": 218,
     "metadata": {},
     "output_type": "execute_result"
    }
   ],
   "source": [
    "year"
   ]
  },
  {
   "cell_type": "code",
   "execution_count": 219,
   "metadata": {
    "collapsed": true
   },
   "outputs": [],
   "source": [
    "for run_type in ['Run']:\n",
    "    dataset_by_year_and_type = activities_df[activities_df.year==year][:20]\n",
    "\n",
    "    data_dict = {\n",
    "        'x': list(dataset_by_year_and_type['miles']),\n",
    "        'y': list(dataset_by_year_and_type['pace_mile']),\n",
    "        'mode': 'markers',\n",
    "         'hovertext':dataset_by_year_and_type['text'],\n",
    "        'marker': {\n",
    "            'sizemode': 'area',\n",
    "            'sizeref': sizeref,\n",
    "            'size': dataset_by_year_and_type['size']\n",
    "        },\n",
    "        'name': run_type\n",
    "    }\n",
    "    figure['data'].append(data_dict)"
   ]
  },
  {
   "cell_type": "code",
   "execution_count": 220,
   "metadata": {
    "collapsed": true
   },
   "outputs": [],
   "source": [
    "for year in years[1:]:\n",
    "    frame = {'data': [], 'name': str(year)}\n",
    "    for run_type in ['Run']:\n",
    "        dataset_by_year_and_type = activities_df[activities_df.year==int(year)][:20]\n",
    "\n",
    "        data_dict = {\n",
    "            'x': list(dataset_by_year_and_type['miles']),\n",
    "            'y': list(dataset_by_year_and_type['pace_mile']),\n",
    "            'mode': 'markers',\n",
    "             'hovertext':dataset_by_year_and_type['text'],\n",
    "            'marker': {\n",
    "                'sizemode': 'area',\n",
    "                'sizeref': sizeref,\n",
    "                'size': dataset_by_year_and_type['size']\n",
    "            },\n",
    "            'name': 'hello'\n",
    "        }\n",
    "        frame['data'].append(data_dict)\n",
    "\n",
    "    figure['frames'].append(frame)\n",
    "    slider_step = {'args': [\n",
    "        [year],\n",
    "        {'frame': {'duration': 300, 'redraw': True},\n",
    "         'mode': 'immediate',\n",
    "       'transition': {'duration': 300}}\n",
    "     ],\n",
    "     'label': year,\n",
    "     'method': 'animate'}\n",
    "    sliders_dict['steps'].append(slider_step)"
   ]
  },
  {
   "cell_type": "code",
   "execution_count": 221,
   "metadata": {
    "collapsed": true
   },
   "outputs": [],
   "source": [
    "figure['layout']['sliders'] = [sliders_dict]"
   ]
  },
  {
   "cell_type": "code",
   "execution_count": 222,
   "metadata": {},
   "outputs": [
    {
     "data": {
      "application/vnd.plotly.v1+json": {
       "data": [
        {
         "hovertext": [
          "<a href=https://www.strava.com/activities/1513967998237521211>12/31/2014 Hadlow, United Kingdom</a><br>2014-12-31<br>9.2 miles<br>410.02 seconds/mile",
          "<a href=https://www.strava.com/activities/1513967998237521183>12/30/2014 Tonbridge, United Kingdom</a><br>2014-12-30<br>1.1 miles<br>539.32 seconds/mile",
          "<a href=https://www.strava.com/activities/1513967998237521187>12/30/2014 Tonbridge, United Kingdom</a><br>2014-12-30<br>4.9 miles<br>328.64 seconds/mile",
          "<a href=https://www.strava.com/activities/1513967998237521177>12/30/2014 Tonbridge, United Kingdom</a><br>2014-12-30<br>0.2 miles<br>481.12 seconds/mile",
          "<a href=https://www.strava.com/activities/1513967998237521188>12/30/2014 Tonbridge, United Kingdom</a><br>2014-12-30<br>1.1 miles<br>448.03 seconds/mile",
          "<a href=https://www.strava.com/activities/1513967998237521208>12/29/2014 Tonbridge, United Kingdom</a><br>2014-12-29<br>7.1 miles<br>425.30 seconds/mile",
          "<a href=https://www.strava.com/activities/1513967998237521220>12/29/2014 Hadlow, United Kingdom</a><br>2014-12-29<br>6.4 miles<br>411.49 seconds/mile",
          "<a href=https://www.strava.com/activities/1513967998237521209>12/28/2014 Hildenborough, United Kingdom</a><br>2014-12-28<br>7.4 miles<br>394.25 seconds/mile",
          "<a href=https://www.strava.com/activities/1513967998237521197>12/28/2014 Tonbridge, United Kingdom</a><br>2014-12-28<br>4.5 miles<br>432.39 seconds/mile",
          "<a href=https://www.strava.com/activities/1513967998237521216>12/27/2014 Hadlow, United Kingdom</a><br>2014-12-27<br>8.5 miles<br>409.19 seconds/mile",
          "<a href=https://www.strava.com/activities/1513967998237521218>12/26/2014 Tonbridge, United Kingdom</a><br>2014-12-26<br>7.6 miles<br>403.55 seconds/mile",
          "<a href=https://www.strava.com/activities/1513967998237521214>12/26/2014 Hadlow, United Kingdom</a><br>2014-12-26<br>5.2 miles<br>410.76 seconds/mile",
          "<a href=https://www.strava.com/activities/1513967998237521223>12/25/2014 Hadlow, United Kingdom</a><br>2014-12-25<br>7.0 miles<br>386.12 seconds/mile",
          "<a href=https://www.strava.com/activities/1513967998237536854>Afternoon Run</a><br>2014-12-24<br>5.0 miles<br>419.97 seconds/mile",
          "<a href=https://www.strava.com/activities/1513967998237521221>12/24/2014 Sevenoaks, United Kingdom</a><br>2014-12-24<br>0.9 miles<br>304.51 seconds/mile",
          "<a href=https://www.strava.com/activities/1513967998237522645>12/24/2014 Sevenoaks, United Kingdom</a><br>2014-12-24<br>1.7 miles<br>454.10 seconds/mile",
          "<a href=https://www.strava.com/activities/1513967998237521191>12/23/2014 Tonbridge, United Kingdom</a><br>2014-12-23<br>0.3 miles<br>443.10 seconds/mile",
          "<a href=https://www.strava.com/activities/1513967998237521222>12/23/2014 Tonbridge, United Kingdom</a><br>2014-12-23<br>6.8 miles<br>360.60 seconds/mile",
          "<a href=https://www.strava.com/activities/1513967998237521194>12/23/2014 Tonbridge, United Kingdom</a><br>2014-12-23<br>0.7 miles<br>476.00 seconds/mile",
          "<a href=https://www.strava.com/activities/1513967998237521217>12/23/2014 Hadlow, United Kingdom</a><br>2014-12-23<br>6.3 miles<br>385.84 seconds/mile"
         ],
         "marker": {
          "size": [
           61.326992425847855,
           24.61706725018234,
           40.32369030731191,
           10.295630140987,
           22.67156809750927,
           54.954526656136345,
           51.38093031466052,
           54.18486873657626,
           44.35087372307337,
           59.016946718718,
           55.31726674375732,
           46.184412955021955,
           52.028838157314254,
           45.8257569495584,
           16.97056274847714,
           27.730849247724095,
           12.328828005937952,
           49.33558553417604,
           18.05547008526779,
           49.39635614091387
          ],
          "sizemode": "area",
          "sizeref": 0.1614063195788814
         },
         "mode": "markers",
         "name": "Run",
         "x": [
          9.173449985708428,
          1.1235040451365157,
          4.947494003753092,
          0.2203387724160215,
          1.1473026209502033,
          7.100674810792002,
          6.415114270446271,
          7.44684156237961,
          4.548696981371245,
          8.512930766649683,
          7.582922191705917,
          5.192811960182436,
          7.010265077609455,
          5,
          0.945729305181006,
          1.6936756682863783,
          0.3429977506306933,
          6.750096312774182,
          0.684814893061752,
          6.324455988169064
         ],
         "y": [
          410.02292993630573,
          539.323056300268,
          328.63794159689604,
          481.118086696562,
          448.03452115812917,
          425.30126849894293,
          411.4906673485042,
          394.2528172464478,
          432.3858140784524,
          409.18891431477243,
          403.5456369107322,
          410.75548749361917,
          386.1180422264875,
          419.97390396659705,
          304.5108798486282,
          454.10270880361173,
          443.10022026431716,
          360.5960116513556,
          475.9952676722863,
          385.84032606089664
         ]
        }
       ],
       "frames": [
        {
         "data": [
          {
           "hovertext": [
            "<a href=https://www.strava.com/activities/1513967998237521211>12/31/2014 Hadlow, United Kingdom</a><br>2014-12-31<br>9.2 miles<br>410.02 seconds/mile",
            "<a href=https://www.strava.com/activities/1513967998237521183>12/30/2014 Tonbridge, United Kingdom</a><br>2014-12-30<br>1.1 miles<br>539.32 seconds/mile",
            "<a href=https://www.strava.com/activities/1513967998237521187>12/30/2014 Tonbridge, United Kingdom</a><br>2014-12-30<br>4.9 miles<br>328.64 seconds/mile",
            "<a href=https://www.strava.com/activities/1513967998237521177>12/30/2014 Tonbridge, United Kingdom</a><br>2014-12-30<br>0.2 miles<br>481.12 seconds/mile",
            "<a href=https://www.strava.com/activities/1513967998237521188>12/30/2014 Tonbridge, United Kingdom</a><br>2014-12-30<br>1.1 miles<br>448.03 seconds/mile",
            "<a href=https://www.strava.com/activities/1513967998237521208>12/29/2014 Tonbridge, United Kingdom</a><br>2014-12-29<br>7.1 miles<br>425.30 seconds/mile",
            "<a href=https://www.strava.com/activities/1513967998237521220>12/29/2014 Hadlow, United Kingdom</a><br>2014-12-29<br>6.4 miles<br>411.49 seconds/mile",
            "<a href=https://www.strava.com/activities/1513967998237521209>12/28/2014 Hildenborough, United Kingdom</a><br>2014-12-28<br>7.4 miles<br>394.25 seconds/mile",
            "<a href=https://www.strava.com/activities/1513967998237521197>12/28/2014 Tonbridge, United Kingdom</a><br>2014-12-28<br>4.5 miles<br>432.39 seconds/mile",
            "<a href=https://www.strava.com/activities/1513967998237521216>12/27/2014 Hadlow, United Kingdom</a><br>2014-12-27<br>8.5 miles<br>409.19 seconds/mile",
            "<a href=https://www.strava.com/activities/1513967998237521218>12/26/2014 Tonbridge, United Kingdom</a><br>2014-12-26<br>7.6 miles<br>403.55 seconds/mile",
            "<a href=https://www.strava.com/activities/1513967998237521214>12/26/2014 Hadlow, United Kingdom</a><br>2014-12-26<br>5.2 miles<br>410.76 seconds/mile",
            "<a href=https://www.strava.com/activities/1513967998237521223>12/25/2014 Hadlow, United Kingdom</a><br>2014-12-25<br>7.0 miles<br>386.12 seconds/mile",
            "<a href=https://www.strava.com/activities/1513967998237536854>Afternoon Run</a><br>2014-12-24<br>5.0 miles<br>419.97 seconds/mile",
            "<a href=https://www.strava.com/activities/1513967998237521221>12/24/2014 Sevenoaks, United Kingdom</a><br>2014-12-24<br>0.9 miles<br>304.51 seconds/mile",
            "<a href=https://www.strava.com/activities/1513967998237522645>12/24/2014 Sevenoaks, United Kingdom</a><br>2014-12-24<br>1.7 miles<br>454.10 seconds/mile",
            "<a href=https://www.strava.com/activities/1513967998237521191>12/23/2014 Tonbridge, United Kingdom</a><br>2014-12-23<br>0.3 miles<br>443.10 seconds/mile",
            "<a href=https://www.strava.com/activities/1513967998237521222>12/23/2014 Tonbridge, United Kingdom</a><br>2014-12-23<br>6.8 miles<br>360.60 seconds/mile",
            "<a href=https://www.strava.com/activities/1513967998237521194>12/23/2014 Tonbridge, United Kingdom</a><br>2014-12-23<br>0.7 miles<br>476.00 seconds/mile",
            "<a href=https://www.strava.com/activities/1513967998237521217>12/23/2014 Hadlow, United Kingdom</a><br>2014-12-23<br>6.3 miles<br>385.84 seconds/mile"
           ],
           "marker": {
            "size": [
             61.326992425847855,
             24.61706725018234,
             40.32369030731191,
             10.295630140987,
             22.67156809750927,
             54.954526656136345,
             51.38093031466052,
             54.18486873657626,
             44.35087372307337,
             59.016946718718,
             55.31726674375732,
             46.184412955021955,
             52.028838157314254,
             45.8257569495584,
             16.97056274847714,
             27.730849247724095,
             12.328828005937952,
             49.33558553417604,
             18.05547008526779,
             49.39635614091387
            ],
            "sizemode": "area",
            "sizeref": 0.1614063195788814
           },
           "mode": "markers",
           "name": "hello",
           "x": [
            9.173449985708428,
            1.1235040451365157,
            4.947494003753092,
            0.2203387724160215,
            1.1473026209502033,
            7.100674810792002,
            6.415114270446271,
            7.44684156237961,
            4.548696981371245,
            8.512930766649683,
            7.582922191705917,
            5.192811960182436,
            7.010265077609455,
            5,
            0.945729305181006,
            1.6936756682863783,
            0.3429977506306933,
            6.750096312774182,
            0.684814893061752,
            6.324455988169064
           ],
           "y": [
            410.02292993630573,
            539.323056300268,
            328.63794159689604,
            481.118086696562,
            448.03452115812917,
            425.30126849894293,
            411.4906673485042,
            394.2528172464478,
            432.3858140784524,
            409.18891431477243,
            403.5456369107322,
            410.75548749361917,
            386.1180422264875,
            419.97390396659705,
            304.5108798486282,
            454.10270880361173,
            443.10022026431716,
            360.5960116513556,
            475.9952676722863,
            385.84032606089664
           ]
          }
         ],
         "name": "2014"
        },
        {
         "data": [
          {
           "hovertext": [
            "<a href=https://www.strava.com/activities/1513967998460193745>With Tom</a><br>2015-12-31<br>5.7 miles<br>434.37 seconds/mile",
            "<a href=https://www.strava.com/activities/1513967998460193596>TAC NYE Knole Hills + WD</a><br>2015-12-31<br>4.9 miles<br>458.76 seconds/mile",
            "<a href=https://www.strava.com/activities/1513967998460193492>WU</a><br>2015-12-31<br>2.9 miles<br>430.88 seconds/mile",
            "<a href=https://www.strava.com/activities/1513967998459227177>Morning Run</a><br>2015-12-30<br>6.5 miles<br>409.61 seconds/mile",
            "<a href=https://www.strava.com/activities/1513967998458911935>2 x {1750,1275,875} [90\"]</a><br>2015-12-29<br>8.1 miles<br>370.73 seconds/mile",
            "<a href=https://www.strava.com/activities/1513967998458207318>TAC Monday 'social'</a><br>2015-12-28<br>7.9 miles<br>380.28 seconds/mile",
            "<a href=https://www.strava.com/activities/1513967998457856388>Morning Run with Tom</a><br>2015-12-28<br>6.2 miles<br>418.77 seconds/mile",
            "<a href=https://www.strava.com/activities/1513967998457173524>King of the Hill - muddy!</a><br>2015-12-27<br>12.1 miles<br>415.42 seconds/mile",
            "<a href=https://www.strava.com/activities/1513967998456737308>Recovery miles</a><br>2015-12-26<br>5.7 miles<br>430.77 seconds/mile",
            "<a href=https://www.strava.com/activities/1513967998456516797>WD</a><br>2015-12-26<br>1.2 miles<br>535.73 seconds/mile",
            "<a href=https://www.strava.com/activities/1513967998456516638>TAC Boxing Day Handicap 5k: 16:30</a><br>2015-12-26<br>3.1 miles<br>319.82 seconds/mile",
            "<a href=https://www.strava.com/activities/1513967998456516431>WU</a><br>2015-12-26<br>1.8 miles<br>452.95 seconds/mile",
            "<a href=https://www.strava.com/activities/1513967998455955049>Pre-empting calories</a><br>2015-12-25<br>7.1 miles<br>393.00 seconds/mile",
            "<a href=https://www.strava.com/activities/1513967998455506521>WD</a><br>2015-12-24<br>1.0 miles<br>501.51 seconds/mile",
            "<a href=https://www.strava.com/activities/1513967998455506444>TAC Christmas Eve Relays: 9 x 700m [2'-2'30\"]</a><br>2015-12-24<br>4.3 miles<br>405.58 seconds/mile",
            "<a href=https://www.strava.com/activities/1513967998455506289>Very rogue long WU</a><br>2015-12-24<br>3.4 miles<br>442.61 seconds/mile",
            "<a href=https://www.strava.com/activities/1513967998455050652>Jog into town to fetch car</a><br>2015-12-23<br>8.1 miles<br>413.07 seconds/mile",
            "<a href=https://www.strava.com/activities/1513967998454364776>Morning Run</a><br>2015-12-22<br>8.0 miles<br>381.90 seconds/mile",
            "<a href=https://www.strava.com/activities/1513967998454089535>Monday evening TAC social</a><br>2015-12-21<br>5.7 miles<br>378.58 seconds/mile",
            "<a href=https://www.strava.com/activities/1513967998453882627>WD</a><br>2015-12-21<br>1.9 miles<br>481.12 seconds/mile"
           ],
           "marker": {
            "size": [
             49.85980344927164,
             47.36032094485847,
             35.35533905932738,
             51.720402163943,
             54.86346689738081,
             54.97272050753901,
             50.80354318352215,
             70.88723439378913,
             49.38623289946298,
             25.632011235952593,
             31.480152477394387,
             28.442925306655784,
             52.97169055259611,
             22.293496809607955,
             41.86884283091664,
             39.01281840626232,
             57.88782255362521,
             55.19963767997033,
             46.46504062195577,
             29.9833287011299
            ],
            "sizemode": "area",
            "sizeref": 0.1614063195788814
           },
           "mode": "markers",
           "name": "hello",
           "x": [
            5.72247008090273,
            4.889209241055339,
            2.900878621049623,
            6.5314352467471135,
            8.12003678526601,
            7.946052419004064,
            6.162961213913778,
            12.096698025277444,
            5.661264866342725,
            1.2264033703257238,
            3.0985994258515914,
            1.7862602060471995,
            7.139262057737955,
            0.9910895149564418,
            4.322579442504381,
            3.438987410988356,
            8.113263822436528,
            7.978425938583519,
            5.702399741508942,
            1.868840642747959
           ],
           "y": [
            434.36977058029686,
            458.76282782212087,
            430.8808567603748,
            409.6054975820819,
            370.7302464869845,
            380.27882797731564,
            418.7717928701535,
            415.42075374290135,
            430.7655246252677,
            535.7323568575233,
            319.8211446740858,
            452.9524345623417,
            393.001221001221,
            501.5082580243066,
            405.57963709677415,
            442.61276127612757,
            413.0749486652977,
            381.90317987660177,
            378.5791578452128,
            481.118086696562
           ]
          }
         ],
         "name": "2015"
        },
        {
         "data": [
          {
           "hovertext": [
            "<a href=https://www.strava.com/activities/1513967998816658689>6 x Deakin Leas hill sprints </a><br>2016-12-31<br>8.5 miles<br>416.50 seconds/mile",
            "<a href=https://www.strava.com/activities/1513967998815918355>Afternoon Run</a><br>2016-12-30<br>5.0 miles<br>399.64 seconds/mile",
            "<a href=https://www.strava.com/activities/1513967998815566273>Trying to make easy days more interesting...</a><br>2016-12-30<br>8.1 miles<br>405.68 seconds/mile",
            "<a href=https://www.strava.com/activities/1513967998815088547>TAC Denbeigh Drive Reps: 3 x 2.3k [3']</a><br>2016-12-29<br>9.2 miles<br>406.50 seconds/mile",
            "<a href=https://www.strava.com/activities/1513967998813967975>Afternoon Run</a><br>2016-12-28<br>5.0 miles<br>402.44 seconds/mile",
            "<a href=https://www.strava.com/activities/1513967998813522257>Morning Run</a><br>2016-12-28<br>8.7 miles<br>393.48 seconds/mile",
            "<a href=https://www.strava.com/activities/1513967998812711838>Lunch Run</a><br>2016-12-27<br>9.1 miles<br>399.54 seconds/mile",
            "<a href=https://www.strava.com/activities/1513967998812063473>Afternoon Run</a><br>2016-12-26<br>6.3 miles<br>412.65 seconds/mile",
            "<a href=https://www.strava.com/activities/1513967998811731316>Lunch Run</a><br>2016-12-26<br>4.0 miles<br>436.02 seconds/mile",
            "<a href=https://www.strava.com/activities/1513967998811640331>TAC Boxing Day Handicap 5k</a><br>2016-12-26<br>3.1 miles<br>314.45 seconds/mile",
            "<a href=https://www.strava.com/activities/1513967998811588561>Morning Run</a><br>2016-12-26<br>2.3 miles<br>420.30 seconds/mile",
            "<a href=https://www.strava.com/activities/1513967998810928373>Long Run waits for no man</a><br>2016-12-25<br>15.1 miles<br>406.71 seconds/mile",
            "<a href=https://www.strava.com/activities/1513967998810153066>WD</a><br>2016-12-24<br>1.9 miles<br>462.72 seconds/mile",
            "<a href=https://www.strava.com/activities/1513967998810128074>TAC Christmas Eve Relays: 9x820m muddy loop avg 2:22ish</a><br>2016-12-24<br>5.2 miles<br>330.12 seconds/mile",
            "<a href=https://www.strava.com/activities/1513967998810049936>WU</a><br>2016-12-24<br>3.0 miles<br>424.18 seconds/mile",
            "<a href=https://www.strava.com/activities/1513967998809337248>Never had mud been so refreshing...</a><br>2016-12-23<br>9.0 miles<br>377.96 seconds/mile",
            "<a href=https://www.strava.com/activities/1513967998808420800>Morning Run</a><br>2016-12-22<br>8.9 miles<br>421.62 seconds/mile",
            "<a href=https://www.strava.com/activities/1513967998807971561>60' slog</a><br>2016-12-21<br>8.6 miles<br>426.65 seconds/mile",
            "<a href=https://www.strava.com/activities/1513967998807621063>Tired morning struggle</a><br>2016-12-21<br>5.0 miles<br>426.99 seconds/mile",
            "<a href=https://www.strava.com/activities/1513967998807178838>Scouting back ways into the university Track</a><br>2016-12-20<br>5.5 miles<br>406.81 seconds/mile"
           ],
           "marker": {
            "size": [
             59.455865984778995,
             44.50842616853577,
             57.3149195236284,
             61.14736298484179,
             44.93328387732194,
             58.5064099052403,
             60.174745533321534,
             51.048996072400875,
             42.01190307520001,
             31.160872901765767,
             30.773365106858236,
             78.3198569968051,
             29.563490998188964,
             41.43669871020132,
             35.77708763999664,
             58.18934610390462,
             61.24540799113024,
             60.4979338490167,
             46.22769732530488,
             47.391982444291145
            ],
            "sizemode": "area",
            "sizeref": 0.1614063195788814
           },
           "mode": "markers",
           "name": "hello",
           "x": [
            8.488386543552016,
            4.956814594802839,
            8.097480954925622,
            9.198864130637405,
            5.017025612984205,
            8.700088234928604,
            9.063094187679422,
            6.314514024382667,
            4.047870555631501,
            3.0882225011495397,
            2.2532839549131944,
            15.080281357575155,
            1.8890973939627425,
            5.201076217579877,
            3.017386009171462,
            8.95777150881728,
            8.896255607888948,
            8.577864217629589,
            5.004225334609219,
            5.521642412417513
           ],
           "y": [
            416.4958592132505,
            399.6374472311894,
            405.6818754726493,
            406.5016418287446,
            402.4356089022255,
            393.48166259168704,
            399.53823237338634,
            412.65128205128207,
            436.0173394743972,
            314.4470496287612,
            420.3029511621833,
            406.70710133939855,
            462.7199539965497,
            330.1210256410256,
            424.1802846599894,
            377.9567872240488,
            421.62431228713643,
            426.65429480381755,
            426.9938975855664,
            406.8099089989889
           ]
          }
         ],
         "name": "2016"
        },
        {
         "data": [
          {
           "hovertext": [
            "<a href=https://www.strava.com/activities/15139679981337116201>Long strides / short reps</a><br>2017-12-31<br>7.4 miles<br>402.94 seconds/mile",
            "<a href=https://www.strava.com/activities/15139679981333045895>When there's no slides at the water park so you have to do yet another run along the Thames path</a><br>2017-12-30<br>12.9 miles<br>428.59 seconds/mile",
            "<a href=https://www.strava.com/activities/15139679981331863315>That Cotswold countryside tho 👌</a><br>2017-12-29<br>7.1 miles<br>425.98 seconds/mile",
            "<a href=https://www.strava.com/activities/15139679981330181919>Morning chop</a><br>2017-12-28<br>7.7 miles<br>407.53 seconds/mile",
            "<a href=https://www.strava.com/activities/15139679981329333167>Picked the wrong day to start doing workouts again</a><br>2017-12-27<br>8.7 miles<br>390.33 seconds/mile",
            "<a href=https://www.strava.com/activities/15139679981327898285>Afternoon Run</a><br>2017-12-26<br>8.8 miles<br>398.55 seconds/mile",
            "<a href=https://www.strava.com/activities/15139679981326873816>Mondays are double days</a><br>2017-12-25<br>4.9 miles<br>409.08 seconds/mile",
            "<a href=https://www.strava.com/activities/15139679981326562047>Christmas morning run</a><br>2017-12-25<br>7.2 miles<br>404.76 seconds/mile",
            "<a href=https://www.strava.com/activities/15139679981325787120>Classic TAC muddy Sunday run</a><br>2017-12-24<br>11.8 miles<br>429.16 seconds/mile",
            "<a href=https://www.strava.com/activities/15139679981324569060>Afternoon Run</a><br>2017-12-23<br>6.9 miles<br>408.25 seconds/mile",
            "<a href=https://www.strava.com/activities/15139679981324568796>Lunch Run</a><br>2017-12-23<br>4.1 miles<br>404.26 seconds/mile",
            "<a href=https://www.strava.com/activities/15139679981324568631>Afternoon Run</a><br>2017-12-22<br>8.7 miles<br>401.33 seconds/mile",
            "<a href=https://www.strava.com/activities/15139679981324568352>Evening Run</a><br>2017-12-21<br>5.0 miles<br>413.82 seconds/mile",
            "<a href=https://www.strava.com/activities/15139679981324568907>Lunch Run</a><br>2017-12-21<br>2.9 miles<br>397.66 seconds/mile",
            "<a href=https://www.strava.com/activities/15139679981324568855>Lunch Run</a><br>2017-12-20<br>6.5 miles<br>409.40 seconds/mile",
            "<a href=https://www.strava.com/activities/15139679981317054518>Richmond Park long run</a><br>2017-12-17<br>14.7 miles<br>404.26 seconds/mile",
            "<a href=https://www.strava.com/activities/15139679981315994282>Nice to be back in the countryside with Beth</a><br>2017-12-16<br>8.2 miles<br>403.55 seconds/mile",
            "<a href=https://www.strava.com/activities/15139679981314692077>Different sort of December run round the common</a><br>2017-12-15<br>10.2 miles<br>403.44 seconds/mile",
            "<a href=https://www.strava.com/activities/15139679981313949413>Unconventional route choice</a><br>2017-12-14<br>9.9 miles<br>397.07 seconds/mile",
            "<a href=https://www.strava.com/activities/15139679981313948923>Morning Run</a><br>2017-12-12<br>5.7 miles<br>396.78 seconds/mile"
           ],
           "marker": {
            "size": [
             54.76312628037227,
             74.48489779814429,
             55.06359959174482,
             56.02677931132576,
             58.39520528262573,
             59.312730505347666,
             44.98888751680797,
             53.87021440462252,
             71.21797525905943,
             53.25410782277739,
             40.82891132518721,
             59.02541825349483,
             45.39823785126467,
             33.85262175962151,
             51.61395160225576,
             77.05841939723393,
             57.38466694161429,
             64,
             62.849025449882674,
             47.38143096192854
            ],
            "sizemode": "area",
            "sizeref": 0.1614063195788814
           },
           "mode": "markers",
           "name": "hello",
           "x": [
            7.442554090496726,
            12.94412616352045,
            7.117141188313222,
            7.702660718058335,
            8.736376402748952,
            8.826723998657835,
            4.947307591932097,
            7.170082145475786,
            11.819255098363305,
            6.945890862092535,
            4.123243068587123,
            8.680763542818795,
            4.980861719711186,
            2.881491791666149,
            6.506331788186461,
            14.688070886201796,
            8.159183267674948,
            10.151304261374229,
            9.947991101942412,
            5.657350218101831
           ],
           "y": [
            402.93940911367054,
            428.58588548601864,
            425.97670725251453,
            407.5310205115219,
            390.3322823186999,
            398.5487865279841,
            409.08490086426025,
            404.7635814889336,
            429.1573333333333,
            408.2546930492136,
            404.25521225822655,
            401.33167082294267,
            413.8184623296477,
            397.66246602421546,
            409.3970999745612,
            404.25521225822655,
            403.5456369107322,
            403.4444722988218,
            397.073772514187,
            396.7800788954635
           ]
          }
         ],
         "name": "2017"
        },
        {
         "data": [
          {
           "hovertext": [
            "<a href=https://www.strava.com/activities/15139679981516810737>Morning Run</a><br>2018-04-18<br>6.4 miles<br>412.97 seconds/mile",
            "<a href=https://www.strava.com/activities/15139679981513967998>WD</a><br>2018-04-17<br>2.7 miles<br>427.90 seconds/mile",
            "<a href=https://www.strava.com/activities/15139679981513971639>Tune-up before Stanford v2</a><br>2018-04-17<br>2.5 miles<br>386.95 seconds/mile",
            "<a href=https://www.strava.com/activities/15139679981513850381>WU</a><br>2018-04-17<br>2.6 miles<br>440.55 seconds/mile",
            "<a href=https://www.strava.com/activities/15139679981512957269>Double</a><br>2018-04-16<br>5.1 miles<br>408.05 seconds/mile",
            "<a href=https://www.strava.com/activities/15139679981512295493>Gonna be huge with all this extra protein pasta and gym sessions</a><br>2018-04-16<br>6.7 miles<br>397.56 seconds/mile",
            "<a href=https://www.strava.com/activities/15139679981510969124>Post-race LR</a><br>2018-04-15<br>13.5 miles<br>391.66 seconds/mile",
            "<a href=https://www.strava.com/activities/15139679981508987282>UCLA Invite 1500</a><br>2018-04-14<br>0.9 miles<br>249.98 seconds/mile",
            "<a href=https://www.strava.com/activities/15139679981508911819>WD + “Threshold” + strides</a><br>2018-04-14<br>3.5 miles<br>421.62 seconds/mile",
            "<a href=https://www.strava.com/activities/15139679981508828715>WU</a><br>2018-04-14<br>2.4 miles<br>408.25 seconds/mile",
            "<a href=https://www.strava.com/activities/15139679981508385177>Shakeout. 30 degrees already, gonna be a hot one </a><br>2018-04-14<br>1.5 miles<br>422.73 seconds/mile",
            "<a href=https://www.strava.com/activities/15139679981506783526>WD</a><br>2018-04-13<br>1.4 miles<br>407.94 seconds/mile",
            "<a href=https://www.strava.com/activities/15139679981506783438>Pre-meet: 200-300-150</a><br>2018-04-13<br>0.7 miles<br>397.47 seconds/mile",
            "<a href=https://www.strava.com/activities/15139679981506783344>Blocks are straight here...</a><br>2018-04-13<br>3.4 miles<br>429.39 seconds/mile",
            "<a href=https://www.strava.com/activities/15139679981505099369>Pre-flight</a><br>2018-04-12<br>6.5 miles<br>419.10 seconds/mile",
            "<a href=https://www.strava.com/activities/15139679981503409467>Shakeout</a><br>2018-04-11<br>4.3 miles<br>418.45 seconds/mile",
            "<a href=https://www.strava.com/activities/15139679981503028467>Recovery run</a><br>2018-04-11<br>7.7 miles<br>402.13 seconds/mile",
            "<a href=https://www.strava.com/activities/15139679981500534375>WD</a><br>2018-04-10<br>1.5 miles<br>476.28 seconds/mile",
            "<a href=https://www.strava.com/activities/15139679981500505684>6 x 1k [90\"]</a><br>2018-04-10<br>4.4 miles<br>346.69 seconds/mile",
            "<a href=https://www.strava.com/activities/15139679981500440232>Morning Run</a><br>2018-04-10<br>3.0 miles<br>412.02 seconds/mile"
           ],
           "marker": {
            "size": [
             51.468436929831086,
             34,
             31.25699921617557,
             33.67491648096547,
             45.83666654546336,
             51.54609587543949,
             72.60165287374662,
             15.264337522473747,
             38.22302970723278,
             31.51190251317746,
             25.03996805109783,
             23.473389188611005,
             16.852299546352718,
             38.09199390948182,
             52.01922721455981,
             42.43819034784589,
             55.58776843874919,
             27.055498516937366,
             39.191835884530846,
             35.17101079013795
            ],
            "sizemode": "area",
            "sizeref": 0.1614063195788814
           },
           "mode": "markers",
           "name": "hello",
           "x": [
            6.415052133172606,
            2.7016043844060302,
            2.5250723899238197,
            2.5738501497508297,
            5.148570221332968,
            6.682490959026682,
            13.457317906719526,
            0.9320591049747102,
            3.464836516832988,
            2.4325499894366636,
            1.4830303105620937,
            1.35061578038202,
            0.7145165098736129,
            3.3795220400909693,
            6.456124871065158,
            4.304435358594207,
            7.68352243776952,
            1.5368411895559673,
            4.4303876123131225,
            3.0026594753128615
           ],
           "y": [
            412.9689504747241,
            427.9021536825312,
            386.9535946140899,
            440.55297016151104,
            408.0476673427992,
            397.5642292490118,
            391.6622049160379,
            249.97514756135445,
            421.62431228713643,
            408.2546930492136,
            422.7318098240084,
            407.9442332065906,
            397.46604099777716,
            429.38633938100315,
            419.0989583333333,
            418.4451378055122,
            402.1339330334833,
            476.2770050310743,
            346.69108143041785,
            412.0174091141833
           ]
          }
         ],
         "name": "2018"
        }
       ],
       "layout": {
        "hovermode": "closest",
        "sliders": [
         {
          "active": 0,
          "currentvalue": {
           "font": {
            "size": 20
           },
           "prefix": "Year:",
           "visible": true,
           "xanchor": "right"
          },
          "len": 0.9,
          "pad": {
           "b": 10,
           "t": 50
          },
          "steps": [
           {
            "args": [
             [
              2014
             ],
             {
              "frame": {
               "duration": 300,
               "redraw": true
              },
              "mode": "immediate",
              "transition": {
               "duration": 300
              }
             }
            ],
            "label": 2014,
            "method": "animate"
           },
           {
            "args": [
             [
              2015
             ],
             {
              "frame": {
               "duration": 300,
               "redraw": true
              },
              "mode": "immediate",
              "transition": {
               "duration": 300
              }
             }
            ],
            "label": 2015,
            "method": "animate"
           },
           {
            "args": [
             [
              2016
             ],
             {
              "frame": {
               "duration": 300,
               "redraw": true
              },
              "mode": "immediate",
              "transition": {
               "duration": 300
              }
             }
            ],
            "label": 2016,
            "method": "animate"
           },
           {
            "args": [
             [
              2017
             ],
             {
              "frame": {
               "duration": 300,
               "redraw": true
              },
              "mode": "immediate",
              "transition": {
               "duration": 300
              }
             }
            ],
            "label": 2017,
            "method": "animate"
           },
           {
            "args": [
             [
              2018
             ],
             {
              "frame": {
               "duration": 300,
               "redraw": true
              },
              "mode": "immediate",
              "transition": {
               "duration": 300
              }
             }
            ],
            "label": 2018,
            "method": "animate"
           }
          ],
          "transition": {
           "duration": 300,
           "easing": "cubic-in-out"
          },
          "x": 0.1,
          "xanchor": "left",
          "y": 0,
          "yanchor": "top"
         }
        ],
        "updatemenus": [
         {
          "buttons": [
           {
            "args": [
             null,
             {
              "frame": {
               "duration": 500,
               "redraw": true
              },
              "fromcurrent": true,
              "transition": {
               "duration": 300,
               "easing": "quadratic-in-out"
              }
             }
            ],
            "label": "Play",
            "method": "animate"
           },
           {
            "args": [
             [
              null
             ],
             {
              "frame": {
               "duration": 0,
               "redraw": true
              },
              "mode": "immediate",
              "transition": {
               "duration": 0
              }
             }
            ],
            "label": "Pause",
            "method": "animate"
           }
          ],
          "direction": "left",
          "pad": {
           "r": 10,
           "t": 87
          },
          "showactive": false,
          "type": "buttons",
          "x": 0.1,
          "xanchor": "right",
          "y": 0,
          "yanchor": "top"
         }
        ],
        "xaxis": {
         "range": [
          0,
          20
         ],
         "title": "Distance (Miles)"
        },
        "yaxis": {
         "range": [
          0,
          600
         ],
         "title": "Pace (seconds per mile)"
        }
       }
      },
      "text/html": [
       "<div id=\"3f67db5e-9017-4a5c-b789-046a84c2cd72\" style=\"height: 525px; width: 100%;\" class=\"plotly-graph-div\"></div><script type=\"text/javascript\">require([\"plotly\"], function(Plotly) { window.PLOTLYENV=window.PLOTLYENV || {};window.PLOTLYENV.BASE_URL=\"https://plot.ly\";\n",
       "        Plotly.plot(\n",
       "            '3f67db5e-9017-4a5c-b789-046a84c2cd72',\n",
       "            [{\"x\": [9.173449985708428, 1.1235040451365157, 4.947494003753092, 0.2203387724160215, 1.1473026209502033, 7.100674810792002, 6.415114270446271, 7.44684156237961, 4.548696981371245, 8.512930766649683, 7.582922191705917, 5.192811960182436, 7.010265077609455, 5.0, 0.945729305181006, 1.6936756682863783, 0.3429977506306933, 6.750096312774182, 0.684814893061752, 6.324455988169064], \"y\": [410.02292993630573, 539.323056300268, 328.63794159689604, 481.118086696562, 448.03452115812917, 425.30126849894293, 411.4906673485042, 394.2528172464478, 432.3858140784524, 409.18891431477243, 403.5456369107322, 410.75548749361917, 386.1180422264875, 419.97390396659705, 304.5108798486282, 454.10270880361173, 443.10022026431716, 360.5960116513556, 475.9952676722863, 385.84032606089664], \"mode\": \"markers\", \"hovertext\": [\"<a href=https://www.strava.com/activities/1513967998237521211>12/31/2014 Hadlow, United Kingdom</a><br>2014-12-31<br>9.2 miles<br>410.02 seconds/mile\", \"<a href=https://www.strava.com/activities/1513967998237521183>12/30/2014 Tonbridge, United Kingdom</a><br>2014-12-30<br>1.1 miles<br>539.32 seconds/mile\", \"<a href=https://www.strava.com/activities/1513967998237521187>12/30/2014 Tonbridge, United Kingdom</a><br>2014-12-30<br>4.9 miles<br>328.64 seconds/mile\", \"<a href=https://www.strava.com/activities/1513967998237521177>12/30/2014 Tonbridge, United Kingdom</a><br>2014-12-30<br>0.2 miles<br>481.12 seconds/mile\", \"<a href=https://www.strava.com/activities/1513967998237521188>12/30/2014 Tonbridge, United Kingdom</a><br>2014-12-30<br>1.1 miles<br>448.03 seconds/mile\", \"<a href=https://www.strava.com/activities/1513967998237521208>12/29/2014 Tonbridge, United Kingdom</a><br>2014-12-29<br>7.1 miles<br>425.30 seconds/mile\", \"<a href=https://www.strava.com/activities/1513967998237521220>12/29/2014 Hadlow, United Kingdom</a><br>2014-12-29<br>6.4 miles<br>411.49 seconds/mile\", \"<a href=https://www.strava.com/activities/1513967998237521209>12/28/2014 Hildenborough, United Kingdom</a><br>2014-12-28<br>7.4 miles<br>394.25 seconds/mile\", \"<a href=https://www.strava.com/activities/1513967998237521197>12/28/2014 Tonbridge, United Kingdom</a><br>2014-12-28<br>4.5 miles<br>432.39 seconds/mile\", \"<a href=https://www.strava.com/activities/1513967998237521216>12/27/2014 Hadlow, United Kingdom</a><br>2014-12-27<br>8.5 miles<br>409.19 seconds/mile\", \"<a href=https://www.strava.com/activities/1513967998237521218>12/26/2014 Tonbridge, United Kingdom</a><br>2014-12-26<br>7.6 miles<br>403.55 seconds/mile\", \"<a href=https://www.strava.com/activities/1513967998237521214>12/26/2014 Hadlow, United Kingdom</a><br>2014-12-26<br>5.2 miles<br>410.76 seconds/mile\", \"<a href=https://www.strava.com/activities/1513967998237521223>12/25/2014 Hadlow, United Kingdom</a><br>2014-12-25<br>7.0 miles<br>386.12 seconds/mile\", \"<a href=https://www.strava.com/activities/1513967998237536854>Afternoon Run</a><br>2014-12-24<br>5.0 miles<br>419.97 seconds/mile\", \"<a href=https://www.strava.com/activities/1513967998237521221>12/24/2014 Sevenoaks, United Kingdom</a><br>2014-12-24<br>0.9 miles<br>304.51 seconds/mile\", \"<a href=https://www.strava.com/activities/1513967998237522645>12/24/2014 Sevenoaks, United Kingdom</a><br>2014-12-24<br>1.7 miles<br>454.10 seconds/mile\", \"<a href=https://www.strava.com/activities/1513967998237521191>12/23/2014 Tonbridge, United Kingdom</a><br>2014-12-23<br>0.3 miles<br>443.10 seconds/mile\", \"<a href=https://www.strava.com/activities/1513967998237521222>12/23/2014 Tonbridge, United Kingdom</a><br>2014-12-23<br>6.8 miles<br>360.60 seconds/mile\", \"<a href=https://www.strava.com/activities/1513967998237521194>12/23/2014 Tonbridge, United Kingdom</a><br>2014-12-23<br>0.7 miles<br>476.00 seconds/mile\", \"<a href=https://www.strava.com/activities/1513967998237521217>12/23/2014 Hadlow, United Kingdom</a><br>2014-12-23<br>6.3 miles<br>385.84 seconds/mile\"], \"marker\": {\"sizemode\": \"area\", \"sizeref\": 0.1614063195788814, \"size\": [61.326992425847855, 24.61706725018234, 40.32369030731191, 10.295630140987, 22.67156809750927, 54.954526656136345, 51.38093031466052, 54.18486873657626, 44.35087372307337, 59.016946718718, 55.31726674375732, 46.184412955021955, 52.028838157314254, 45.8257569495584, 16.97056274847714, 27.730849247724095, 12.328828005937952, 49.33558553417604, 18.05547008526779, 49.39635614091387]}, \"name\": \"Run\"}],\n",
       "            {\"xaxis\": {\"range\": [0, 20], \"title\": \"Distance (Miles)\"}, \"yaxis\": {\"title\": \"Pace (seconds per mile)\", \"range\": [0, 600]}, \"hovermode\": \"closest\", \"sliders\": [{\"active\": 0, \"yanchor\": \"top\", \"xanchor\": \"left\", \"currentvalue\": {\"font\": {\"size\": 20}, \"prefix\": \"Year:\", \"visible\": true, \"xanchor\": \"right\"}, \"transition\": {\"duration\": 300, \"easing\": \"cubic-in-out\"}, \"pad\": {\"b\": 10, \"t\": 50}, \"len\": 0.9, \"x\": 0.1, \"y\": 0, \"steps\": [{\"args\": [[2014], {\"frame\": {\"duration\": 300, \"redraw\": true}, \"mode\": \"immediate\", \"transition\": {\"duration\": 300}}], \"label\": 2014, \"method\": \"animate\"}, {\"args\": [[2015], {\"frame\": {\"duration\": 300, \"redraw\": true}, \"mode\": \"immediate\", \"transition\": {\"duration\": 300}}], \"label\": 2015, \"method\": \"animate\"}, {\"args\": [[2016], {\"frame\": {\"duration\": 300, \"redraw\": true}, \"mode\": \"immediate\", \"transition\": {\"duration\": 300}}], \"label\": 2016, \"method\": \"animate\"}, {\"args\": [[2017], {\"frame\": {\"duration\": 300, \"redraw\": true}, \"mode\": \"immediate\", \"transition\": {\"duration\": 300}}], \"label\": 2017, \"method\": \"animate\"}, {\"args\": [[2018], {\"frame\": {\"duration\": 300, \"redraw\": true}, \"mode\": \"immediate\", \"transition\": {\"duration\": 300}}], \"label\": 2018, \"method\": \"animate\"}]}], \"updatemenus\": [{\"buttons\": [{\"args\": [null, {\"frame\": {\"duration\": 500, \"redraw\": true}, \"fromcurrent\": true, \"transition\": {\"duration\": 300, \"easing\": \"quadratic-in-out\"}}], \"label\": \"Play\", \"method\": \"animate\"}, {\"args\": [[null], {\"frame\": {\"duration\": 0, \"redraw\": true}, \"mode\": \"immediate\", \"transition\": {\"duration\": 0}}], \"label\": \"Pause\", \"method\": \"animate\"}], \"direction\": \"left\", \"pad\": {\"r\": 10, \"t\": 87}, \"showactive\": false, \"type\": \"buttons\", \"x\": 0.1, \"xanchor\": \"right\", \"y\": 0, \"yanchor\": \"top\"}]},\n",
       "            {\"showLink\": true, \"linkText\": \"Export to plot.ly\"}\n",
       "        ).then(function () {return Plotly.addFrames('3f67db5e-9017-4a5c-b789-046a84c2cd72',[{\"data\": [{\"x\": [9.173449985708428, 1.1235040451365157, 4.947494003753092, 0.2203387724160215, 1.1473026209502033, 7.100674810792002, 6.415114270446271, 7.44684156237961, 4.548696981371245, 8.512930766649683, 7.582922191705917, 5.192811960182436, 7.010265077609455, 5.0, 0.945729305181006, 1.6936756682863783, 0.3429977506306933, 6.750096312774182, 0.684814893061752, 6.324455988169064], \"y\": [410.02292993630573, 539.323056300268, 328.63794159689604, 481.118086696562, 448.03452115812917, 425.30126849894293, 411.4906673485042, 394.2528172464478, 432.3858140784524, 409.18891431477243, 403.5456369107322, 410.75548749361917, 386.1180422264875, 419.97390396659705, 304.5108798486282, 454.10270880361173, 443.10022026431716, 360.5960116513556, 475.9952676722863, 385.84032606089664], \"mode\": \"markers\", \"hovertext\": [\"<a href=https://www.strava.com/activities/1513967998237521211>12/31/2014 Hadlow, United Kingdom</a><br>2014-12-31<br>9.2 miles<br>410.02 seconds/mile\", \"<a href=https://www.strava.com/activities/1513967998237521183>12/30/2014 Tonbridge, United Kingdom</a><br>2014-12-30<br>1.1 miles<br>539.32 seconds/mile\", \"<a href=https://www.strava.com/activities/1513967998237521187>12/30/2014 Tonbridge, United Kingdom</a><br>2014-12-30<br>4.9 miles<br>328.64 seconds/mile\", \"<a href=https://www.strava.com/activities/1513967998237521177>12/30/2014 Tonbridge, United Kingdom</a><br>2014-12-30<br>0.2 miles<br>481.12 seconds/mile\", \"<a href=https://www.strava.com/activities/1513967998237521188>12/30/2014 Tonbridge, United Kingdom</a><br>2014-12-30<br>1.1 miles<br>448.03 seconds/mile\", \"<a href=https://www.strava.com/activities/1513967998237521208>12/29/2014 Tonbridge, United Kingdom</a><br>2014-12-29<br>7.1 miles<br>425.30 seconds/mile\", \"<a href=https://www.strava.com/activities/1513967998237521220>12/29/2014 Hadlow, United Kingdom</a><br>2014-12-29<br>6.4 miles<br>411.49 seconds/mile\", \"<a href=https://www.strava.com/activities/1513967998237521209>12/28/2014 Hildenborough, United Kingdom</a><br>2014-12-28<br>7.4 miles<br>394.25 seconds/mile\", \"<a href=https://www.strava.com/activities/1513967998237521197>12/28/2014 Tonbridge, United Kingdom</a><br>2014-12-28<br>4.5 miles<br>432.39 seconds/mile\", \"<a href=https://www.strava.com/activities/1513967998237521216>12/27/2014 Hadlow, United Kingdom</a><br>2014-12-27<br>8.5 miles<br>409.19 seconds/mile\", \"<a href=https://www.strava.com/activities/1513967998237521218>12/26/2014 Tonbridge, United Kingdom</a><br>2014-12-26<br>7.6 miles<br>403.55 seconds/mile\", \"<a href=https://www.strava.com/activities/1513967998237521214>12/26/2014 Hadlow, United Kingdom</a><br>2014-12-26<br>5.2 miles<br>410.76 seconds/mile\", \"<a href=https://www.strava.com/activities/1513967998237521223>12/25/2014 Hadlow, United Kingdom</a><br>2014-12-25<br>7.0 miles<br>386.12 seconds/mile\", \"<a href=https://www.strava.com/activities/1513967998237536854>Afternoon Run</a><br>2014-12-24<br>5.0 miles<br>419.97 seconds/mile\", \"<a href=https://www.strava.com/activities/1513967998237521221>12/24/2014 Sevenoaks, United Kingdom</a><br>2014-12-24<br>0.9 miles<br>304.51 seconds/mile\", \"<a href=https://www.strava.com/activities/1513967998237522645>12/24/2014 Sevenoaks, United Kingdom</a><br>2014-12-24<br>1.7 miles<br>454.10 seconds/mile\", \"<a href=https://www.strava.com/activities/1513967998237521191>12/23/2014 Tonbridge, United Kingdom</a><br>2014-12-23<br>0.3 miles<br>443.10 seconds/mile\", \"<a href=https://www.strava.com/activities/1513967998237521222>12/23/2014 Tonbridge, United Kingdom</a><br>2014-12-23<br>6.8 miles<br>360.60 seconds/mile\", \"<a href=https://www.strava.com/activities/1513967998237521194>12/23/2014 Tonbridge, United Kingdom</a><br>2014-12-23<br>0.7 miles<br>476.00 seconds/mile\", \"<a href=https://www.strava.com/activities/1513967998237521217>12/23/2014 Hadlow, United Kingdom</a><br>2014-12-23<br>6.3 miles<br>385.84 seconds/mile\"], \"marker\": {\"sizemode\": \"area\", \"sizeref\": 0.1614063195788814, \"size\": [61.326992425847855, 24.61706725018234, 40.32369030731191, 10.295630140987, 22.67156809750927, 54.954526656136345, 51.38093031466052, 54.18486873657626, 44.35087372307337, 59.016946718718, 55.31726674375732, 46.184412955021955, 52.028838157314254, 45.8257569495584, 16.97056274847714, 27.730849247724095, 12.328828005937952, 49.33558553417604, 18.05547008526779, 49.39635614091387]}, \"name\": \"hello\"}], \"name\": \"2014\"}, {\"data\": [{\"x\": [5.72247008090273, 4.889209241055339, 2.900878621049623, 6.5314352467471135, 8.12003678526601, 7.946052419004064, 6.162961213913778, 12.096698025277444, 5.661264866342725, 1.2264033703257238, 3.0985994258515914, 1.7862602060471995, 7.139262057737955, 0.9910895149564418, 4.322579442504381, 3.438987410988356, 8.113263822436528, 7.978425938583519, 5.702399741508942, 1.868840642747959], \"y\": [434.36977058029686, 458.76282782212087, 430.8808567603748, 409.6054975820819, 370.7302464869845, 380.27882797731564, 418.7717928701535, 415.42075374290135, 430.7655246252677, 535.7323568575233, 319.8211446740858, 452.9524345623417, 393.001221001221, 501.5082580243066, 405.57963709677415, 442.61276127612757, 413.0749486652977, 381.90317987660177, 378.5791578452128, 481.118086696562], \"mode\": \"markers\", \"hovertext\": [\"<a href=https://www.strava.com/activities/1513967998460193745>With Tom</a><br>2015-12-31<br>5.7 miles<br>434.37 seconds/mile\", \"<a href=https://www.strava.com/activities/1513967998460193596>TAC NYE Knole Hills + WD</a><br>2015-12-31<br>4.9 miles<br>458.76 seconds/mile\", \"<a href=https://www.strava.com/activities/1513967998460193492>WU</a><br>2015-12-31<br>2.9 miles<br>430.88 seconds/mile\", \"<a href=https://www.strava.com/activities/1513967998459227177>Morning Run</a><br>2015-12-30<br>6.5 miles<br>409.61 seconds/mile\", \"<a href=https://www.strava.com/activities/1513967998458911935>2 x {1750,1275,875} [90\\\"]</a><br>2015-12-29<br>8.1 miles<br>370.73 seconds/mile\", \"<a href=https://www.strava.com/activities/1513967998458207318>TAC Monday 'social'</a><br>2015-12-28<br>7.9 miles<br>380.28 seconds/mile\", \"<a href=https://www.strava.com/activities/1513967998457856388>Morning Run with Tom</a><br>2015-12-28<br>6.2 miles<br>418.77 seconds/mile\", \"<a href=https://www.strava.com/activities/1513967998457173524>King of the Hill - muddy!</a><br>2015-12-27<br>12.1 miles<br>415.42 seconds/mile\", \"<a href=https://www.strava.com/activities/1513967998456737308>Recovery miles</a><br>2015-12-26<br>5.7 miles<br>430.77 seconds/mile\", \"<a href=https://www.strava.com/activities/1513967998456516797>WD</a><br>2015-12-26<br>1.2 miles<br>535.73 seconds/mile\", \"<a href=https://www.strava.com/activities/1513967998456516638>TAC Boxing Day Handicap 5k: 16:30</a><br>2015-12-26<br>3.1 miles<br>319.82 seconds/mile\", \"<a href=https://www.strava.com/activities/1513967998456516431>WU</a><br>2015-12-26<br>1.8 miles<br>452.95 seconds/mile\", \"<a href=https://www.strava.com/activities/1513967998455955049>Pre-empting calories</a><br>2015-12-25<br>7.1 miles<br>393.00 seconds/mile\", \"<a href=https://www.strava.com/activities/1513967998455506521>WD</a><br>2015-12-24<br>1.0 miles<br>501.51 seconds/mile\", \"<a href=https://www.strava.com/activities/1513967998455506444>TAC Christmas Eve Relays: 9 x 700m [2'-2'30\\\"]</a><br>2015-12-24<br>4.3 miles<br>405.58 seconds/mile\", \"<a href=https://www.strava.com/activities/1513967998455506289>Very rogue long WU</a><br>2015-12-24<br>3.4 miles<br>442.61 seconds/mile\", \"<a href=https://www.strava.com/activities/1513967998455050652>Jog into town to fetch car</a><br>2015-12-23<br>8.1 miles<br>413.07 seconds/mile\", \"<a href=https://www.strava.com/activities/1513967998454364776>Morning Run</a><br>2015-12-22<br>8.0 miles<br>381.90 seconds/mile\", \"<a href=https://www.strava.com/activities/1513967998454089535>Monday evening TAC social</a><br>2015-12-21<br>5.7 miles<br>378.58 seconds/mile\", \"<a href=https://www.strava.com/activities/1513967998453882627>WD</a><br>2015-12-21<br>1.9 miles<br>481.12 seconds/mile\"], \"marker\": {\"sizemode\": \"area\", \"sizeref\": 0.1614063195788814, \"size\": [49.85980344927164, 47.36032094485847, 35.35533905932738, 51.720402163943, 54.86346689738081, 54.97272050753901, 50.80354318352215, 70.88723439378913, 49.38623289946298, 25.632011235952593, 31.480152477394387, 28.442925306655784, 52.97169055259611, 22.293496809607955, 41.86884283091664, 39.01281840626232, 57.88782255362521, 55.19963767997033, 46.46504062195577, 29.9833287011299]}, \"name\": \"hello\"}], \"name\": \"2015\"}, {\"data\": [{\"x\": [8.488386543552016, 4.956814594802839, 8.097480954925622, 9.198864130637405, 5.017025612984205, 8.700088234928604, 9.063094187679422, 6.314514024382667, 4.047870555631501, 3.0882225011495397, 2.2532839549131944, 15.080281357575155, 1.8890973939627425, 5.201076217579877, 3.017386009171462, 8.95777150881728, 8.896255607888948, 8.577864217629589, 5.004225334609219, 5.521642412417513], \"y\": [416.4958592132505, 399.6374472311894, 405.6818754726493, 406.5016418287446, 402.4356089022255, 393.48166259168704, 399.53823237338634, 412.65128205128207, 436.0173394743972, 314.4470496287612, 420.3029511621833, 406.70710133939855, 462.7199539965497, 330.1210256410256, 424.1802846599894, 377.9567872240488, 421.62431228713643, 426.65429480381755, 426.9938975855664, 406.8099089989889], \"mode\": \"markers\", \"hovertext\": [\"<a href=https://www.strava.com/activities/1513967998816658689>6 x Deakin Leas hill sprints </a><br>2016-12-31<br>8.5 miles<br>416.50 seconds/mile\", \"<a href=https://www.strava.com/activities/1513967998815918355>Afternoon Run</a><br>2016-12-30<br>5.0 miles<br>399.64 seconds/mile\", \"<a href=https://www.strava.com/activities/1513967998815566273>Trying to make easy days more interesting...</a><br>2016-12-30<br>8.1 miles<br>405.68 seconds/mile\", \"<a href=https://www.strava.com/activities/1513967998815088547>TAC Denbeigh Drive Reps: 3 x 2.3k [3']</a><br>2016-12-29<br>9.2 miles<br>406.50 seconds/mile\", \"<a href=https://www.strava.com/activities/1513967998813967975>Afternoon Run</a><br>2016-12-28<br>5.0 miles<br>402.44 seconds/mile\", \"<a href=https://www.strava.com/activities/1513967998813522257>Morning Run</a><br>2016-12-28<br>8.7 miles<br>393.48 seconds/mile\", \"<a href=https://www.strava.com/activities/1513967998812711838>Lunch Run</a><br>2016-12-27<br>9.1 miles<br>399.54 seconds/mile\", \"<a href=https://www.strava.com/activities/1513967998812063473>Afternoon Run</a><br>2016-12-26<br>6.3 miles<br>412.65 seconds/mile\", \"<a href=https://www.strava.com/activities/1513967998811731316>Lunch Run</a><br>2016-12-26<br>4.0 miles<br>436.02 seconds/mile\", \"<a href=https://www.strava.com/activities/1513967998811640331>TAC Boxing Day Handicap 5k</a><br>2016-12-26<br>3.1 miles<br>314.45 seconds/mile\", \"<a href=https://www.strava.com/activities/1513967998811588561>Morning Run</a><br>2016-12-26<br>2.3 miles<br>420.30 seconds/mile\", \"<a href=https://www.strava.com/activities/1513967998810928373>Long Run waits for no man</a><br>2016-12-25<br>15.1 miles<br>406.71 seconds/mile\", \"<a href=https://www.strava.com/activities/1513967998810153066>WD</a><br>2016-12-24<br>1.9 miles<br>462.72 seconds/mile\", \"<a href=https://www.strava.com/activities/1513967998810128074>TAC Christmas Eve Relays: 9x820m muddy loop avg 2:22ish</a><br>2016-12-24<br>5.2 miles<br>330.12 seconds/mile\", \"<a href=https://www.strava.com/activities/1513967998810049936>WU</a><br>2016-12-24<br>3.0 miles<br>424.18 seconds/mile\", \"<a href=https://www.strava.com/activities/1513967998809337248>Never had mud been so refreshing...</a><br>2016-12-23<br>9.0 miles<br>377.96 seconds/mile\", \"<a href=https://www.strava.com/activities/1513967998808420800>Morning Run</a><br>2016-12-22<br>8.9 miles<br>421.62 seconds/mile\", \"<a href=https://www.strava.com/activities/1513967998807971561>60' slog</a><br>2016-12-21<br>8.6 miles<br>426.65 seconds/mile\", \"<a href=https://www.strava.com/activities/1513967998807621063>Tired morning struggle</a><br>2016-12-21<br>5.0 miles<br>426.99 seconds/mile\", \"<a href=https://www.strava.com/activities/1513967998807178838>Scouting back ways into the university Track</a><br>2016-12-20<br>5.5 miles<br>406.81 seconds/mile\"], \"marker\": {\"sizemode\": \"area\", \"sizeref\": 0.1614063195788814, \"size\": [59.455865984778995, 44.50842616853577, 57.3149195236284, 61.14736298484179, 44.93328387732194, 58.5064099052403, 60.174745533321534, 51.048996072400875, 42.01190307520001, 31.160872901765767, 30.773365106858236, 78.3198569968051, 29.563490998188964, 41.43669871020132, 35.77708763999664, 58.18934610390462, 61.24540799113024, 60.4979338490167, 46.22769732530488, 47.391982444291145]}, \"name\": \"hello\"}], \"name\": \"2016\"}, {\"data\": [{\"x\": [7.442554090496726, 12.94412616352045, 7.117141188313222, 7.702660718058335, 8.736376402748952, 8.826723998657835, 4.947307591932097, 7.170082145475786, 11.819255098363305, 6.945890862092535, 4.123243068587123, 8.680763542818795, 4.980861719711186, 2.881491791666149, 6.506331788186461, 14.688070886201796, 8.159183267674948, 10.151304261374229, 9.947991101942412, 5.657350218101831], \"y\": [402.93940911367054, 428.58588548601864, 425.97670725251453, 407.5310205115219, 390.3322823186999, 398.5487865279841, 409.08490086426025, 404.7635814889336, 429.1573333333333, 408.2546930492136, 404.25521225822655, 401.33167082294267, 413.8184623296477, 397.66246602421546, 409.3970999745612, 404.25521225822655, 403.5456369107322, 403.4444722988218, 397.073772514187, 396.7800788954635], \"mode\": \"markers\", \"hovertext\": [\"<a href=https://www.strava.com/activities/15139679981337116201>Long strides / short reps</a><br>2017-12-31<br>7.4 miles<br>402.94 seconds/mile\", \"<a href=https://www.strava.com/activities/15139679981333045895>When there's no slides at the water park so you have to do yet another run along the Thames path</a><br>2017-12-30<br>12.9 miles<br>428.59 seconds/mile\", \"<a href=https://www.strava.com/activities/15139679981331863315>That Cotswold countryside tho \\ud83d\\udc4c</a><br>2017-12-29<br>7.1 miles<br>425.98 seconds/mile\", \"<a href=https://www.strava.com/activities/15139679981330181919>Morning chop</a><br>2017-12-28<br>7.7 miles<br>407.53 seconds/mile\", \"<a href=https://www.strava.com/activities/15139679981329333167>Picked the wrong day to start doing workouts again</a><br>2017-12-27<br>8.7 miles<br>390.33 seconds/mile\", \"<a href=https://www.strava.com/activities/15139679981327898285>Afternoon Run</a><br>2017-12-26<br>8.8 miles<br>398.55 seconds/mile\", \"<a href=https://www.strava.com/activities/15139679981326873816>Mondays are double days</a><br>2017-12-25<br>4.9 miles<br>409.08 seconds/mile\", \"<a href=https://www.strava.com/activities/15139679981326562047>Christmas morning run</a><br>2017-12-25<br>7.2 miles<br>404.76 seconds/mile\", \"<a href=https://www.strava.com/activities/15139679981325787120>Classic TAC muddy Sunday run</a><br>2017-12-24<br>11.8 miles<br>429.16 seconds/mile\", \"<a href=https://www.strava.com/activities/15139679981324569060>Afternoon Run</a><br>2017-12-23<br>6.9 miles<br>408.25 seconds/mile\", \"<a href=https://www.strava.com/activities/15139679981324568796>Lunch Run</a><br>2017-12-23<br>4.1 miles<br>404.26 seconds/mile\", \"<a href=https://www.strava.com/activities/15139679981324568631>Afternoon Run</a><br>2017-12-22<br>8.7 miles<br>401.33 seconds/mile\", \"<a href=https://www.strava.com/activities/15139679981324568352>Evening Run</a><br>2017-12-21<br>5.0 miles<br>413.82 seconds/mile\", \"<a href=https://www.strava.com/activities/15139679981324568907>Lunch Run</a><br>2017-12-21<br>2.9 miles<br>397.66 seconds/mile\", \"<a href=https://www.strava.com/activities/15139679981324568855>Lunch Run</a><br>2017-12-20<br>6.5 miles<br>409.40 seconds/mile\", \"<a href=https://www.strava.com/activities/15139679981317054518>Richmond Park long run</a><br>2017-12-17<br>14.7 miles<br>404.26 seconds/mile\", \"<a href=https://www.strava.com/activities/15139679981315994282>Nice to be back in the countryside with Beth</a><br>2017-12-16<br>8.2 miles<br>403.55 seconds/mile\", \"<a href=https://www.strava.com/activities/15139679981314692077>Different sort of December run round the common</a><br>2017-12-15<br>10.2 miles<br>403.44 seconds/mile\", \"<a href=https://www.strava.com/activities/15139679981313949413>Unconventional route choice</a><br>2017-12-14<br>9.9 miles<br>397.07 seconds/mile\", \"<a href=https://www.strava.com/activities/15139679981313948923>Morning Run</a><br>2017-12-12<br>5.7 miles<br>396.78 seconds/mile\"], \"marker\": {\"sizemode\": \"area\", \"sizeref\": 0.1614063195788814, \"size\": [54.76312628037227, 74.48489779814429, 55.06359959174482, 56.02677931132576, 58.39520528262573, 59.312730505347666, 44.98888751680797, 53.87021440462252, 71.21797525905943, 53.25410782277739, 40.82891132518721, 59.02541825349483, 45.39823785126467, 33.85262175962151, 51.61395160225576, 77.05841939723393, 57.38466694161429, 64.0, 62.849025449882674, 47.38143096192854]}, \"name\": \"hello\"}], \"name\": \"2017\"}, {\"data\": [{\"x\": [6.415052133172606, 2.7016043844060302, 2.5250723899238197, 2.5738501497508297, 5.148570221332968, 6.682490959026682, 13.457317906719526, 0.9320591049747102, 3.464836516832988, 2.4325499894366636, 1.4830303105620937, 1.35061578038202, 0.7145165098736129, 3.3795220400909693, 6.456124871065158, 4.304435358594207, 7.68352243776952, 1.5368411895559673, 4.4303876123131225, 3.0026594753128615], \"y\": [412.9689504747241, 427.9021536825312, 386.9535946140899, 440.55297016151104, 408.0476673427992, 397.5642292490118, 391.6622049160379, 249.97514756135445, 421.62431228713643, 408.2546930492136, 422.7318098240084, 407.9442332065906, 397.46604099777716, 429.38633938100315, 419.0989583333333, 418.4451378055122, 402.1339330334833, 476.2770050310743, 346.69108143041785, 412.0174091141833], \"mode\": \"markers\", \"hovertext\": [\"<a href=https://www.strava.com/activities/15139679981516810737>Morning Run</a><br>2018-04-18<br>6.4 miles<br>412.97 seconds/mile\", \"<a href=https://www.strava.com/activities/15139679981513967998>WD</a><br>2018-04-17<br>2.7 miles<br>427.90 seconds/mile\", \"<a href=https://www.strava.com/activities/15139679981513971639>Tune-up before Stanford v2</a><br>2018-04-17<br>2.5 miles<br>386.95 seconds/mile\", \"<a href=https://www.strava.com/activities/15139679981513850381>WU</a><br>2018-04-17<br>2.6 miles<br>440.55 seconds/mile\", \"<a href=https://www.strava.com/activities/15139679981512957269>Double</a><br>2018-04-16<br>5.1 miles<br>408.05 seconds/mile\", \"<a href=https://www.strava.com/activities/15139679981512295493>Gonna be huge with all this extra protein pasta and gym sessions</a><br>2018-04-16<br>6.7 miles<br>397.56 seconds/mile\", \"<a href=https://www.strava.com/activities/15139679981510969124>Post-race LR</a><br>2018-04-15<br>13.5 miles<br>391.66 seconds/mile\", \"<a href=https://www.strava.com/activities/15139679981508987282>UCLA Invite 1500</a><br>2018-04-14<br>0.9 miles<br>249.98 seconds/mile\", \"<a href=https://www.strava.com/activities/15139679981508911819>WD + \\u201cThreshold\\u201d + strides</a><br>2018-04-14<br>3.5 miles<br>421.62 seconds/mile\", \"<a href=https://www.strava.com/activities/15139679981508828715>WU</a><br>2018-04-14<br>2.4 miles<br>408.25 seconds/mile\", \"<a href=https://www.strava.com/activities/15139679981508385177>Shakeout. 30 degrees already, gonna be a hot one </a><br>2018-04-14<br>1.5 miles<br>422.73 seconds/mile\", \"<a href=https://www.strava.com/activities/15139679981506783526>WD</a><br>2018-04-13<br>1.4 miles<br>407.94 seconds/mile\", \"<a href=https://www.strava.com/activities/15139679981506783438>Pre-meet: 200-300-150</a><br>2018-04-13<br>0.7 miles<br>397.47 seconds/mile\", \"<a href=https://www.strava.com/activities/15139679981506783344>Blocks are straight here...</a><br>2018-04-13<br>3.4 miles<br>429.39 seconds/mile\", \"<a href=https://www.strava.com/activities/15139679981505099369>Pre-flight</a><br>2018-04-12<br>6.5 miles<br>419.10 seconds/mile\", \"<a href=https://www.strava.com/activities/15139679981503409467>Shakeout</a><br>2018-04-11<br>4.3 miles<br>418.45 seconds/mile\", \"<a href=https://www.strava.com/activities/15139679981503028467>Recovery run</a><br>2018-04-11<br>7.7 miles<br>402.13 seconds/mile\", \"<a href=https://www.strava.com/activities/15139679981500534375>WD</a><br>2018-04-10<br>1.5 miles<br>476.28 seconds/mile\", \"<a href=https://www.strava.com/activities/15139679981500505684>6 x 1k [90\\\"]</a><br>2018-04-10<br>4.4 miles<br>346.69 seconds/mile\", \"<a href=https://www.strava.com/activities/15139679981500440232>Morning Run</a><br>2018-04-10<br>3.0 miles<br>412.02 seconds/mile\"], \"marker\": {\"sizemode\": \"area\", \"sizeref\": 0.1614063195788814, \"size\": [51.468436929831086, 34.0, 31.25699921617557, 33.67491648096547, 45.83666654546336, 51.54609587543949, 72.60165287374662, 15.264337522473747, 38.22302970723278, 31.51190251317746, 25.03996805109783, 23.473389188611005, 16.852299546352718, 38.09199390948182, 52.01922721455981, 42.43819034784589, 55.58776843874919, 27.055498516937366, 39.191835884530846, 35.17101079013795]}, \"name\": \"hello\"}], \"name\": \"2018\"}]);}).then(function(){Plotly.animate('3f67db5e-9017-4a5c-b789-046a84c2cd72');})\n",
       "        });</script>"
      ],
      "text/vnd.plotly.v1+html": [
       "<div id=\"3f67db5e-9017-4a5c-b789-046a84c2cd72\" style=\"height: 525px; width: 100%;\" class=\"plotly-graph-div\"></div><script type=\"text/javascript\">require([\"plotly\"], function(Plotly) { window.PLOTLYENV=window.PLOTLYENV || {};window.PLOTLYENV.BASE_URL=\"https://plot.ly\";\n",
       "        Plotly.plot(\n",
       "            '3f67db5e-9017-4a5c-b789-046a84c2cd72',\n",
       "            [{\"x\": [9.173449985708428, 1.1235040451365157, 4.947494003753092, 0.2203387724160215, 1.1473026209502033, 7.100674810792002, 6.415114270446271, 7.44684156237961, 4.548696981371245, 8.512930766649683, 7.582922191705917, 5.192811960182436, 7.010265077609455, 5.0, 0.945729305181006, 1.6936756682863783, 0.3429977506306933, 6.750096312774182, 0.684814893061752, 6.324455988169064], \"y\": [410.02292993630573, 539.323056300268, 328.63794159689604, 481.118086696562, 448.03452115812917, 425.30126849894293, 411.4906673485042, 394.2528172464478, 432.3858140784524, 409.18891431477243, 403.5456369107322, 410.75548749361917, 386.1180422264875, 419.97390396659705, 304.5108798486282, 454.10270880361173, 443.10022026431716, 360.5960116513556, 475.9952676722863, 385.84032606089664], \"mode\": \"markers\", \"hovertext\": [\"<a href=https://www.strava.com/activities/1513967998237521211>12/31/2014 Hadlow, United Kingdom</a><br>2014-12-31<br>9.2 miles<br>410.02 seconds/mile\", \"<a href=https://www.strava.com/activities/1513967998237521183>12/30/2014 Tonbridge, United Kingdom</a><br>2014-12-30<br>1.1 miles<br>539.32 seconds/mile\", \"<a href=https://www.strava.com/activities/1513967998237521187>12/30/2014 Tonbridge, United Kingdom</a><br>2014-12-30<br>4.9 miles<br>328.64 seconds/mile\", \"<a href=https://www.strava.com/activities/1513967998237521177>12/30/2014 Tonbridge, United Kingdom</a><br>2014-12-30<br>0.2 miles<br>481.12 seconds/mile\", \"<a href=https://www.strava.com/activities/1513967998237521188>12/30/2014 Tonbridge, United Kingdom</a><br>2014-12-30<br>1.1 miles<br>448.03 seconds/mile\", \"<a href=https://www.strava.com/activities/1513967998237521208>12/29/2014 Tonbridge, United Kingdom</a><br>2014-12-29<br>7.1 miles<br>425.30 seconds/mile\", \"<a href=https://www.strava.com/activities/1513967998237521220>12/29/2014 Hadlow, United Kingdom</a><br>2014-12-29<br>6.4 miles<br>411.49 seconds/mile\", \"<a href=https://www.strava.com/activities/1513967998237521209>12/28/2014 Hildenborough, United Kingdom</a><br>2014-12-28<br>7.4 miles<br>394.25 seconds/mile\", \"<a href=https://www.strava.com/activities/1513967998237521197>12/28/2014 Tonbridge, United Kingdom</a><br>2014-12-28<br>4.5 miles<br>432.39 seconds/mile\", \"<a href=https://www.strava.com/activities/1513967998237521216>12/27/2014 Hadlow, United Kingdom</a><br>2014-12-27<br>8.5 miles<br>409.19 seconds/mile\", \"<a href=https://www.strava.com/activities/1513967998237521218>12/26/2014 Tonbridge, United Kingdom</a><br>2014-12-26<br>7.6 miles<br>403.55 seconds/mile\", \"<a href=https://www.strava.com/activities/1513967998237521214>12/26/2014 Hadlow, United Kingdom</a><br>2014-12-26<br>5.2 miles<br>410.76 seconds/mile\", \"<a href=https://www.strava.com/activities/1513967998237521223>12/25/2014 Hadlow, United Kingdom</a><br>2014-12-25<br>7.0 miles<br>386.12 seconds/mile\", \"<a href=https://www.strava.com/activities/1513967998237536854>Afternoon Run</a><br>2014-12-24<br>5.0 miles<br>419.97 seconds/mile\", \"<a href=https://www.strava.com/activities/1513967998237521221>12/24/2014 Sevenoaks, United Kingdom</a><br>2014-12-24<br>0.9 miles<br>304.51 seconds/mile\", \"<a href=https://www.strava.com/activities/1513967998237522645>12/24/2014 Sevenoaks, United Kingdom</a><br>2014-12-24<br>1.7 miles<br>454.10 seconds/mile\", \"<a href=https://www.strava.com/activities/1513967998237521191>12/23/2014 Tonbridge, United Kingdom</a><br>2014-12-23<br>0.3 miles<br>443.10 seconds/mile\", \"<a href=https://www.strava.com/activities/1513967998237521222>12/23/2014 Tonbridge, United Kingdom</a><br>2014-12-23<br>6.8 miles<br>360.60 seconds/mile\", \"<a href=https://www.strava.com/activities/1513967998237521194>12/23/2014 Tonbridge, United Kingdom</a><br>2014-12-23<br>0.7 miles<br>476.00 seconds/mile\", \"<a href=https://www.strava.com/activities/1513967998237521217>12/23/2014 Hadlow, United Kingdom</a><br>2014-12-23<br>6.3 miles<br>385.84 seconds/mile\"], \"marker\": {\"sizemode\": \"area\", \"sizeref\": 0.1614063195788814, \"size\": [61.326992425847855, 24.61706725018234, 40.32369030731191, 10.295630140987, 22.67156809750927, 54.954526656136345, 51.38093031466052, 54.18486873657626, 44.35087372307337, 59.016946718718, 55.31726674375732, 46.184412955021955, 52.028838157314254, 45.8257569495584, 16.97056274847714, 27.730849247724095, 12.328828005937952, 49.33558553417604, 18.05547008526779, 49.39635614091387]}, \"name\": \"Run\"}],\n",
       "            {\"xaxis\": {\"range\": [0, 20], \"title\": \"Distance (Miles)\"}, \"yaxis\": {\"title\": \"Pace (seconds per mile)\", \"range\": [0, 600]}, \"hovermode\": \"closest\", \"sliders\": [{\"active\": 0, \"yanchor\": \"top\", \"xanchor\": \"left\", \"currentvalue\": {\"font\": {\"size\": 20}, \"prefix\": \"Year:\", \"visible\": true, \"xanchor\": \"right\"}, \"transition\": {\"duration\": 300, \"easing\": \"cubic-in-out\"}, \"pad\": {\"b\": 10, \"t\": 50}, \"len\": 0.9, \"x\": 0.1, \"y\": 0, \"steps\": [{\"args\": [[2014], {\"frame\": {\"duration\": 300, \"redraw\": true}, \"mode\": \"immediate\", \"transition\": {\"duration\": 300}}], \"label\": 2014, \"method\": \"animate\"}, {\"args\": [[2015], {\"frame\": {\"duration\": 300, \"redraw\": true}, \"mode\": \"immediate\", \"transition\": {\"duration\": 300}}], \"label\": 2015, \"method\": \"animate\"}, {\"args\": [[2016], {\"frame\": {\"duration\": 300, \"redraw\": true}, \"mode\": \"immediate\", \"transition\": {\"duration\": 300}}], \"label\": 2016, \"method\": \"animate\"}, {\"args\": [[2017], {\"frame\": {\"duration\": 300, \"redraw\": true}, \"mode\": \"immediate\", \"transition\": {\"duration\": 300}}], \"label\": 2017, \"method\": \"animate\"}, {\"args\": [[2018], {\"frame\": {\"duration\": 300, \"redraw\": true}, \"mode\": \"immediate\", \"transition\": {\"duration\": 300}}], \"label\": 2018, \"method\": \"animate\"}]}], \"updatemenus\": [{\"buttons\": [{\"args\": [null, {\"frame\": {\"duration\": 500, \"redraw\": true}, \"fromcurrent\": true, \"transition\": {\"duration\": 300, \"easing\": \"quadratic-in-out\"}}], \"label\": \"Play\", \"method\": \"animate\"}, {\"args\": [[null], {\"frame\": {\"duration\": 0, \"redraw\": true}, \"mode\": \"immediate\", \"transition\": {\"duration\": 0}}], \"label\": \"Pause\", \"method\": \"animate\"}], \"direction\": \"left\", \"pad\": {\"r\": 10, \"t\": 87}, \"showactive\": false, \"type\": \"buttons\", \"x\": 0.1, \"xanchor\": \"right\", \"y\": 0, \"yanchor\": \"top\"}]},\n",
       "            {\"showLink\": true, \"linkText\": \"Export to plot.ly\"}\n",
       "        ).then(function () {return Plotly.addFrames('3f67db5e-9017-4a5c-b789-046a84c2cd72',[{\"data\": [{\"x\": [9.173449985708428, 1.1235040451365157, 4.947494003753092, 0.2203387724160215, 1.1473026209502033, 7.100674810792002, 6.415114270446271, 7.44684156237961, 4.548696981371245, 8.512930766649683, 7.582922191705917, 5.192811960182436, 7.010265077609455, 5.0, 0.945729305181006, 1.6936756682863783, 0.3429977506306933, 6.750096312774182, 0.684814893061752, 6.324455988169064], \"y\": [410.02292993630573, 539.323056300268, 328.63794159689604, 481.118086696562, 448.03452115812917, 425.30126849894293, 411.4906673485042, 394.2528172464478, 432.3858140784524, 409.18891431477243, 403.5456369107322, 410.75548749361917, 386.1180422264875, 419.97390396659705, 304.5108798486282, 454.10270880361173, 443.10022026431716, 360.5960116513556, 475.9952676722863, 385.84032606089664], \"mode\": \"markers\", \"hovertext\": [\"<a href=https://www.strava.com/activities/1513967998237521211>12/31/2014 Hadlow, United Kingdom</a><br>2014-12-31<br>9.2 miles<br>410.02 seconds/mile\", \"<a href=https://www.strava.com/activities/1513967998237521183>12/30/2014 Tonbridge, United Kingdom</a><br>2014-12-30<br>1.1 miles<br>539.32 seconds/mile\", \"<a href=https://www.strava.com/activities/1513967998237521187>12/30/2014 Tonbridge, United Kingdom</a><br>2014-12-30<br>4.9 miles<br>328.64 seconds/mile\", \"<a href=https://www.strava.com/activities/1513967998237521177>12/30/2014 Tonbridge, United Kingdom</a><br>2014-12-30<br>0.2 miles<br>481.12 seconds/mile\", \"<a href=https://www.strava.com/activities/1513967998237521188>12/30/2014 Tonbridge, United Kingdom</a><br>2014-12-30<br>1.1 miles<br>448.03 seconds/mile\", \"<a href=https://www.strava.com/activities/1513967998237521208>12/29/2014 Tonbridge, United Kingdom</a><br>2014-12-29<br>7.1 miles<br>425.30 seconds/mile\", \"<a href=https://www.strava.com/activities/1513967998237521220>12/29/2014 Hadlow, United Kingdom</a><br>2014-12-29<br>6.4 miles<br>411.49 seconds/mile\", \"<a href=https://www.strava.com/activities/1513967998237521209>12/28/2014 Hildenborough, United Kingdom</a><br>2014-12-28<br>7.4 miles<br>394.25 seconds/mile\", \"<a href=https://www.strava.com/activities/1513967998237521197>12/28/2014 Tonbridge, United Kingdom</a><br>2014-12-28<br>4.5 miles<br>432.39 seconds/mile\", \"<a href=https://www.strava.com/activities/1513967998237521216>12/27/2014 Hadlow, United Kingdom</a><br>2014-12-27<br>8.5 miles<br>409.19 seconds/mile\", \"<a href=https://www.strava.com/activities/1513967998237521218>12/26/2014 Tonbridge, United Kingdom</a><br>2014-12-26<br>7.6 miles<br>403.55 seconds/mile\", \"<a href=https://www.strava.com/activities/1513967998237521214>12/26/2014 Hadlow, United Kingdom</a><br>2014-12-26<br>5.2 miles<br>410.76 seconds/mile\", \"<a href=https://www.strava.com/activities/1513967998237521223>12/25/2014 Hadlow, United Kingdom</a><br>2014-12-25<br>7.0 miles<br>386.12 seconds/mile\", \"<a href=https://www.strava.com/activities/1513967998237536854>Afternoon Run</a><br>2014-12-24<br>5.0 miles<br>419.97 seconds/mile\", \"<a href=https://www.strava.com/activities/1513967998237521221>12/24/2014 Sevenoaks, United Kingdom</a><br>2014-12-24<br>0.9 miles<br>304.51 seconds/mile\", \"<a href=https://www.strava.com/activities/1513967998237522645>12/24/2014 Sevenoaks, United Kingdom</a><br>2014-12-24<br>1.7 miles<br>454.10 seconds/mile\", \"<a href=https://www.strava.com/activities/1513967998237521191>12/23/2014 Tonbridge, United Kingdom</a><br>2014-12-23<br>0.3 miles<br>443.10 seconds/mile\", \"<a href=https://www.strava.com/activities/1513967998237521222>12/23/2014 Tonbridge, United Kingdom</a><br>2014-12-23<br>6.8 miles<br>360.60 seconds/mile\", \"<a href=https://www.strava.com/activities/1513967998237521194>12/23/2014 Tonbridge, United Kingdom</a><br>2014-12-23<br>0.7 miles<br>476.00 seconds/mile\", \"<a href=https://www.strava.com/activities/1513967998237521217>12/23/2014 Hadlow, United Kingdom</a><br>2014-12-23<br>6.3 miles<br>385.84 seconds/mile\"], \"marker\": {\"sizemode\": \"area\", \"sizeref\": 0.1614063195788814, \"size\": [61.326992425847855, 24.61706725018234, 40.32369030731191, 10.295630140987, 22.67156809750927, 54.954526656136345, 51.38093031466052, 54.18486873657626, 44.35087372307337, 59.016946718718, 55.31726674375732, 46.184412955021955, 52.028838157314254, 45.8257569495584, 16.97056274847714, 27.730849247724095, 12.328828005937952, 49.33558553417604, 18.05547008526779, 49.39635614091387]}, \"name\": \"hello\"}], \"name\": \"2014\"}, {\"data\": [{\"x\": [5.72247008090273, 4.889209241055339, 2.900878621049623, 6.5314352467471135, 8.12003678526601, 7.946052419004064, 6.162961213913778, 12.096698025277444, 5.661264866342725, 1.2264033703257238, 3.0985994258515914, 1.7862602060471995, 7.139262057737955, 0.9910895149564418, 4.322579442504381, 3.438987410988356, 8.113263822436528, 7.978425938583519, 5.702399741508942, 1.868840642747959], \"y\": [434.36977058029686, 458.76282782212087, 430.8808567603748, 409.6054975820819, 370.7302464869845, 380.27882797731564, 418.7717928701535, 415.42075374290135, 430.7655246252677, 535.7323568575233, 319.8211446740858, 452.9524345623417, 393.001221001221, 501.5082580243066, 405.57963709677415, 442.61276127612757, 413.0749486652977, 381.90317987660177, 378.5791578452128, 481.118086696562], \"mode\": \"markers\", \"hovertext\": [\"<a href=https://www.strava.com/activities/1513967998460193745>With Tom</a><br>2015-12-31<br>5.7 miles<br>434.37 seconds/mile\", \"<a href=https://www.strava.com/activities/1513967998460193596>TAC NYE Knole Hills + WD</a><br>2015-12-31<br>4.9 miles<br>458.76 seconds/mile\", \"<a href=https://www.strava.com/activities/1513967998460193492>WU</a><br>2015-12-31<br>2.9 miles<br>430.88 seconds/mile\", \"<a href=https://www.strava.com/activities/1513967998459227177>Morning Run</a><br>2015-12-30<br>6.5 miles<br>409.61 seconds/mile\", \"<a href=https://www.strava.com/activities/1513967998458911935>2 x {1750,1275,875} [90\\\"]</a><br>2015-12-29<br>8.1 miles<br>370.73 seconds/mile\", \"<a href=https://www.strava.com/activities/1513967998458207318>TAC Monday 'social'</a><br>2015-12-28<br>7.9 miles<br>380.28 seconds/mile\", \"<a href=https://www.strava.com/activities/1513967998457856388>Morning Run with Tom</a><br>2015-12-28<br>6.2 miles<br>418.77 seconds/mile\", \"<a href=https://www.strava.com/activities/1513967998457173524>King of the Hill - muddy!</a><br>2015-12-27<br>12.1 miles<br>415.42 seconds/mile\", \"<a href=https://www.strava.com/activities/1513967998456737308>Recovery miles</a><br>2015-12-26<br>5.7 miles<br>430.77 seconds/mile\", \"<a href=https://www.strava.com/activities/1513967998456516797>WD</a><br>2015-12-26<br>1.2 miles<br>535.73 seconds/mile\", \"<a href=https://www.strava.com/activities/1513967998456516638>TAC Boxing Day Handicap 5k: 16:30</a><br>2015-12-26<br>3.1 miles<br>319.82 seconds/mile\", \"<a href=https://www.strava.com/activities/1513967998456516431>WU</a><br>2015-12-26<br>1.8 miles<br>452.95 seconds/mile\", \"<a href=https://www.strava.com/activities/1513967998455955049>Pre-empting calories</a><br>2015-12-25<br>7.1 miles<br>393.00 seconds/mile\", \"<a href=https://www.strava.com/activities/1513967998455506521>WD</a><br>2015-12-24<br>1.0 miles<br>501.51 seconds/mile\", \"<a href=https://www.strava.com/activities/1513967998455506444>TAC Christmas Eve Relays: 9 x 700m [2'-2'30\\\"]</a><br>2015-12-24<br>4.3 miles<br>405.58 seconds/mile\", \"<a href=https://www.strava.com/activities/1513967998455506289>Very rogue long WU</a><br>2015-12-24<br>3.4 miles<br>442.61 seconds/mile\", \"<a href=https://www.strava.com/activities/1513967998455050652>Jog into town to fetch car</a><br>2015-12-23<br>8.1 miles<br>413.07 seconds/mile\", \"<a href=https://www.strava.com/activities/1513967998454364776>Morning Run</a><br>2015-12-22<br>8.0 miles<br>381.90 seconds/mile\", \"<a href=https://www.strava.com/activities/1513967998454089535>Monday evening TAC social</a><br>2015-12-21<br>5.7 miles<br>378.58 seconds/mile\", \"<a href=https://www.strava.com/activities/1513967998453882627>WD</a><br>2015-12-21<br>1.9 miles<br>481.12 seconds/mile\"], \"marker\": {\"sizemode\": \"area\", \"sizeref\": 0.1614063195788814, \"size\": [49.85980344927164, 47.36032094485847, 35.35533905932738, 51.720402163943, 54.86346689738081, 54.97272050753901, 50.80354318352215, 70.88723439378913, 49.38623289946298, 25.632011235952593, 31.480152477394387, 28.442925306655784, 52.97169055259611, 22.293496809607955, 41.86884283091664, 39.01281840626232, 57.88782255362521, 55.19963767997033, 46.46504062195577, 29.9833287011299]}, \"name\": \"hello\"}], \"name\": \"2015\"}, {\"data\": [{\"x\": [8.488386543552016, 4.956814594802839, 8.097480954925622, 9.198864130637405, 5.017025612984205, 8.700088234928604, 9.063094187679422, 6.314514024382667, 4.047870555631501, 3.0882225011495397, 2.2532839549131944, 15.080281357575155, 1.8890973939627425, 5.201076217579877, 3.017386009171462, 8.95777150881728, 8.896255607888948, 8.577864217629589, 5.004225334609219, 5.521642412417513], \"y\": [416.4958592132505, 399.6374472311894, 405.6818754726493, 406.5016418287446, 402.4356089022255, 393.48166259168704, 399.53823237338634, 412.65128205128207, 436.0173394743972, 314.4470496287612, 420.3029511621833, 406.70710133939855, 462.7199539965497, 330.1210256410256, 424.1802846599894, 377.9567872240488, 421.62431228713643, 426.65429480381755, 426.9938975855664, 406.8099089989889], \"mode\": \"markers\", \"hovertext\": [\"<a href=https://www.strava.com/activities/1513967998816658689>6 x Deakin Leas hill sprints </a><br>2016-12-31<br>8.5 miles<br>416.50 seconds/mile\", \"<a href=https://www.strava.com/activities/1513967998815918355>Afternoon Run</a><br>2016-12-30<br>5.0 miles<br>399.64 seconds/mile\", \"<a href=https://www.strava.com/activities/1513967998815566273>Trying to make easy days more interesting...</a><br>2016-12-30<br>8.1 miles<br>405.68 seconds/mile\", \"<a href=https://www.strava.com/activities/1513967998815088547>TAC Denbeigh Drive Reps: 3 x 2.3k [3']</a><br>2016-12-29<br>9.2 miles<br>406.50 seconds/mile\", \"<a href=https://www.strava.com/activities/1513967998813967975>Afternoon Run</a><br>2016-12-28<br>5.0 miles<br>402.44 seconds/mile\", \"<a href=https://www.strava.com/activities/1513967998813522257>Morning Run</a><br>2016-12-28<br>8.7 miles<br>393.48 seconds/mile\", \"<a href=https://www.strava.com/activities/1513967998812711838>Lunch Run</a><br>2016-12-27<br>9.1 miles<br>399.54 seconds/mile\", \"<a href=https://www.strava.com/activities/1513967998812063473>Afternoon Run</a><br>2016-12-26<br>6.3 miles<br>412.65 seconds/mile\", \"<a href=https://www.strava.com/activities/1513967998811731316>Lunch Run</a><br>2016-12-26<br>4.0 miles<br>436.02 seconds/mile\", \"<a href=https://www.strava.com/activities/1513967998811640331>TAC Boxing Day Handicap 5k</a><br>2016-12-26<br>3.1 miles<br>314.45 seconds/mile\", \"<a href=https://www.strava.com/activities/1513967998811588561>Morning Run</a><br>2016-12-26<br>2.3 miles<br>420.30 seconds/mile\", \"<a href=https://www.strava.com/activities/1513967998810928373>Long Run waits for no man</a><br>2016-12-25<br>15.1 miles<br>406.71 seconds/mile\", \"<a href=https://www.strava.com/activities/1513967998810153066>WD</a><br>2016-12-24<br>1.9 miles<br>462.72 seconds/mile\", \"<a href=https://www.strava.com/activities/1513967998810128074>TAC Christmas Eve Relays: 9x820m muddy loop avg 2:22ish</a><br>2016-12-24<br>5.2 miles<br>330.12 seconds/mile\", \"<a href=https://www.strava.com/activities/1513967998810049936>WU</a><br>2016-12-24<br>3.0 miles<br>424.18 seconds/mile\", \"<a href=https://www.strava.com/activities/1513967998809337248>Never had mud been so refreshing...</a><br>2016-12-23<br>9.0 miles<br>377.96 seconds/mile\", \"<a href=https://www.strava.com/activities/1513967998808420800>Morning Run</a><br>2016-12-22<br>8.9 miles<br>421.62 seconds/mile\", \"<a href=https://www.strava.com/activities/1513967998807971561>60' slog</a><br>2016-12-21<br>8.6 miles<br>426.65 seconds/mile\", \"<a href=https://www.strava.com/activities/1513967998807621063>Tired morning struggle</a><br>2016-12-21<br>5.0 miles<br>426.99 seconds/mile\", \"<a href=https://www.strava.com/activities/1513967998807178838>Scouting back ways into the university Track</a><br>2016-12-20<br>5.5 miles<br>406.81 seconds/mile\"], \"marker\": {\"sizemode\": \"area\", \"sizeref\": 0.1614063195788814, \"size\": [59.455865984778995, 44.50842616853577, 57.3149195236284, 61.14736298484179, 44.93328387732194, 58.5064099052403, 60.174745533321534, 51.048996072400875, 42.01190307520001, 31.160872901765767, 30.773365106858236, 78.3198569968051, 29.563490998188964, 41.43669871020132, 35.77708763999664, 58.18934610390462, 61.24540799113024, 60.4979338490167, 46.22769732530488, 47.391982444291145]}, \"name\": \"hello\"}], \"name\": \"2016\"}, {\"data\": [{\"x\": [7.442554090496726, 12.94412616352045, 7.117141188313222, 7.702660718058335, 8.736376402748952, 8.826723998657835, 4.947307591932097, 7.170082145475786, 11.819255098363305, 6.945890862092535, 4.123243068587123, 8.680763542818795, 4.980861719711186, 2.881491791666149, 6.506331788186461, 14.688070886201796, 8.159183267674948, 10.151304261374229, 9.947991101942412, 5.657350218101831], \"y\": [402.93940911367054, 428.58588548601864, 425.97670725251453, 407.5310205115219, 390.3322823186999, 398.5487865279841, 409.08490086426025, 404.7635814889336, 429.1573333333333, 408.2546930492136, 404.25521225822655, 401.33167082294267, 413.8184623296477, 397.66246602421546, 409.3970999745612, 404.25521225822655, 403.5456369107322, 403.4444722988218, 397.073772514187, 396.7800788954635], \"mode\": \"markers\", \"hovertext\": [\"<a href=https://www.strava.com/activities/15139679981337116201>Long strides / short reps</a><br>2017-12-31<br>7.4 miles<br>402.94 seconds/mile\", \"<a href=https://www.strava.com/activities/15139679981333045895>When there's no slides at the water park so you have to do yet another run along the Thames path</a><br>2017-12-30<br>12.9 miles<br>428.59 seconds/mile\", \"<a href=https://www.strava.com/activities/15139679981331863315>That Cotswold countryside tho \\ud83d\\udc4c</a><br>2017-12-29<br>7.1 miles<br>425.98 seconds/mile\", \"<a href=https://www.strava.com/activities/15139679981330181919>Morning chop</a><br>2017-12-28<br>7.7 miles<br>407.53 seconds/mile\", \"<a href=https://www.strava.com/activities/15139679981329333167>Picked the wrong day to start doing workouts again</a><br>2017-12-27<br>8.7 miles<br>390.33 seconds/mile\", \"<a href=https://www.strava.com/activities/15139679981327898285>Afternoon Run</a><br>2017-12-26<br>8.8 miles<br>398.55 seconds/mile\", \"<a href=https://www.strava.com/activities/15139679981326873816>Mondays are double days</a><br>2017-12-25<br>4.9 miles<br>409.08 seconds/mile\", \"<a href=https://www.strava.com/activities/15139679981326562047>Christmas morning run</a><br>2017-12-25<br>7.2 miles<br>404.76 seconds/mile\", \"<a href=https://www.strava.com/activities/15139679981325787120>Classic TAC muddy Sunday run</a><br>2017-12-24<br>11.8 miles<br>429.16 seconds/mile\", \"<a href=https://www.strava.com/activities/15139679981324569060>Afternoon Run</a><br>2017-12-23<br>6.9 miles<br>408.25 seconds/mile\", \"<a href=https://www.strava.com/activities/15139679981324568796>Lunch Run</a><br>2017-12-23<br>4.1 miles<br>404.26 seconds/mile\", \"<a href=https://www.strava.com/activities/15139679981324568631>Afternoon Run</a><br>2017-12-22<br>8.7 miles<br>401.33 seconds/mile\", \"<a href=https://www.strava.com/activities/15139679981324568352>Evening Run</a><br>2017-12-21<br>5.0 miles<br>413.82 seconds/mile\", \"<a href=https://www.strava.com/activities/15139679981324568907>Lunch Run</a><br>2017-12-21<br>2.9 miles<br>397.66 seconds/mile\", \"<a href=https://www.strava.com/activities/15139679981324568855>Lunch Run</a><br>2017-12-20<br>6.5 miles<br>409.40 seconds/mile\", \"<a href=https://www.strava.com/activities/15139679981317054518>Richmond Park long run</a><br>2017-12-17<br>14.7 miles<br>404.26 seconds/mile\", \"<a href=https://www.strava.com/activities/15139679981315994282>Nice to be back in the countryside with Beth</a><br>2017-12-16<br>8.2 miles<br>403.55 seconds/mile\", \"<a href=https://www.strava.com/activities/15139679981314692077>Different sort of December run round the common</a><br>2017-12-15<br>10.2 miles<br>403.44 seconds/mile\", \"<a href=https://www.strava.com/activities/15139679981313949413>Unconventional route choice</a><br>2017-12-14<br>9.9 miles<br>397.07 seconds/mile\", \"<a href=https://www.strava.com/activities/15139679981313948923>Morning Run</a><br>2017-12-12<br>5.7 miles<br>396.78 seconds/mile\"], \"marker\": {\"sizemode\": \"area\", \"sizeref\": 0.1614063195788814, \"size\": [54.76312628037227, 74.48489779814429, 55.06359959174482, 56.02677931132576, 58.39520528262573, 59.312730505347666, 44.98888751680797, 53.87021440462252, 71.21797525905943, 53.25410782277739, 40.82891132518721, 59.02541825349483, 45.39823785126467, 33.85262175962151, 51.61395160225576, 77.05841939723393, 57.38466694161429, 64.0, 62.849025449882674, 47.38143096192854]}, \"name\": \"hello\"}], \"name\": \"2017\"}, {\"data\": [{\"x\": [6.415052133172606, 2.7016043844060302, 2.5250723899238197, 2.5738501497508297, 5.148570221332968, 6.682490959026682, 13.457317906719526, 0.9320591049747102, 3.464836516832988, 2.4325499894366636, 1.4830303105620937, 1.35061578038202, 0.7145165098736129, 3.3795220400909693, 6.456124871065158, 4.304435358594207, 7.68352243776952, 1.5368411895559673, 4.4303876123131225, 3.0026594753128615], \"y\": [412.9689504747241, 427.9021536825312, 386.9535946140899, 440.55297016151104, 408.0476673427992, 397.5642292490118, 391.6622049160379, 249.97514756135445, 421.62431228713643, 408.2546930492136, 422.7318098240084, 407.9442332065906, 397.46604099777716, 429.38633938100315, 419.0989583333333, 418.4451378055122, 402.1339330334833, 476.2770050310743, 346.69108143041785, 412.0174091141833], \"mode\": \"markers\", \"hovertext\": [\"<a href=https://www.strava.com/activities/15139679981516810737>Morning Run</a><br>2018-04-18<br>6.4 miles<br>412.97 seconds/mile\", \"<a href=https://www.strava.com/activities/15139679981513967998>WD</a><br>2018-04-17<br>2.7 miles<br>427.90 seconds/mile\", \"<a href=https://www.strava.com/activities/15139679981513971639>Tune-up before Stanford v2</a><br>2018-04-17<br>2.5 miles<br>386.95 seconds/mile\", \"<a href=https://www.strava.com/activities/15139679981513850381>WU</a><br>2018-04-17<br>2.6 miles<br>440.55 seconds/mile\", \"<a href=https://www.strava.com/activities/15139679981512957269>Double</a><br>2018-04-16<br>5.1 miles<br>408.05 seconds/mile\", \"<a href=https://www.strava.com/activities/15139679981512295493>Gonna be huge with all this extra protein pasta and gym sessions</a><br>2018-04-16<br>6.7 miles<br>397.56 seconds/mile\", \"<a href=https://www.strava.com/activities/15139679981510969124>Post-race LR</a><br>2018-04-15<br>13.5 miles<br>391.66 seconds/mile\", \"<a href=https://www.strava.com/activities/15139679981508987282>UCLA Invite 1500</a><br>2018-04-14<br>0.9 miles<br>249.98 seconds/mile\", \"<a href=https://www.strava.com/activities/15139679981508911819>WD + \\u201cThreshold\\u201d + strides</a><br>2018-04-14<br>3.5 miles<br>421.62 seconds/mile\", \"<a href=https://www.strava.com/activities/15139679981508828715>WU</a><br>2018-04-14<br>2.4 miles<br>408.25 seconds/mile\", \"<a href=https://www.strava.com/activities/15139679981508385177>Shakeout. 30 degrees already, gonna be a hot one </a><br>2018-04-14<br>1.5 miles<br>422.73 seconds/mile\", \"<a href=https://www.strava.com/activities/15139679981506783526>WD</a><br>2018-04-13<br>1.4 miles<br>407.94 seconds/mile\", \"<a href=https://www.strava.com/activities/15139679981506783438>Pre-meet: 200-300-150</a><br>2018-04-13<br>0.7 miles<br>397.47 seconds/mile\", \"<a href=https://www.strava.com/activities/15139679981506783344>Blocks are straight here...</a><br>2018-04-13<br>3.4 miles<br>429.39 seconds/mile\", \"<a href=https://www.strava.com/activities/15139679981505099369>Pre-flight</a><br>2018-04-12<br>6.5 miles<br>419.10 seconds/mile\", \"<a href=https://www.strava.com/activities/15139679981503409467>Shakeout</a><br>2018-04-11<br>4.3 miles<br>418.45 seconds/mile\", \"<a href=https://www.strava.com/activities/15139679981503028467>Recovery run</a><br>2018-04-11<br>7.7 miles<br>402.13 seconds/mile\", \"<a href=https://www.strava.com/activities/15139679981500534375>WD</a><br>2018-04-10<br>1.5 miles<br>476.28 seconds/mile\", \"<a href=https://www.strava.com/activities/15139679981500505684>6 x 1k [90\\\"]</a><br>2018-04-10<br>4.4 miles<br>346.69 seconds/mile\", \"<a href=https://www.strava.com/activities/15139679981500440232>Morning Run</a><br>2018-04-10<br>3.0 miles<br>412.02 seconds/mile\"], \"marker\": {\"sizemode\": \"area\", \"sizeref\": 0.1614063195788814, \"size\": [51.468436929831086, 34.0, 31.25699921617557, 33.67491648096547, 45.83666654546336, 51.54609587543949, 72.60165287374662, 15.264337522473747, 38.22302970723278, 31.51190251317746, 25.03996805109783, 23.473389188611005, 16.852299546352718, 38.09199390948182, 52.01922721455981, 42.43819034784589, 55.58776843874919, 27.055498516937366, 39.191835884530846, 35.17101079013795]}, \"name\": \"hello\"}], \"name\": \"2018\"}]);}).then(function(){Plotly.animate('3f67db5e-9017-4a5c-b789-046a84c2cd72');})\n",
       "        });</script>"
      ]
     },
     "metadata": {},
     "output_type": "display_data"
    }
   ],
   "source": [
    "iplot(figure)"
   ]
  },
  {
   "cell_type": "code",
   "execution_count": null,
   "metadata": {
    "collapsed": true
   },
   "outputs": [],
   "source": []
  }
 ],
 "metadata": {
  "kernelspec": {
   "display_name": "Python 2",
   "language": "python",
   "name": "python2"
  },
  "language_info": {
   "codemirror_mode": {
    "name": "ipython",
    "version": 2
   },
   "file_extension": ".py",
   "mimetype": "text/x-python",
   "name": "python",
   "nbconvert_exporter": "python",
   "pygments_lexer": "ipython2",
   "version": "2.7.14"
  }
 },
 "nbformat": 4,
 "nbformat_minor": 2
}

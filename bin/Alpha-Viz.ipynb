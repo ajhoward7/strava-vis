{
 "cells": [
  {
   "cell_type": "markdown",
   "metadata": {},
   "source": [
    "# Strava-viz Alpha Release\n",
    "### Alex Howard & Taylor Pellerin"
   ]
  },
  {
   "cell_type": "markdown",
   "metadata": {},
   "source": [
    "For the alpha release of our visualization project, we just wanted to see what we could do with some of the geographic examples that we had discussed, as we are the most interested in this type of thing and we feel that these have a lot of potential."
   ]
  },
  {
   "cell_type": "markdown",
   "metadata": {},
   "source": [
    "## Data and prep\n",
    "For a proof of concept, we are going to use a handful of trips that alex logged this past week as data. Moving forward, we would like to use all of his logged data in one place.  \n",
    "   \n",
    "We will also simplify things and fudge the time stamps, making all trips happen starting at the same time. In the next iteration, we will deal with the inconveniences of how strava records the data (only start time, rather than a time stamp to go with each lat-lng).   \n",
    "\n",
    "This data is in JSON blobs, so first things first I'll do is turn it into a usable CSV."
   ]
  },
  {
   "cell_type": "code",
   "execution_count": 1,
   "metadata": {
    "scrolled": true
   },
   "outputs": [
    {
     "name": "stdout",
     "output_type": "stream",
     "text": [
      "Activities Processing Play.ipynb clean.pyc\r\n",
      "Alpha-Viz.ipynb                  constants.py\r\n",
      "Plotly play.ipynb                constants.pyc\r\n",
      "alex.csv                         credentials.py\r\n",
      "alex_activities_latlng.json      credentials.pyc\r\n",
      "alex_all_acts.json               process_json.py\r\n",
      "alpha-vis.py                     scrape.py\r\n",
      "clean.py\r\n"
     ]
    }
   ],
   "source": [
    "! ls"
   ]
  },
  {
   "cell_type": "code",
   "execution_count": 2,
   "metadata": {
    "collapsed": true
   },
   "outputs": [],
   "source": [
    "import json\n",
    "from pprint import pprint\n",
    "\n",
    "data = json.load(open('alex_activities_latlng.json'))"
   ]
  },
  {
   "cell_type": "markdown",
   "metadata": {},
   "source": [
    "### Subset to 5 of Alex's trips"
   ]
  },
  {
   "cell_type": "code",
   "execution_count": 3,
   "metadata": {
    "collapsed": true
   },
   "outputs": [],
   "source": [
    "sample = data[:5]"
   ]
  },
  {
   "cell_type": "code",
   "execution_count": 4,
   "metadata": {
    "collapsed": true
   },
   "outputs": [],
   "source": [
    "alex_csv = \"runner_id,lat,lon,timestamp\\n\"\n",
    "\n",
    "for i in range(len(sample)):\n",
    "    time_stamp = 0\n",
    "    lat_lng = sample[i][0][\"data\"]\n",
    "    for lat, lon in lat_lng:\n",
    "        time_stamp += 120\n",
    "        alex_csv += \",\".join([str(i),\n",
    "                              str(lat),\n",
    "                              str(lon),\n",
    "                              str(time_stamp)\n",
    "                             ]) + \"\\n\""
   ]
  },
  {
   "cell_type": "code",
   "execution_count": 5,
   "metadata": {
    "collapsed": true
   },
   "outputs": [],
   "source": [
    "f = open(\"alex.csv\", \"w\") \n",
    "f.write(alex_csv) \n",
    "f.close()"
   ]
  },
  {
   "cell_type": "markdown",
   "metadata": {},
   "source": [
    "## Visualization  \n",
    "#### Warning that this requires python 2.7 due to import errors in 3.6"
   ]
  },
  {
   "cell_type": "code",
   "execution_count": 7,
   "metadata": {},
   "outputs": [],
   "source": [
    "from geoplotlib.layers import BaseLayer\n",
    "from geoplotlib.core import BatchPainter\n",
    "import geoplotlib\n",
    "from geoplotlib.colors import colorbrewer\n",
    "from geoplotlib.utils import epoch_to_str, BoundingBox, read_csv"
   ]
  },
  {
   "cell_type": "markdown",
   "metadata": {},
   "source": [
    "### The below will show all of the instances of Alex running around"
   ]
  },
  {
   "cell_type": "code",
   "execution_count": 8,
   "metadata": {},
   "outputs": [],
   "source": [
    "class AllTrailsLayer(BaseLayer):\n",
    "\n",
    "    def __init__(self):\n",
    "        self.data = read_csv('alex.csv')\n",
    "        self.cmap = colorbrewer(self.data['runner_id'], alpha=220)\n",
    "        self.t = self.data['timestamp'].min()\n",
    "        self.painter = BatchPainter()\n",
    "\n",
    "\n",
    "    def draw(self, proj, mouse_x, mouse_y, ui_manager):\n",
    "        self.painter = BatchPainter()\n",
    "        df = self.data.where((self.data['timestamp'] > self.t) & (self.data['timestamp'] <= self.t + 15*60))\n",
    "\n",
    "        for taxi_id in set(df['runner_id']):\n",
    "            grp = df.where(df['runner_id'] == taxi_id)\n",
    "            self.painter.set_color(self.cmap[taxi_id])\n",
    "            x, y = proj.lonlat_to_screen(grp['lon'], grp['lat'])\n",
    "            self.painter.points(x, y, 10)\n",
    "\n",
    "        self.t += 2*60\n",
    "\n",
    "        if self.t > self.data['timestamp'].max():\n",
    "            self.t = self.data['timestamp'].min()\n",
    "\n",
    "        self.painter.batch_draw()\n",
    "        ui_manager.info(epoch_to_str(self.t))\n",
    "\n",
    "        \n",
    "    # this should get modified as well moving forward. Might be too small\n",
    "    def bbox(self):\n",
    "        return BoundingBox(north=37.801421, west=-122.517339, south=37.730097, east=-122.424474)"
   ]
  },
  {
   "cell_type": "markdown",
   "metadata": {},
   "source": [
    "For reasons unknown, actually runnning this kills the kernel and kills python in PyCharm as well."
   ]
  },
  {
   "cell_type": "code",
   "execution_count": 9,
   "metadata": {
    "collapsed": true
   },
   "outputs": [],
   "source": [
    "geoplotlib.add_layer(AllTrailsLayer())\n",
    "geoplotlib.show()"
   ]
  },
  {
   "cell_type": "markdown",
   "metadata": {
    "collapsed": true
   },
   "source": [
    "### The below shows one runner, with the follow cam"
   ]
  },
  {
   "cell_type": "code",
   "execution_count": 10,
   "metadata": {
    "collapsed": true
   },
   "outputs": [],
   "source": [
    "class FollowTrailsLayer(BaseLayer):\n",
    "\n",
    "    def __init__(self):\n",
    "        self.data = read_csv('alex.csv')\n",
    "        self.data = self.data.where(self.data['runner_id'] == list(set(self.data['runner_id']))[2])\n",
    "        self.t = self.data['timestamp'].min()\n",
    "        self.painter = BatchPainter()\n",
    "\n",
    "\n",
    "    def draw(self, proj, mouse_x, mouse_y, ui_manager):\n",
    "        self.painter = BatchPainter()\n",
    "        self.painter.set_color([0,0,255])\n",
    "        df = self.data.where((self.data['timestamp'] > self.t) & (self.data['timestamp'] <= self.t + 30*60))\n",
    "        proj.fit(BoundingBox.from_points(lons=df['lon'], lats=df['lat']), max_zoom=14)\n",
    "        x, y = proj.lonlat_to_screen(df['lon'], df['lat'])\n",
    "        self.painter.linestrip(x, y, 10)\n",
    "        self.t += 30\n",
    "        if self.t > self.data['timestamp'].max():\n",
    "            self.t = self.data['timestamp'].min()\n",
    "\n",
    "        self.painter.batch_draw()\n",
    "        ui_manager.info(epoch_to_str(self.t))"
   ]
  },
  {
   "cell_type": "code",
   "execution_count": 11,
   "metadata": {
    "collapsed": true
   },
   "outputs": [],
   "source": [
    "geoplotlib.add_layer(FollowTrailsLayer())\n",
    "geoplotlib.show()"
   ]
  },
  {
   "cell_type": "markdown",
   "metadata": {},
   "source": [
    "### For reasons unknown, I am having issues getting either viz to run  \n",
    "So instead, I will make a sample plotly graphic of Alex's trip data"
   ]
  },
  {
   "cell_type": "code",
   "execution_count": 12,
   "metadata": {
    "collapsed": true
   },
   "outputs": [],
   "source": [
    "import numpy as np\n",
    "import pandas as pd\n",
    "import plotly.plotly as py\n",
    "\n",
    "import matplotlib.pyplot as plt\n",
    "\n",
    "\n",
    "import plotly.graph_objs as go\n",
    "\n",
    "% matplotlib inline"
   ]
  },
  {
   "cell_type": "code",
   "execution_count": 13,
   "metadata": {
    "collapsed": true
   },
   "outputs": [],
   "source": [
    "alex_data = pd.read_csv('alex.csv')"
   ]
  },
  {
   "cell_type": "code",
   "execution_count": 14,
   "metadata": {},
   "outputs": [
    {
     "data": {
      "text/html": [
       "<div>\n",
       "<style>\n",
       "    .dataframe thead tr:only-child th {\n",
       "        text-align: right;\n",
       "    }\n",
       "\n",
       "    .dataframe thead th {\n",
       "        text-align: left;\n",
       "    }\n",
       "\n",
       "    .dataframe tbody tr th {\n",
       "        vertical-align: top;\n",
       "    }\n",
       "</style>\n",
       "<table border=\"1\" class=\"dataframe\">\n",
       "  <thead>\n",
       "    <tr style=\"text-align: right;\">\n",
       "      <th></th>\n",
       "      <th>runner_id</th>\n",
       "      <th>lat</th>\n",
       "      <th>lon</th>\n",
       "      <th>timestamp</th>\n",
       "    </tr>\n",
       "  </thead>\n",
       "  <tbody>\n",
       "    <tr>\n",
       "      <th>0</th>\n",
       "      <td>0</td>\n",
       "      <td>37.777265</td>\n",
       "      <td>-122.449372</td>\n",
       "      <td>120</td>\n",
       "    </tr>\n",
       "    <tr>\n",
       "      <th>1</th>\n",
       "      <td>0</td>\n",
       "      <td>37.777217</td>\n",
       "      <td>-122.449621</td>\n",
       "      <td>240</td>\n",
       "    </tr>\n",
       "    <tr>\n",
       "      <th>2</th>\n",
       "      <td>0</td>\n",
       "      <td>37.777140</td>\n",
       "      <td>-122.449857</td>\n",
       "      <td>360</td>\n",
       "    </tr>\n",
       "    <tr>\n",
       "      <th>3</th>\n",
       "      <td>0</td>\n",
       "      <td>37.777065</td>\n",
       "      <td>-122.450070</td>\n",
       "      <td>480</td>\n",
       "    </tr>\n",
       "    <tr>\n",
       "      <th>4</th>\n",
       "      <td>0</td>\n",
       "      <td>37.777036</td>\n",
       "      <td>-122.450320</td>\n",
       "      <td>600</td>\n",
       "    </tr>\n",
       "  </tbody>\n",
       "</table>\n",
       "</div>"
      ],
      "text/plain": [
       "   runner_id        lat         lon  timestamp\n",
       "0          0  37.777265 -122.449372        120\n",
       "1          0  37.777217 -122.449621        240\n",
       "2          0  37.777140 -122.449857        360\n",
       "3          0  37.777065 -122.450070        480\n",
       "4          0  37.777036 -122.450320        600"
      ]
     },
     "execution_count": 14,
     "metadata": {},
     "output_type": "execute_result"
    }
   ],
   "source": [
    "alex_data.head()"
   ]
  },
  {
   "cell_type": "markdown",
   "metadata": {},
   "source": [
    "### With this sample we can...\n",
    "Plot Alex's lat, long coordinates for each trip as x, y coordinates"
   ]
  },
  {
   "cell_type": "code",
   "execution_count": 15,
   "metadata": {},
   "outputs": [
    {
     "data": {
      "text/plain": [
       "array([   0.      ,   37.777265, -122.449372,  120.      ])"
      ]
     },
     "execution_count": 15,
     "metadata": {},
     "output_type": "execute_result"
    }
   ],
   "source": [
    "alex_data.values[0]"
   ]
  },
  {
   "cell_type": "code",
   "execution_count": 16,
   "metadata": {},
   "outputs": [
    {
     "data": {
      "text/html": [
       "<iframe id=\"igraph\" scrolling=\"no\" style=\"border:none;\" seamless=\"seamless\" src=\"https://plot.ly/~ajhoward7/79.embed\" height=\"525px\" width=\"100%\"></iframe>"
      ],
      "text/plain": [
       "<plotly.tools.PlotlyDisplay object>"
      ]
     },
     "execution_count": 16,
     "metadata": {},
     "output_type": "execute_result"
    }
   ],
   "source": [
    "traces = []\n",
    "for rid in list(set(list(alex_data.runner_id.values))):\n",
    "    df = alex_data.loc[alex_data.runner_id == rid].sort_values(\"timestamp\")\n",
    "    \n",
    "    trace = go.Scatter(x = df.lon, \n",
    "                       y = df.lat,\n",
    "                       mode = 'lines', \n",
    "                       name='trip {}'.format(rid),\n",
    "                       text = ['trip # {}<br>lon: {}<br>lat: {}'.format(int(row[0]),\n",
    "                                                                        row[1], \n",
    "                                                                        row[2])\n",
    "                               for row in df.values],\n",
    "                       hoverinfo = 'text'\n",
    "                       )\n",
    "    \n",
    "    \n",
    "    traces.append(trace)\n",
    "py.iplot(traces)"
   ]
  },
  {
   "cell_type": "markdown",
   "metadata": {},
   "source": [
    "### For next time, we will:  \n",
    "1) Get geoplotlib working, or apply background images to this plotly map  \n",
    "2) Implement the summary statistic visualizations, as discussed in the proposal"
   ]
  },
  {
   "cell_type": "code",
   "execution_count": null,
   "metadata": {
    "collapsed": true
   },
   "outputs": [],
   "source": []
  }
 ],
 "metadata": {
  "kernelspec": {
   "display_name": "Python 2",
   "language": "python",
   "name": "python2"
  },
  "language_info": {
   "codemirror_mode": {
    "name": "ipython",
    "version": 2
   },
   "file_extension": ".py",
   "mimetype": "text/x-python",
   "name": "python",
   "nbconvert_exporter": "python",
   "pygments_lexer": "ipython2",
   "version": "2.7.14"
  }
 },
 "nbformat": 4,
 "nbformat_minor": 2
}
